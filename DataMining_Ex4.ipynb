{
  "cells": [
    {
      "cell_type": "markdown",
      "metadata": {
        "id": "view-in-github",
        "colab_type": "text"
      },
      "source": [
        "<a href=\"https://colab.research.google.com/github/IamArmanNikkhah/DataMining-Absenteeism_at_Work/blob/main/DataMining_Ex4.ipynb\" target=\"_parent\"><img src=\"https://colab.research.google.com/assets/colab-badge.svg\" alt=\"Open In Colab\"/></a>"
      ]
    },
    {
      "cell_type": "markdown",
      "metadata": {
        "id": "tOiyB4XV1AlW"
      },
      "source": [
        "**Importing Packages**"
      ]
    },
    {
      "cell_type": "code",
      "execution_count": null,
      "metadata": {
        "id": "6uzGOpJS01bG"
      },
      "outputs": [],
      "source": [
        "import pandas as pd\n",
        "import numpy as np\n",
        "import matplotlib.pyplot as plt\n",
        "from sklearn.ensemble import ExtraTreesClassifier\n",
        "from sklearn.decomposition import PCA\n",
        "import math"
      ]
    },
    {
      "cell_type": "markdown",
      "metadata": {
        "id": "Z3BQIEIbDe7H"
      },
      "source": [
        "**Cloning required files**"
      ]
    },
    {
      "cell_type": "code",
      "execution_count": null,
      "metadata": {
        "id": "YSvirQMPDeZt"
      },
      "outputs": [],
      "source": [
        "!git clone https://github.com/IamArmanNikkhah/DataMining-Preprocess-Absenteeism_at_Work.git"
      ]
    },
    {
      "cell_type": "markdown",
      "metadata": {
        "id": "bJrxEXZR4NRD"
      },
      "source": [
        "**Load CSV file**"
      ]
    },
    {
      "cell_type": "code",
      "execution_count": null,
      "metadata": {
        "id": "xu4asA7J4WrL"
      },
      "outputs": [],
      "source": [
        "df = pd.read_csv('/content/DataMining-Preprocess-Absenteeism_at_Work/Absenteeism_at_work.csv')"
      ]
    },
    {
      "cell_type": "markdown",
      "metadata": {
        "id": "5UZ07Fvm8Gfp"
      },
      "source": [
        "# Data Pre-processing"
      ]
    },
    {
      "cell_type": "markdown",
      "source": [
        "# Data cleaning"
      ],
      "metadata": {
        "id": "hS_nutBWMhLy"
      }
    },
    {
      "cell_type": "markdown",
      "metadata": {
        "id": "yMhRaRKf8SZo"
      },
      "source": [
        "**Finding empty cells  in each row**"
      ]
    },
    {
      "cell_type": "code",
      "execution_count": null,
      "metadata": {
        "colab": {
          "base_uri": "https://localhost:8080/"
        },
        "id": "zUuRAqN97Cdt",
        "outputId": "4257fa91-b767-41b9-bcba-3869a9e5bdc9"
      },
      "outputs": [
        {
          "output_type": "execute_result",
          "data": {
            "text/plain": [
              "[('Reason for absence', 3),\n",
              " ('Month of absence', 1),\n",
              " ('Transportation expense', 7),\n",
              " ('Distance from Residence to Work', 3),\n",
              " ('Service time', 3),\n",
              " ('Age', 3),\n",
              " ('Work load Average/day', 10),\n",
              " ('Hit target', 6),\n",
              " ('Disciplinary failure', 6),\n",
              " ('Education', 10),\n",
              " ('Son', 6),\n",
              " ('Social drinker', 3),\n",
              " ('Social smoker', 4),\n",
              " ('Pet', 2),\n",
              " ('Weight', 1),\n",
              " ('Height', 14),\n",
              " ('Body mass index', 31),\n",
              " ('Absenteeism time in hours', 22)]"
            ]
          },
          "metadata": {},
          "execution_count": 4
        }
      ],
      "source": [
        "def empty_cells(df):\n",
        "    \"\"\"\n",
        "    Returns a list of columns with empty cells and the number of them\n",
        "    \"\"\"\n",
        "    empty_cells = []\n",
        "    for col in df.columns:\n",
        "        if df[col].isnull().sum() > 0:\n",
        "            empty_cells.append((col, df[col].isnull().sum()))\n",
        "    return empty_cells\n",
        "\n",
        "empty_cells(df)"
      ]
    },
    {
      "cell_type": "markdown",
      "metadata": {
        "id": "0KXERqAC8iPK"
      },
      "source": [
        "**Remove rows that have empty cells in \"Absenteeism time in hours\" column**"
      ]
    },
    {
      "cell_type": "code",
      "execution_count": null,
      "metadata": {
        "id": "DhAVOuc28zQW"
      },
      "outputs": [],
      "source": [
        "def drop_empty_rows(df, column):\n",
        "    return df.dropna(subset=[column])\n",
        "df = drop_empty_rows(df, 'Absenteeism time in hours')"
      ]
    },
    {
      "cell_type": "markdown",
      "metadata": {
        "id": "H7GU5Ranblvz"
      },
      "source": [
        "**Calculating null BMI values (if applicable)**\n"
      ]
    },
    {
      "cell_type": "code",
      "execution_count": null,
      "metadata": {
        "colab": {
          "base_uri": "https://localhost:8080/"
        },
        "id": "s5cilJn9oqN9",
        "outputId": "09fa3534-bc3c-4c6e-b656-3ca9b23c9262"
      },
      "outputs": [
        {
          "output_type": "execute_result",
          "data": {
            "text/plain": [
              "2"
            ]
          },
          "metadata": {},
          "execution_count": 6
        }
      ],
      "source": [
        "# find empty cells in the BMI column\n",
        "empty_cell = df['Body mass index'].isnull()\n",
        "\n",
        "# calculate BMI according to Weight and Height columns if applicable\n",
        "df.loc[empty_cell, 'Body mass index'] = df.loc[empty_cell, 'Weight'] / (df.loc[empty_cell, 'Height']/100)**2\n",
        "\n",
        "# check if there are still empty cells in the BMI column\n",
        "df['Body mass index'].isnull().sum()\n"
      ]
    },
    {
      "cell_type": "code",
      "execution_count": null,
      "metadata": {
        "colab": {
          "base_uri": "https://localhost:8080/",
          "height": 238
        },
        "id": "ZCLnaIZDlgZD",
        "outputId": "93f33d89-f1b2-4b1b-fc29-10f526256c66"
      },
      "outputs": [
        {
          "output_type": "execute_result",
          "data": {
            "text/plain": [
              "     ID  Reason for absence  Month of absence  Day of the week  Seasons  \\\n",
              "272  11                19.0               9.0                4        1   \n",
              "273   5                 0.0               9.0                5        1   \n",
              "\n",
              "     Transportation expense  Distance from Residence to Work  Service time  \\\n",
              "272                   289.0                             36.0          13.0   \n",
              "273                   235.0                             20.0          13.0   \n",
              "\n",
              "      Age Work load Average/day  ...  Disciplinary failure  Education  Son  \\\n",
              "272  33.0               294,217  ...                   0.0        1.0  2.0   \n",
              "273  43.0               294,217  ...                   1.0        1.0  1.0   \n",
              "\n",
              "     Social drinker  Social smoker  Pet  Weight  Height  Body mass index  \\\n",
              "272             1.0            NaN  1.0    90.0     NaN              NaN   \n",
              "273             1.0            0.0  0.0   106.0     NaN              NaN   \n",
              "\n",
              "     Absenteeism time in hours  \n",
              "272                       24.0  \n",
              "273                        0.0  \n",
              "\n",
              "[2 rows x 21 columns]"
            ],
            "text/html": [
              "\n",
              "  <div id=\"df-ff935bf2-70ff-4c83-94d9-4236c7258c72\">\n",
              "    <div class=\"colab-df-container\">\n",
              "      <div>\n",
              "<style scoped>\n",
              "    .dataframe tbody tr th:only-of-type {\n",
              "        vertical-align: middle;\n",
              "    }\n",
              "\n",
              "    .dataframe tbody tr th {\n",
              "        vertical-align: top;\n",
              "    }\n",
              "\n",
              "    .dataframe thead th {\n",
              "        text-align: right;\n",
              "    }\n",
              "</style>\n",
              "<table border=\"1\" class=\"dataframe\">\n",
              "  <thead>\n",
              "    <tr style=\"text-align: right;\">\n",
              "      <th></th>\n",
              "      <th>ID</th>\n",
              "      <th>Reason for absence</th>\n",
              "      <th>Month of absence</th>\n",
              "      <th>Day of the week</th>\n",
              "      <th>Seasons</th>\n",
              "      <th>Transportation expense</th>\n",
              "      <th>Distance from Residence to Work</th>\n",
              "      <th>Service time</th>\n",
              "      <th>Age</th>\n",
              "      <th>Work load Average/day</th>\n",
              "      <th>...</th>\n",
              "      <th>Disciplinary failure</th>\n",
              "      <th>Education</th>\n",
              "      <th>Son</th>\n",
              "      <th>Social drinker</th>\n",
              "      <th>Social smoker</th>\n",
              "      <th>Pet</th>\n",
              "      <th>Weight</th>\n",
              "      <th>Height</th>\n",
              "      <th>Body mass index</th>\n",
              "      <th>Absenteeism time in hours</th>\n",
              "    </tr>\n",
              "  </thead>\n",
              "  <tbody>\n",
              "    <tr>\n",
              "      <th>272</th>\n",
              "      <td>11</td>\n",
              "      <td>19.0</td>\n",
              "      <td>9.0</td>\n",
              "      <td>4</td>\n",
              "      <td>1</td>\n",
              "      <td>289.0</td>\n",
              "      <td>36.0</td>\n",
              "      <td>13.0</td>\n",
              "      <td>33.0</td>\n",
              "      <td>294,217</td>\n",
              "      <td>...</td>\n",
              "      <td>0.0</td>\n",
              "      <td>1.0</td>\n",
              "      <td>2.0</td>\n",
              "      <td>1.0</td>\n",
              "      <td>NaN</td>\n",
              "      <td>1.0</td>\n",
              "      <td>90.0</td>\n",
              "      <td>NaN</td>\n",
              "      <td>NaN</td>\n",
              "      <td>24.0</td>\n",
              "    </tr>\n",
              "    <tr>\n",
              "      <th>273</th>\n",
              "      <td>5</td>\n",
              "      <td>0.0</td>\n",
              "      <td>9.0</td>\n",
              "      <td>5</td>\n",
              "      <td>1</td>\n",
              "      <td>235.0</td>\n",
              "      <td>20.0</td>\n",
              "      <td>13.0</td>\n",
              "      <td>43.0</td>\n",
              "      <td>294,217</td>\n",
              "      <td>...</td>\n",
              "      <td>1.0</td>\n",
              "      <td>1.0</td>\n",
              "      <td>1.0</td>\n",
              "      <td>1.0</td>\n",
              "      <td>0.0</td>\n",
              "      <td>0.0</td>\n",
              "      <td>106.0</td>\n",
              "      <td>NaN</td>\n",
              "      <td>NaN</td>\n",
              "      <td>0.0</td>\n",
              "    </tr>\n",
              "  </tbody>\n",
              "</table>\n",
              "<p>2 rows × 21 columns</p>\n",
              "</div>\n",
              "      <button class=\"colab-df-convert\" onclick=\"convertToInteractive('df-ff935bf2-70ff-4c83-94d9-4236c7258c72')\"\n",
              "              title=\"Convert this dataframe to an interactive table.\"\n",
              "              style=\"display:none;\">\n",
              "        \n",
              "  <svg xmlns=\"http://www.w3.org/2000/svg\" height=\"24px\"viewBox=\"0 0 24 24\"\n",
              "       width=\"24px\">\n",
              "    <path d=\"M0 0h24v24H0V0z\" fill=\"none\"/>\n",
              "    <path d=\"M18.56 5.44l.94 2.06.94-2.06 2.06-.94-2.06-.94-.94-2.06-.94 2.06-2.06.94zm-11 1L8.5 8.5l.94-2.06 2.06-.94-2.06-.94L8.5 2.5l-.94 2.06-2.06.94zm10 10l.94 2.06.94-2.06 2.06-.94-2.06-.94-.94-2.06-.94 2.06-2.06.94z\"/><path d=\"M17.41 7.96l-1.37-1.37c-.4-.4-.92-.59-1.43-.59-.52 0-1.04.2-1.43.59L10.3 9.45l-7.72 7.72c-.78.78-.78 2.05 0 2.83L4 21.41c.39.39.9.59 1.41.59.51 0 1.02-.2 1.41-.59l7.78-7.78 2.81-2.81c.8-.78.8-2.07 0-2.86zM5.41 20L4 18.59l7.72-7.72 1.47 1.35L5.41 20z\"/>\n",
              "  </svg>\n",
              "      </button>\n",
              "      \n",
              "  <style>\n",
              "    .colab-df-container {\n",
              "      display:flex;\n",
              "      flex-wrap:wrap;\n",
              "      gap: 12px;\n",
              "    }\n",
              "\n",
              "    .colab-df-convert {\n",
              "      background-color: #E8F0FE;\n",
              "      border: none;\n",
              "      border-radius: 50%;\n",
              "      cursor: pointer;\n",
              "      display: none;\n",
              "      fill: #1967D2;\n",
              "      height: 32px;\n",
              "      padding: 0 0 0 0;\n",
              "      width: 32px;\n",
              "    }\n",
              "\n",
              "    .colab-df-convert:hover {\n",
              "      background-color: #E2EBFA;\n",
              "      box-shadow: 0px 1px 2px rgba(60, 64, 67, 0.3), 0px 1px 3px 1px rgba(60, 64, 67, 0.15);\n",
              "      fill: #174EA6;\n",
              "    }\n",
              "\n",
              "    [theme=dark] .colab-df-convert {\n",
              "      background-color: #3B4455;\n",
              "      fill: #D2E3FC;\n",
              "    }\n",
              "\n",
              "    [theme=dark] .colab-df-convert:hover {\n",
              "      background-color: #434B5C;\n",
              "      box-shadow: 0px 1px 3px 1px rgba(0, 0, 0, 0.15);\n",
              "      filter: drop-shadow(0px 1px 2px rgba(0, 0, 0, 0.3));\n",
              "      fill: #FFFFFF;\n",
              "    }\n",
              "  </style>\n",
              "\n",
              "      <script>\n",
              "        const buttonEl =\n",
              "          document.querySelector('#df-ff935bf2-70ff-4c83-94d9-4236c7258c72 button.colab-df-convert');\n",
              "        buttonEl.style.display =\n",
              "          google.colab.kernel.accessAllowed ? 'block' : 'none';\n",
              "\n",
              "        async function convertToInteractive(key) {\n",
              "          const element = document.querySelector('#df-ff935bf2-70ff-4c83-94d9-4236c7258c72');\n",
              "          const dataTable =\n",
              "            await google.colab.kernel.invokeFunction('convertToInteractive',\n",
              "                                                     [key], {});\n",
              "          if (!dataTable) return;\n",
              "\n",
              "          const docLinkHtml = 'Like what you see? Visit the ' +\n",
              "            '<a target=\"_blank\" href=https://colab.research.google.com/notebooks/data_table.ipynb>data table notebook</a>'\n",
              "            + ' to learn more about interactive tables.';\n",
              "          element.innerHTML = '';\n",
              "          dataTable['output_type'] = 'display_data';\n",
              "          await google.colab.output.renderOutput(dataTable, element);\n",
              "          const docLink = document.createElement('div');\n",
              "          docLink.innerHTML = docLinkHtml;\n",
              "          element.appendChild(docLink);\n",
              "        }\n",
              "      </script>\n",
              "    </div>\n",
              "  </div>\n",
              "  "
            ]
          },
          "metadata": {},
          "execution_count": 7
        }
      ],
      "source": [
        "df[df['Body mass index'].isnull()]"
      ]
    },
    {
      "cell_type": "markdown",
      "metadata": {
        "id": "2HIUs17wpid6"
      },
      "source": [
        "**Delete rows that their BMI can't be calculated**\n"
      ]
    },
    {
      "cell_type": "code",
      "execution_count": null,
      "metadata": {
        "id": "FkEfBe8bpQ62"
      },
      "outputs": [],
      "source": [
        "df = df.dropna(subset=['Body mass index'])"
      ]
    },
    {
      "cell_type": "markdown",
      "metadata": {
        "id": "UTjXBZ6Ja6CZ"
      },
      "source": [
        "**converting 'Work load Average/day' data cells from string to integer**"
      ]
    },
    {
      "cell_type": "code",
      "execution_count": null,
      "metadata": {
        "id": "G1jJhl6SbE0R"
      },
      "outputs": [],
      "source": [
        "def convert_to_int(df, column_name):\n",
        "    df[column_name] = df[column_name].apply(lambda x: float(str(x).replace(',', '')))\n",
        "    return df\n",
        "df = convert_to_int(df, 'Work load Average/day')"
      ]
    },
    {
      "cell_type": "markdown",
      "metadata": {
        "id": "6UXRJFE9SVFT"
      },
      "source": [
        "**Filling empty cells in \"Transportation expense\" , \"Distance from Residence to Work\", \"Service time\", \"Age\", \"Work load Average/day\", \"HIT target\", \"Son\", \"Pet\" , \"Weight\" with mean**"
      ]
    },
    {
      "cell_type": "code",
      "execution_count": null,
      "metadata": {
        "colab": {
          "base_uri": "https://localhost:8080/"
        },
        "id": "DwbA4qiCfbJa",
        "outputId": "5f6e4545-4b11-47d1-ab2f-69092bc66e1f"
      },
      "outputs": [
        {
          "output_type": "execute_result",
          "data": {
            "text/plain": [
              "[('Reason for absence', 3),\n",
              " ('Month of absence', 1),\n",
              " ('Transportation expense', 6),\n",
              " ('Distance from Residence to Work', 3),\n",
              " ('Service time', 3),\n",
              " ('Age', 2),\n",
              " ('Work load Average/day', 8),\n",
              " ('Hit target', 6),\n",
              " ('Disciplinary failure', 5),\n",
              " ('Education', 10),\n",
              " ('Son', 6),\n",
              " ('Social drinker', 3),\n",
              " ('Social smoker', 3),\n",
              " ('Pet', 2),\n",
              " ('Weight', 1),\n",
              " ('Height', 12)]"
            ]
          },
          "metadata": {},
          "execution_count": 9
        }
      ],
      "source": [
        "empty_cells(df)"
      ]
    },
    {
      "cell_type": "code",
      "execution_count": null,
      "metadata": {
        "id": "WBT1UgE2aMOL"
      },
      "outputs": [],
      "source": [
        "def fillna_mean(df, column_name):\n",
        "    \"\"\"\n",
        "    Get a column from a dataframe and fill empty rows with the average of that column\n",
        "    \"\"\"\n",
        "    column = df[column_name]\n",
        "    df[column_name] = column.fillna(column.mean())\n",
        "    return df\n",
        "\n",
        "def fill_null_with_normal_distribution(df, column_name):\n",
        "    \"\"\"\n",
        "    Fill null cells in a column with normal distribution\n",
        "    \"\"\"\n",
        "    mean = df[column_name].mean()\n",
        "    std = df[column_name].std()\n",
        "    null_count = df[column_name].isnull().sum()\n",
        "    random_list = np.random.randn(null_count)\n",
        "    random_list = random_list * std + mean\n",
        "    random_list = random_list.round().astype(int)\n",
        "    df.loc[df[column_name].isnull(), column_name] = random_list\n",
        "    return df\n",
        "\n",
        "def fill_null(df):\n",
        "    for col in df.columns:\n",
        "        if df[col].isnull().sum() > 0:\n",
        "            if df[col].skew() > 0.65 or df[col].skew() < -0.65:\n",
        "                df[col].fillna(df[col].median(), inplace=True)\n",
        "            else:\n",
        "                df[col].fillna(df[col].mean(), inplace=True)\n",
        "    return df\n",
        "\n",
        "df = fill_null(df)"
      ]
    },
    {
      "cell_type": "markdown",
      "metadata": {
        "id": "ndHqgD08d0R4"
      },
      "source": [
        "**Finding outliners and noises in data and removing them**"
      ]
    },
    {
      "cell_type": "code",
      "execution_count": null,
      "metadata": {
        "id": "iDFqQJ89d0qH"
      },
      "outputs": [],
      "source": [
        "def find_outliners(df, col):\n",
        "    q1 = df[col].quantile(0.25)\n",
        "    q3 = df[col].quantile(0.75)\n",
        "    iqr = q3 - q1\n",
        "    lower_bound = q1 - (1.5 * iqr)\n",
        "    upper_bound = q3 + (1.5 * iqr)\n",
        "    return df[(df[col] < lower_bound) | (df[col] > upper_bound)]\n",
        "\n",
        "Absenteeism_outliners   = find_outliners(df, 'Absenteeism time in hours')\n",
        "df.drop(Absenteeism_outliners.index.tolist(),  inplace=True)\n",
        "\n",
        "load_outliners          = find_outliners(df, 'Work load Average/day')\n",
        "df.drop(load_outliners.index.tolist(),         inplace=True)\n",
        "\n",
        "Service_outliners       = find_outliners(df, 'Service time')\n",
        "df.drop(Service_outliners.index.tolist(),      inplace=True)\n",
        "\n",
        "Age_outliners           = find_outliners(df, 'Age')\n",
        "df.drop(Age_outliners.index.tolist(),          inplace=True)\n",
        "\n",
        "Transportation_outliners= find_outliners(df, 'Transportation expense')\n",
        "df.drop(Transportation_outliners.index.tolist(),  inplace=True)\n",
        "\n",
        "Distance_outliners= find_outliners(df, 'Distance from Residence to Work')\n",
        "df.drop(Distance_outliners.index.tolist(),  inplace=True)\n",
        "\n",
        "Hit_outliners= find_outliners(df, 'Hit target')\n",
        "df.drop(Hit_outliners.index.tolist(),  inplace=True)\n",
        "\n",
        "Son_outliners= find_outliners(df, 'Son')\n",
        "df.drop(Son_outliners.index.tolist(),  inplace=True)\n",
        "\n",
        "Height_outliners= find_outliners(df, 'Height')\n",
        "df.drop(Height_outliners.index.tolist(),  inplace=True)"
      ]
    },
    {
      "cell_type": "markdown",
      "metadata": {
        "id": "azLhibVUTdIt"
      },
      "source": [
        "**Finding a list of columns that are highly correlated to each other.**"
      ]
    },
    {
      "cell_type": "code",
      "execution_count": null,
      "metadata": {
        "colab": {
          "base_uri": "https://localhost:8080/"
        },
        "id": "OHdujGWKTdqj",
        "outputId": "5979c5b3-bcfd-4b1e-a6bb-86b2e3f9d6ed"
      },
      "outputs": [
        {
          "output_type": "execute_result",
          "data": {
            "text/plain": [
              "['Body mass index']"
            ]
          },
          "metadata": {},
          "execution_count": 12
        }
      ],
      "source": [
        "def highly_correlated(df, threshold=0.8):\n",
        "    \"\"\"\n",
        "    Returns a list of columns that are highly correlated to each other.\n",
        "    \"\"\"\n",
        "    corr_matrix = df.corr().abs()\n",
        "    upper = corr_matrix.where(np.triu(np.ones(corr_matrix.shape), k=1).astype(bool))\n",
        "    to_drop = [column for column in upper.columns if any(upper[column] > threshold)]\n",
        "    return to_drop\n",
        "\n",
        "highly_correlated(df, 0.8)"
      ]
    },
    {
      "cell_type": "markdown",
      "metadata": {
        "id": "ugqtyz12W2RV"
      },
      "source": [
        "According to the correlation matrix Weight and BMI are highly coorelated so we can ommit Weight column"
      ]
    },
    {
      "cell_type": "code",
      "execution_count": null,
      "metadata": {
        "id": "JVFjuP6pXGAg"
      },
      "outputs": [],
      "source": [
        "df.drop('Weight', axis=1, inplace=True)"
      ]
    },
    {
      "cell_type": "markdown",
      "metadata": {
        "id": "BL9BSiP4Pmg0"
      },
      "source": [
        "**Removing least coorelated columns with the 'Absenteeism time in hours' column**"
      ]
    },
    {
      "cell_type": "code",
      "execution_count": null,
      "metadata": {
        "colab": {
          "base_uri": "https://localhost:8080/"
        },
        "id": "HGm03LDlPpdp",
        "outputId": "15bad5ca-fb0f-42fa-f9c1-893878fa0c1a"
      },
      "outputs": [
        {
          "output_type": "execute_result",
          "data": {
            "text/plain": [
              "Education                          0.001619\n",
              "Hit target                         0.003810\n",
              "Pet                                0.008257\n",
              "Distance from Residence to Work    0.010023\n",
              "Service time                       0.010696\n",
              "Name: Absenteeism time in hours, dtype: float64"
            ]
          },
          "metadata": {},
          "execution_count": 14
        }
      ],
      "source": [
        "def least_correlated(df, col):\n",
        "    corr_matrix = df.corr().abs()\n",
        "    corr_col = corr_matrix[col].sort_values(ascending=True)\n",
        "    return corr_col[:5]\n",
        "\n",
        "least_correlated(df, 'Absenteeism time in hours')"
      ]
    },
    {
      "cell_type": "markdown",
      "metadata": {
        "id": "JVPgMuBePwKz"
      },
      "source": [
        "Least coorelated columns have really low coorelation with the target, so we can remove them"
      ]
    },
    {
      "cell_type": "code",
      "source": [
        "def remove_columns(df, col_list):\n",
        "    df.drop(col_list, axis=1, inplace=True)\n",
        "    return df\n",
        "\n",
        "not_coorelated_columns =  least_correlated(df, 'Absenteeism time in hours').axes[0]\n",
        "not_coorelated_columns =  [not_coorelated_columns[i] for i in range(3)]\n",
        "df                     =  remove_columns(df, not_coorelated_columns)"
      ],
      "metadata": {
        "id": "Mn1QNjKXpe_c"
      },
      "execution_count": null,
      "outputs": []
    },
    {
      "cell_type": "markdown",
      "source": [
        "**Remove noises using binnig method**"
      ],
      "metadata": {
        "id": "FRBNFJyDFUiT"
      }
    },
    {
      "cell_type": "code",
      "source": [
        "def binning(df, col, bins, labels):\n",
        "    \"\"\"\n",
        "    This function takes a dataframe, a column name, bins and labels as input.\n",
        "    It returns a dataframe with the binned column.\n",
        "    \"\"\"\n",
        "    df[col] = pd.cut(df[col], bins=bins, labels=labels)\n",
        "    return df\n"
      ],
      "metadata": {
        "id": "o6Bm0TreINd4"
      },
      "execution_count": null,
      "outputs": []
    },
    {
      "cell_type": "code",
      "source": [
        "def get_stats(data, col):\n",
        "    mean = data[col].mean()\n",
        "    max = data[col].max()\n",
        "    min = data[col].min()\n",
        "    median = data[col].median()\n",
        "    std = data[col].std()\n",
        "    return mean, max, min, median, std"
      ],
      "metadata": {
        "id": "sbtCxDomF8dj"
      },
      "execution_count": null,
      "outputs": []
    },
    {
      "cell_type": "markdown",
      "source": [
        "Son :"
      ],
      "metadata": {
        "id": "kzmJTxj7IStZ"
      }
    },
    {
      "cell_type": "code",
      "source": [
        "mean, max, min, median, std = get_stats(df, 'Son')\n",
        "print(f'mean = {mean}, max = {max}, min = {min}, median = {median}, std = {std}')\n",
        "df['Son'].plot(kind='hist')"
      ],
      "metadata": {
        "colab": {
          "base_uri": "https://localhost:8080/",
          "height": 301
        },
        "id": "zE9eBwpjGBha",
        "outputId": "cedcae08-311a-45b1-f14b-27ecb149e0eb"
      },
      "execution_count": null,
      "outputs": [
        {
          "output_type": "stream",
          "name": "stdout",
          "text": [
            "mean = 1.0673267326732674, max = 4.0, min = 0.0, median = 1.0, std = 1.1423580554117456\n"
          ]
        },
        {
          "output_type": "execute_result",
          "data": {
            "text/plain": [
              "<matplotlib.axes._subplots.AxesSubplot at 0x7f44efb13e50>"
            ]
          },
          "metadata": {},
          "execution_count": 18
        },
        {
          "output_type": "display_data",
          "data": {
            "text/plain": [
              "<Figure size 432x288 with 1 Axes>"
            ],
            "image/png": "[encoded data removed]"
          },
          "metadata": {
            "needs_background": "light"
          }
        }
      ]
    },
    {
      "cell_type": "code",
      "source": [
        "df = binning(df, 'Son' , bins=[-1,0,2.5,4], labels=['no child', 'low child','high child' ])"
      ],
      "metadata": {
        "id": "j_oB0ptQIR2c"
      },
      "execution_count": null,
      "outputs": []
    },
    {
      "cell_type": "markdown",
      "source": [
        "Age:"
      ],
      "metadata": {
        "id": "LRNnxPe4J_Ty"
      }
    },
    {
      "cell_type": "code",
      "source": [
        "mean, max, min, median, std = get_stats(df, 'Age')\n",
        "print(f'mean = {mean}, max = {max}, min = {min}, median = {median}, std = {std}')\n",
        "df['Age'].plot(kind='hist')"
      ],
      "metadata": {
        "colab": {
          "base_uri": "https://localhost:8080/",
          "height": 301
        },
        "id": "FNXWp__hKCLj",
        "outputId": "c1374564-5b9c-493a-efd7-4736aa5c6f57"
      },
      "execution_count": null,
      "outputs": [
        {
          "output_type": "stream",
          "name": "stdout",
          "text": [
            "mean = 35.53861386138614, max = 53.0, min = 27.0, median = 37.0, std = 5.308628987375284\n"
          ]
        },
        {
          "output_type": "execute_result",
          "data": {
            "text/plain": [
              "<matplotlib.axes._subplots.AxesSubplot at 0x7f44efa10610>"
            ]
          },
          "metadata": {},
          "execution_count": 20
        },
        {
          "output_type": "display_data",
          "data": {
            "text/plain": [
              "<Figure size 432x288 with 1 Axes>"
            ],
            "image/png": "[encoded data removed]"
          },
          "metadata": {
            "needs_background": "light"
          }
        }
      ]
    },
    {
      "cell_type": "code",
      "source": [
        "df = binning(df, 'Age' , bins=[26,35,45,60], labels=['low age', 'middle age ','high age' ])"
      ],
      "metadata": {
        "id": "qZhlfs8eKTOq"
      },
      "execution_count": null,
      "outputs": []
    },
    {
      "cell_type": "markdown",
      "source": [
        "Distance from work:"
      ],
      "metadata": {
        "id": "OH1xBvfwK5cL"
      }
    },
    {
      "cell_type": "code",
      "source": [
        "mean, max, min, median, std = get_stats(df, 'Distance from Residence to Work')\n",
        "print(f'mean = {mean}, max = {max}, min = {min}, median = {median}, std = {std}')\n",
        "df['Distance from Residence to Work'].plot(kind='hist')"
      ],
      "metadata": {
        "colab": {
          "base_uri": "https://localhost:8080/",
          "height": 301
        },
        "outputId": "debc22b3-4a72-44fc-faf4-334321ddea2e",
        "id": "_4SBIQusK9Gt"
      },
      "execution_count": null,
      "outputs": [
        {
          "output_type": "stream",
          "name": "stdout",
          "text": [
            "mean = 31.345625143909743, max = 52.0, min = 5.0, median = 26.0, std = 14.290051554362577\n"
          ]
        },
        {
          "output_type": "execute_result",
          "data": {
            "text/plain": [
              "<matplotlib.axes._subplots.AxesSubplot at 0x7f44ef502650>"
            ]
          },
          "metadata": {},
          "execution_count": 22
        },
        {
          "output_type": "display_data",
          "data": {
            "text/plain": [
              "<Figure size 432x288 with 1 Axes>"
            ],
            "image/png": "[encoded data removed]"
          },
          "metadata": {
            "needs_background": "light"
          }
        }
      ]
    },
    {
      "cell_type": "code",
      "source": [
        "df = binning(df, 'Distance from Residence to Work' , bins=[4,20,40,60], labels=['low distance', 'middle distance ','high distance' ])"
      ],
      "metadata": {
        "id": "j_Q95G4eLGvI"
      },
      "execution_count": null,
      "outputs": []
    },
    {
      "cell_type": "markdown",
      "source": [
        "BMI:"
      ],
      "metadata": {
        "id": "_oZundKYQARX"
      }
    },
    {
      "cell_type": "code",
      "source": [
        "mean, max, min, median, std = get_stats(df, 'Body mass index')\n",
        "print(f'mean = {mean}, max = {max}, min = {min}, median = {median}, std = {std}')\n",
        "df['Body mass index'].plot(kind='hist')"
      ],
      "metadata": {
        "colab": {
          "base_uri": "https://localhost:8080/",
          "height": 301
        },
        "outputId": "355518c9-5044-42c3-bd93-859d97cf0a7e",
        "id": "znEIbT2pQDMz"
      },
      "execution_count": null,
      "outputs": [
        {
          "output_type": "stream",
          "name": "stdout",
          "text": [
            "mean = 26.571363072162885, max = 38.0, min = 19.0, median = 25.0, std = 4.279202607687266\n"
          ]
        },
        {
          "output_type": "execute_result",
          "data": {
            "text/plain": [
              "<matplotlib.axes._subplots.AxesSubplot at 0x7f44ef47e710>"
            ]
          },
          "metadata": {},
          "execution_count": 24
        },
        {
          "output_type": "display_data",
          "data": {
            "text/plain": [
              "<Figure size 432x288 with 1 Axes>"
            ],
            "image/png": "[encoded data removed]"
          },
          "metadata": {
            "needs_background": "light"
          }
        }
      ]
    },
    {
      "cell_type": "code",
      "source": [
        "df = binning(df, 'Body mass index' , bins=[18.5,24.9,29.9,39.9], labels=['healthy', 'overweight','obese' ])"
      ],
      "metadata": {
        "id": "JHprZmkdQNLV"
      },
      "execution_count": null,
      "outputs": []
    },
    {
      "cell_type": "markdown",
      "source": [
        "**Converting labels to Ranks and normalizing them**"
      ],
      "metadata": {
        "id": "ecXFyUbrOBNA"
      }
    },
    {
      "cell_type": "code",
      "source": [
        "def replace_string_with_number(df, column, string, number):\n",
        "    df[column] = df[column].replace(string, number)\n",
        "    return df"
      ],
      "metadata": {
        "id": "qgzMjYDUOML9"
      },
      "execution_count": null,
      "outputs": []
    },
    {
      "cell_type": "code",
      "source": [
        "df = replace_string_with_number(df,'Son', 'no child',0)\n",
        "df = replace_string_with_number(df,'Son', 'low child',0.5)\n",
        "df = replace_string_with_number(df,'Son', 'high child',1)\n",
        "\n",
        "df = replace_string_with_number(df,'Age', 'low age',0)\n",
        "df = replace_string_with_number(df,'Age', 'middle age ',0.5)\n",
        "df = replace_string_with_number(df,'Age', 'high age',1)\n",
        "\n",
        "df = replace_string_with_number(df,'Distance from Residence to Work', 'low distance',0)\n",
        "df = replace_string_with_number(df,'Distance from Residence to Work', 'middle distance ',0.5)\n",
        "df = replace_string_with_number(df,'Distance from Residence to Work', 'high distance',1)\n",
        "\n",
        "df = replace_string_with_number(df,'Body mass index', 'healthy',0)\n",
        "df = replace_string_with_number(df,'Body mass index', 'overweight',0.5)\n",
        "df = replace_string_with_number(df,'Body mass index', 'obese',1)"
      ],
      "metadata": {
        "id": "3B6afzx6OaG8"
      },
      "execution_count": null,
      "outputs": []
    },
    {
      "cell_type": "markdown",
      "source": [
        "# Data Reduction"
      ],
      "metadata": {
        "id": "Y5lAX4teMqsJ"
      }
    },
    {
      "cell_type": "markdown",
      "source": [
        "**Removing ID**"
      ],
      "metadata": {
        "id": "wjPJyqEmNJWw"
      }
    },
    {
      "cell_type": "code",
      "source": [
        "df.drop('ID', axis=1, inplace=True)"
      ],
      "metadata": {
        "id": "ocqYA8kQMyc5"
      },
      "execution_count": null,
      "outputs": []
    },
    {
      "cell_type": "markdown",
      "source": [
        "**Attribute Subset Selection**"
      ],
      "metadata": {
        "id": "OvIteOKovQsw"
      }
    },
    {
      "cell_type": "code",
      "source": [
        "from sklearn.tree import DecisionTreeClassifier\n",
        "def get_irrelevant_attributes(df,target):\n",
        "    X = df.drop(target,axis=1)\n",
        "    y = df[target]\n",
        "    clf = DecisionTreeClassifier(random_state=0)\n",
        "    clf.fit(X,y)\n",
        "    feature_importance = clf.feature_importances_\n",
        "    feature_importance_df = pd.DataFrame(feature_importance,index=X.columns,columns=['importance']).sort_values('importance',ascending=False)\n",
        "    irrelevant_attributes = feature_importance_df[feature_importance_df['importance']==0].index.tolist()\n",
        "    return irrelevant_attributes\n",
        "\n",
        "get_irrelevant_attributes(df,'Absenteeism time in hours')"
      ],
      "metadata": {
        "colab": {
          "base_uri": "https://localhost:8080/"
        },
        "id": "X-p_C12VvP-J",
        "outputId": "4dd0df76-bd7c-4c57-84e0-79fa37cdfee8"
      },
      "execution_count": null,
      "outputs": [
        {
          "output_type": "execute_result",
          "data": {
            "text/plain": [
              "['Disciplinary failure']"
            ]
          },
          "metadata": {},
          "execution_count": 32
        }
      ]
    },
    {
      "cell_type": "code",
      "source": [
        "df.drop('Disciplinary failure', axis=1, inplace=True)"
      ],
      "metadata": {
        "id": "jSA_iglo0Aby"
      },
      "execution_count": null,
      "outputs": []
    },
    {
      "cell_type": "markdown",
      "source": [
        "**Splitting Dataframe**"
      ],
      "metadata": {
        "id": "-CzNv-ZMIeYv"
      }
    },
    {
      "cell_type": "code",
      "source": [
        "X = df.iloc[:,:-1]\n",
        "Y = df.iloc[:,-1]"
      ],
      "metadata": {
        "id": "rWeuLVehIjQg"
      },
      "execution_count": null,
      "outputs": []
    },
    {
      "cell_type": "code",
      "source": [
        "def apply_pca(df, n_components):\n",
        "    pca = PCA(n_components=n_components)\n",
        "    pca.fit(df)\n",
        "    pca_df = pd.DataFrame(pca.transform(df))\n",
        "    return pca_df\n",
        "\n",
        "pf = apply_pca(X, 7)"
      ],
      "metadata": {
        "id": "iZt2eR4aetli"
      },
      "execution_count": null,
      "outputs": []
    },
    {
      "cell_type": "markdown",
      "source": [
        "# Data Transformation"
      ],
      "metadata": {
        "id": "DsGOnlXvS6V_"
      }
    },
    {
      "cell_type": "markdown",
      "metadata": {
        "id": "mGbFjr03hp4m"
      },
      "source": [
        "**Normalizing numerical columns**"
      ]
    },
    {
      "cell_type": "code",
      "execution_count": null,
      "metadata": {
        "id": "l_GxCglZhIgZ"
      },
      "outputs": [],
      "source": [
        "def normalize_columns(df, columns):\n",
        "    \"\"\"\n",
        "    Normalize specific columns in a dataframe\n",
        "    \"\"\"\n",
        "    for column in columns :\n",
        "        if column in df.columns.values.tolist():\n",
        "          df[column] = (df[column] - df[column].mean()) / df[column].std()\n",
        "    return df\n",
        "\n",
        "def normalize(df):\n",
        "    result = df.copy()\n",
        "    for feature_name in df.columns:\n",
        "        max_value = df[feature_name].max()\n",
        "        min_value = df[feature_name].min()\n",
        "        result[feature_name] = (df[feature_name] - min_value) / (max_value - min_value)\n",
        "    return result\n",
        "\n",
        "pf = normalize(pf)"
      ]
    },
    {
      "cell_type": "markdown",
      "source": [
        "# Data Mining Alghorithms"
      ],
      "metadata": {
        "id": "gOH5uuPGTkyg"
      }
    },
    {
      "cell_type": "code",
      "source": [
        "from sklearn.cluster import KMeans\n",
        "from sklearn.metrics import pairwise_distances\n",
        "from sklearn.metrics import silhouette_score"
      ],
      "metadata": {
        "id": "q6HNnMKLTpgl"
      },
      "execution_count": null,
      "outputs": []
    },
    {
      "cell_type": "markdown",
      "source": [
        "# K means"
      ],
      "metadata": {
        "id": "ax5KaFDwnNJZ"
      }
    },
    {
      "cell_type": "code",
      "source": [
        "kmeans = KMeans(init=\"random\",n_clusters=3,n_init=10,max_iter=300,random_state=42)\n",
        "kmeans.fit(pf)"
      ],
      "metadata": {
        "colab": {
          "base_uri": "https://localhost:8080/"
        },
        "id": "mfhU9czBhSvK",
        "outputId": "830a91ff-b980-4354-985f-eff6c0690a05"
      },
      "execution_count": null,
      "outputs": [
        {
          "output_type": "execute_result",
          "data": {
            "text/plain": [
              "KMeans(init='random', n_clusters=3, random_state=42)"
            ]
          },
          "metadata": {},
          "execution_count": 60
        }
      ]
    },
    {
      "cell_type": "markdown",
      "source": [
        "**choose the Appropriate Number of Clusters in k-means alghorithm.**"
      ],
      "metadata": {
        "id": "noqmv_WrkOp-"
      }
    },
    {
      "cell_type": "code",
      "source": [
        "kmeans_kwargs = {\"init\": \"random\",\"n_init\": 10,\"max_iter\": 300,\"random_state\": 42}\n",
        "sse = []\n",
        "k_max = 8\n",
        "for k in range(1, k_max):\n",
        "  kmeans = KMeans(n_clusters=k, **kmeans_kwargs)\n",
        "  kmeans.fit(pf)\n",
        "  sse.append(sum(np.min(pairwise_distances(pf, kmeans.cluster_centers_, metric='euclidean'),axis=1)) / pf.shape[0])\n",
        "\n",
        "plt.style.use(\"fivethirtyeight\")\n",
        "plt.plot(range(1, k_max), sse)\n",
        "plt.xticks(range(1, k_max))\n",
        "plt.xlabel(\"Number of Clusters\")\n",
        "plt.ylabel(\"SSE\")\n",
        "plt.show()"
      ],
      "metadata": {
        "colab": {
          "base_uri": "https://localhost:8080/",
          "height": 304
        },
        "id": "jcSDqkW2j-yx",
        "outputId": "03af7aa0-3efe-4841-8af7-e94453b84128"
      },
      "execution_count": null,
      "outputs": [
        {
          "output_type": "display_data",
          "data": {
            "text/plain": [
              "<Figure size 432x288 with 1 Axes>"
            ],
            "image/png": "[encoded data removed]"
          },
          "metadata": {}
        }
      ]
    },
    {
      "cell_type": "code",
      "source": [
        "sse=[]\n",
        "for k in range(1, k_max):\n",
        "  kmeans = KMeans(n_clusters=k, **kmeans_kwargs)\n",
        "  kmeans.fit(pf)\n",
        "  sse.append(kmeans.inertia_)\n",
        "\n",
        "plt.style.use(\"fivethirtyeight\")\n",
        "plt.plot(range(1, k_max), sse)\n",
        "plt.xticks(range(1, k_max))\n",
        "plt.xlabel(\"Number of Clusters\")\n",
        "plt.ylabel(\"Interia\")\n",
        "plt.show()"
      ],
      "metadata": {
        "colab": {
          "base_uri": "https://localhost:8080/",
          "height": 304
        },
        "id": "zLzuSC05lwSH",
        "outputId": "91c8253a-0830-497f-c699-c02bfd8c80bb"
      },
      "execution_count": null,
      "outputs": [
        {
          "output_type": "display_data",
          "data": {
            "text/plain": [
              "<Figure size 432x288 with 1 Axes>"
            ],
            "image/png": "[encoded data removed]"
          },
          "metadata": {}
        }
      ]
    },
    {
      "cell_type": "code",
      "source": [
        "sse=[]\n",
        "for k in range(2, k_max):\n",
        "  kmeans = KMeans(n_clusters=k, **kmeans_kwargs)\n",
        "  kmeans.fit(pf)\n",
        "  sse.append(silhouette_score(pf, kmeans.labels_))\n",
        "\n",
        "plt.style.use(\"fivethirtyeight\")\n",
        "plt.plot(range(2, k_max), sse)\n",
        "plt.xticks(range(2, k_max))\n",
        "plt.xlabel(\"Number of Clusters\")\n",
        "plt.ylabel(\"Silhouette\")\n",
        "plt.show()"
      ],
      "metadata": {
        "colab": {
          "base_uri": "https://localhost:8080/",
          "height": 304
        },
        "id": "e0L0f0Vml8R5",
        "outputId": "a3e90507-1a64-485d-a97a-c4943f7f372a"
      },
      "execution_count": null,
      "outputs": [
        {
          "output_type": "display_data",
          "data": {
            "text/plain": [
              "<Figure size 432x288 with 1 Axes>"
            ],
            "image/png": "[encoded data removed]"
          },
          "metadata": {}
        }
      ]
    },
    {
      "cell_type": "markdown",
      "source": [
        "**The best Value is : 2 or 5**"
      ],
      "metadata": {
        "id": "SP2D2M1Yn6kt"
      }
    },
    {
      "cell_type": "markdown",
      "source": [
        "# K mediods"
      ],
      "metadata": {
        "id": "DjVwaivMpMGw"
      }
    },
    {
      "cell_type": "code",
      "source": [
        "!pip install scikit-learn-extra"
      ],
      "metadata": {
        "id": "aX9Ax8yPg8jO"
      },
      "execution_count": null,
      "outputs": []
    },
    {
      "cell_type": "code",
      "source": [
        "from sklearn_extra.cluster import KMedoids\n",
        "kmedoids = KMedoids(init=\"random\",n_clusters=5,max_iter=300,random_state=42).fit(pf)"
      ],
      "metadata": {
        "id": "InO_e-P6gyLP"
      },
      "execution_count": null,
      "outputs": []
    },
    {
      "cell_type": "markdown",
      "source": [
        "# Visualization"
      ],
      "metadata": {
        "id": "YrfWYsVwq33s"
      }
    },
    {
      "cell_type": "markdown",
      "source": [
        "**KMEANS**"
      ],
      "metadata": {
        "id": "QN55PRcYStv-"
      }
    },
    {
      "cell_type": "code",
      "source": [
        "pf_2D = normalize(apply_pca(X, 2))\n",
        "kmeans = KMeans(init=\"random\",n_clusters=5,n_init=10,max_iter=300,random_state=42)\n",
        "kmeans.fit(pf_2D)\n",
        "labels_kmeans = kmeans.predict(pf_2D)\n",
        "plt.scatter(pf_2D[0], pf_2D[1], c=labels_kmeans, cmap='viridis')"
      ],
      "metadata": {
        "colab": {
          "base_uri": "https://localhost:8080/",
          "height": 300
        },
        "id": "qVUtWUZMq7gZ",
        "outputId": "a681b321-55b5-4ae8-a2aa-feb872b97898"
      },
      "execution_count": null,
      "outputs": [
        {
          "output_type": "execute_result",
          "data": {
            "text/plain": [
              "<matplotlib.collections.PathCollection at 0x7f447216c210>"
            ]
          },
          "metadata": {},
          "execution_count": 135
        },
        {
          "output_type": "display_data",
          "data": {
            "text/plain": [
              "<Figure size 432x288 with 1 Axes>"
            ],
            "image/png": "[encoded data removed]"
          },
          "metadata": {}
        }
      ]
    },
    {
      "cell_type": "markdown",
      "source": [
        "**KMediods**"
      ],
      "metadata": {
        "id": "1TMn4n2Dhy_9"
      }
    },
    {
      "cell_type": "code",
      "source": [
        "pf_2D = normalize(apply_pca(X, 2))\n",
        "kmedoids = KMedoids(init=\"random\",n_clusters=5,max_iter=300,random_state=42)\n",
        "kmedoids.fit(pf_2D)\n",
        "labels_kmedoids = kmeans.predict(pf_2D)\n",
        "plt.scatter(pf_2D[0], pf_2D[1], c=labels_kmeans, cmap='viridis')"
      ],
      "metadata": {
        "colab": {
          "base_uri": "https://localhost:8080/",
          "height": 300
        },
        "id": "dPSguM1Ah2XQ",
        "outputId": "86a155e1-f0fb-4544-93e0-1bacebd25e7f"
      },
      "execution_count": null,
      "outputs": [
        {
          "output_type": "execute_result",
          "data": {
            "text/plain": [
              "<matplotlib.collections.PathCollection at 0x7f447215ee50>"
            ]
          },
          "metadata": {},
          "execution_count": 134
        },
        {
          "output_type": "display_data",
          "data": {
            "text/plain": [
              "<Figure size 432x288 with 1 Axes>"
            ],
            "image/png": "[encoded data removed]"
          },
          "metadata": {}
        }
      ]
    },
    {
      "cell_type": "markdown",
      "source": [
        "**UMAP**"
      ],
      "metadata": {
        "id": "l2aBJ4EPSwuP"
      }
    },
    {
      "cell_type": "code",
      "source": [
        "!pip install umap-learn"
      ],
      "metadata": {
        "id": "IbiEGEjU7Up3"
      },
      "execution_count": null,
      "outputs": []
    },
    {
      "cell_type": "code",
      "source": [
        "import umap\n",
        "def umap_visualize(df, n_neighbors=15, min_dist=0.1, n_components=8, metric='euclidean'):\n",
        "    \"\"\"\n",
        "    Apply UMAP on a dataframe and visualize the result\n",
        "    \"\"\"\n",
        "    # Apply UMAP\n",
        "    reducer = umap.UMAP(n_neighbors=n_neighbors,\n",
        "                        min_dist=min_dist,\n",
        "                        n_components=n_components,\n",
        "                        metric=metric)\n",
        "    embedding = reducer.fit_transform(df)\n",
        "    \n",
        "    # Visualize the result\n",
        "    plt.scatter(embedding[:, 0], embedding[:, 1], cmap='Spectral', s=5)\n",
        "    plt.gca().set_aspect('equal', 'datalim')\n",
        "    plt.title('UMAP projection of the dataset', fontsize=24);\n",
        "    \n",
        "    return embedding\n",
        "\n",
        "# Apply UMAP on the dataframe\n",
        "embedding = umap_visualize(pf)"
      ],
      "metadata": {
        "colab": {
          "base_uri": "https://localhost:8080/",
          "height": 363
        },
        "id": "ehWVZPrphFro",
        "outputId": "d6bed044-2a82-4f52-e051-9c71b70ed5d4"
      },
      "execution_count": null,
      "outputs": [
        {
          "output_type": "stream",
          "name": "stderr",
          "text": [
            "/usr/local/lib/python3.7/dist-packages/numba/np/ufunc/parallel.py:363: NumbaWarning: The TBB threading layer requires TBB version 2019.5 or later i.e., TBB_INTERFACE_VERSION >= 11005. Found TBB_INTERFACE_VERSION = 9107. The TBB threading layer is disabled.\n",
            "  warnings.warn(problem)\n"
          ]
        },
        {
          "output_type": "display_data",
          "data": {
            "text/plain": [
              "<Figure size 432x288 with 1 Axes>"
            ],
            "image/png": "[encoded data removed]"
          },
          "metadata": {}
        }
      ]
    },
    {
      "cell_type": "markdown",
      "source": [
        "**Guassian mixture**"
      ],
      "metadata": {
        "id": "ox13YUikSy2I"
      }
    },
    {
      "cell_type": "code",
      "source": [
        "from sklearn.mixture import GaussianMixture\n",
        "def cluster_data(df, n_clusters):\n",
        "    \"\"\"\n",
        "    Cluster a dataframe using Gaussian Mixture model\n",
        "    \"\"\"\n",
        "    # Create a Gaussian Mixture model\n",
        "    gmm = GaussianMixture(n_components=n_clusters, random_state=42)\n",
        "    # Fit the model to the data\n",
        "    gmm.fit(df)\n",
        "    # Predict the labels\n",
        "    labels = gmm.predict(df)\n",
        "    # Return the labels\n",
        "    return labels\n",
        "\n",
        "n_components = np.arange(1, 12)\n",
        "models = [GaussianMixture(n, covariance_type='full', random_state=0).fit(pf) for n in n_components]\n",
        "plt.plot(n_components, [m.bic(pf) for m in models], label='BIC')\n",
        "plt.plot(n_components, [m.aic(pf) for m in models], label='AIC')\n",
        "plt.legend(loc='best')\n",
        "plt.xlabel('n_components')"
      ],
      "metadata": {
        "colab": {
          "base_uri": "https://localhost:8080/",
          "height": 322
        },
        "id": "K9XoNW0xMkNU",
        "outputId": "6d6c16c5-3e04-42d9-c46a-3770b6d6a130"
      },
      "execution_count": null,
      "outputs": [
        {
          "output_type": "execute_result",
          "data": {
            "text/plain": [
              "Text(0.5, 0, 'n_components')"
            ]
          },
          "metadata": {},
          "execution_count": 80
        },
        {
          "output_type": "display_data",
          "data": {
            "text/plain": [
              "<Figure size 432x288 with 1 Axes>"
            ],
            "image/png": "[encoded data removed]"
          },
          "metadata": {}
        }
      ]
    },
    {
      "cell_type": "code",
      "source": [
        "labels = cluster_data(pf_2D, 5)\n",
        "plt.scatter(pf_2D[0], pf_2D[1], c=labels, cmap='viridis')"
      ],
      "metadata": {
        "colab": {
          "base_uri": "https://localhost:8080/",
          "height": 300
        },
        "id": "tWCTh-3zSY34",
        "outputId": "8b86f4ba-d03a-4fd1-ebbc-ee9ca8d69cfd"
      },
      "execution_count": null,
      "outputs": [
        {
          "output_type": "execute_result",
          "data": {
            "text/plain": [
              "<matplotlib.collections.PathCollection at 0x7f447597d690>"
            ]
          },
          "metadata": {},
          "execution_count": 85
        },
        {
          "output_type": "display_data",
          "data": {
            "text/plain": [
              "<Figure size 432x288 with 1 Axes>"
            ],
            "image/png": "[encoded data removed]"
          },
          "metadata": {}
        }
      ]
    },
    {
      "cell_type": "markdown",
      "source": [
        "**DBSCAN**"
      ],
      "metadata": {
        "id": "f-HbXifCUFz5"
      }
    },
    {
      "cell_type": "code",
      "source": [
        "from sklearn.cluster import DBSCAN\n",
        "def dbscan_cluster(df, eps, min_samples):\n",
        "    \n",
        "    # Create a DBSCAN cluster\n",
        "    db = DBSCAN(eps=eps, min_samples=min_samples).fit(df)\n",
        "    \n",
        "    # Extract cluster labels\n",
        "    labels = db.labels_\n",
        "    \n",
        "    return labels\n",
        "\n",
        "labels = dbscan_cluster(pf_2D,0.12,3)\n",
        "plt.scatter(pf_2D[0], pf_2D[1], c=labels, cmap='viridis')"
      ],
      "metadata": {
        "colab": {
          "base_uri": "https://localhost:8080/",
          "height": 300
        },
        "id": "mxX2D5NBUHlj",
        "outputId": "347bb430-672f-4bd4-93b3-b86cf98315c5"
      },
      "execution_count": null,
      "outputs": [
        {
          "output_type": "execute_result",
          "data": {
            "text/plain": [
              "<matplotlib.collections.PathCollection at 0x7f44756dcd10>"
            ]
          },
          "metadata": {},
          "execution_count": 109
        },
        {
          "output_type": "display_data",
          "data": {
            "text/plain": [
              "<Figure size 432x288 with 1 Axes>"
            ],
            "image/png": "[encoded data removed]"
          },
          "metadata": {}
        }
      ]
    },
    {
      "cell_type": "markdown",
      "source": [
        "# Accuracy"
      ],
      "metadata": {
        "id": "nz1MmB2AKyQb"
      }
    },
    {
      "cell_type": "markdown",
      "source": [
        "**Labeling Target Data**"
      ],
      "metadata": {
        "id": "TzfJIJxgYltW"
      }
    },
    {
      "cell_type": "code",
      "source": [
        "Y.plot(kind='hist')\n",
        "\n",
        "# Display the plot\n",
        "plt.show()"
      ],
      "metadata": {
        "colab": {
          "base_uri": "https://localhost:8080/",
          "height": 282
        },
        "id": "VxR9TmxFTKO_",
        "outputId": "d65b1d9a-35ce-4bc1-b289-e11b41831624"
      },
      "execution_count": null,
      "outputs": [
        {
          "output_type": "display_data",
          "data": {
            "text/plain": [
              "<Figure size 432x288 with 1 Axes>"
            ],
            "image/png": "[encoded data removed]"
          },
          "metadata": {}
        }
      ]
    },
    {
      "cell_type": "code",
      "source": [
        "Y = Y.apply(lambda x: 0 if x <= 6  else x)\n",
        "Y = Y.apply(lambda x: 1 if x > 6 and x <= 12.5 else x)\n",
        "Y = Y.apply(lambda x: 2 if x > 12.5 else x)"
      ],
      "metadata": {
        "id": "ALEPxATCZR2r"
      },
      "execution_count": null,
      "outputs": []
    },
    {
      "cell_type": "code",
      "source": [
        "Y.plot(kind='hist')\n",
        "plt.show()"
      ],
      "metadata": {
        "colab": {
          "base_uri": "https://localhost:8080/",
          "height": 283
        },
        "id": "QzcW3rqFZsrm",
        "outputId": "8d941971-0b3d-41f3-e254-a6c10826c81b"
      },
      "execution_count": null,
      "outputs": [
        {
          "output_type": "display_data",
          "data": {
            "text/plain": [
              "<Figure size 432x288 with 1 Axes>"
            ],
            "image/png": "[encoded data removed]"
          },
          "metadata": {}
        }
      ]
    },
    {
      "cell_type": "markdown",
      "source": [
        "# Exterinsic"
      ],
      "metadata": {
        "id": "uxBILJ6VK2LL"
      }
    },
    {
      "cell_type": "code",
      "source": [
        "def find_indexes(lst, value):\n",
        "    \"\"\"\n",
        "    Finds the indexes of a value in a list.\n",
        "    \"\"\"\n",
        "    return [i for i, x in enumerate(lst) if x == value]\n",
        "\n",
        "def replace_values(list, old_value, new_value):\n",
        "    for i in range(len(list)):\n",
        "        if list[i] == old_value:\n",
        "            list[i] = new_value\n",
        "    return list\n",
        "\n",
        "def find_and_replace(Y, label_list):\n",
        "  for cluster_label in list(set(label_list)):\n",
        "    indexes        = find_indexes(label_list, cluster_label)\n",
        "    majority_label = Y.iloc[indexes].mode()\n",
        "    label_list     = replace_values(label_list, cluster_label, majority_label)\n",
        "  return label_list\n",
        "\n",
        "def accuracy_metric(actual, predicted):\n",
        "    correct = 0\n",
        "    for i in range(len(actual)):\n",
        "        if actual[i] == predicted[i]:\n",
        "            correct += 1\n",
        "    return correct / float(len(actual)) * 100.0\n",
        "\n",
        "predicted_kmeans   = find_and_replace(Y, labels_kmeans)\n",
        "predicted_kmediods = find_and_replace(Y, labels_kmedoids)\n",
        "\n",
        "print(f'The extrinsic accuracy of kmeans model is : {accuracy_metric(Y.values.tolist(),predicted_kmeans)}')\n",
        "print(f'The extrinsic accuracy of kmediods model is : {accuracy_metric(Y.values.tolist(),predicted_kmediods)}')\n"
      ],
      "metadata": {
        "colab": {
          "base_uri": "https://localhost:8080/"
        },
        "id": "Wze_fE0qLogc",
        "outputId": "8a322349-ae76-4efa-a0d2-527d6112b9bd"
      },
      "execution_count": null,
      "outputs": [
        {
          "output_type": "stream",
          "name": "stdout",
          "text": [
            "The extrinsic accuracy of kmeans model is : 69.5049504950495\n",
            "The extrinsic accuracy of kmediods model is : 69.5049504950495\n"
          ]
        }
      ]
    },
    {
      "cell_type": "markdown",
      "source": [
        "# Intrinsic"
      ],
      "metadata": {
        "id": "ZmkTX5hef2mn"
      }
    },
    {
      "cell_type": "code",
      "source": [
        "print(f'The Intrinsic accuracy of kmeans model is :{silhouette_score(pf, kmeans.labels_)}')\n",
        "print(f'The Intrinsic accuracy of kmediods model is :{silhouette_score(pf, kmedoids.labels_)}')"
      ],
      "metadata": {
        "id": "Kr7YDYE2FkK0",
        "colab": {
          "base_uri": "https://localhost:8080/"
        },
        "outputId": "046ce535-0cbf-4e85-862a-830bc1062d3a"
      },
      "execution_count": null,
      "outputs": [
        {
          "output_type": "stream",
          "name": "stdout",
          "text": [
            "The Intrinsic accuracy of kmeans model is :0.09387810317490074\n",
            "The Intrinsic accuracy of kmediods model is :0.06565850415254955\n"
          ]
        }
      ]
    }
  ],
  "metadata": {
    "colab": {
      "collapsed_sections": [],
      "name": "DataMining-Ex4.ipynb",
      "provenance": [],
      "authorship_tag": "ABX9TyON9YnBWWBrkdX2JMfoPAhI",
      "include_colab_link": true
    },
    "kernelspec": {
      "display_name": "Python 3",
      "name": "python3"
    },
    "language_info": {
      "name": "python"
    }
  },
  "nbformat": 4,
  "nbformat_minor": 0
}