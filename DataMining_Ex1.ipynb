{
  "cells": [
    {
      "cell_type": "markdown",
      "metadata": {
        "id": "view-in-github",
        "colab_type": "text"
      },
      "source": [
        "<a href=\"https://colab.research.google.com/github/IamArmanNikkhah/DataMining-Preprocess-Absenteeism_at_Work/blob/main/DataMining_Ex1.ipynb\" target=\"_parent\"><img src=\"https://colab.research.google.com/assets/colab-badge.svg\" alt=\"Open In Colab\"/></a>"
      ]
    },
    {
      "cell_type": "markdown",
      "metadata": {
        "id": "tOiyB4XV1AlW"
      },
      "source": [
        "**Importing Packages**"
      ]
    },
    {
      "cell_type": "code",
      "execution_count": null,
      "metadata": {
        "id": "6uzGOpJS01bG"
      },
      "outputs": [],
      "source": [
        "import pandas as pd\n",
        "import numpy as np\n",
        "import matplotlib.pyplot as plt\n",
        "from sklearn.ensemble import ExtraTreesClassifier\n",
        "from sklearn.decomposition import PCA\n",
        "import math"
      ]
    },
    {
      "cell_type": "markdown",
      "metadata": {
        "id": "bJrxEXZR4NRD"
      },
      "source": [
        "**Load CSV file**"
      ]
    },
    {
      "cell_type": "code",
      "execution_count": null,
      "metadata": {
        "id": "xu4asA7J4WrL"
      },
      "outputs": [],
      "source": [
        "df = pd.read_csv('/content/Absenteeism_at_work.csv')"
      ]
    },
    {
      "cell_type": "markdown",
      "metadata": {
        "id": "5UZ07Fvm8Gfp"
      },
      "source": [
        "# Data Pre-processing"
      ]
    },
    {
      "cell_type": "markdown",
      "metadata": {
        "id": "yMhRaRKf8SZo"
      },
      "source": [
        "**Find empty cells  in each row**"
      ]
    },
    {
      "cell_type": "code",
      "execution_count": null,
      "metadata": {
        "colab": {
          "base_uri": "https://localhost:8080/"
        },
        "id": "zUuRAqN97Cdt",
        "outputId": "3ba124f1-71b5-4672-eeb6-7e9c5b76b24c"
      },
      "outputs": [
        {
          "output_type": "execute_result",
          "data": {
            "text/plain": [
              "[('Reason for absence', 3),\n",
              " ('Month of absence', 1),\n",
              " ('Transportation expense', 7),\n",
              " ('Distance from Residence to Work', 3),\n",
              " ('Service time', 3),\n",
              " ('Age', 3),\n",
              " ('Work load Average/day', 10),\n",
              " ('Hit target', 6),\n",
              " ('Disciplinary failure', 6),\n",
              " ('Education', 10),\n",
              " ('Son', 6),\n",
              " ('Social drinker', 3),\n",
              " ('Social smoker', 4),\n",
              " ('Pet', 2),\n",
              " ('Weight', 1),\n",
              " ('Height', 14),\n",
              " ('Body mass index', 31),\n",
              " ('Absenteeism time in hours', 22)]"
            ]
          },
          "metadata": {},
          "execution_count": 3
        }
      ],
      "source": [
        "def empty_cells(df):\n",
        "    \"\"\"\n",
        "    Returns a list of columns with empty cells and the number of them\n",
        "    \"\"\"\n",
        "    empty_cells = []\n",
        "    for col in df.columns:\n",
        "        if df[col].isnull().sum() > 0:\n",
        "            empty_cells.append((col, df[col].isnull().sum()))\n",
        "    return empty_cells\n",
        "\n",
        "empty_cells(df)"
      ]
    },
    {
      "cell_type": "markdown",
      "metadata": {
        "id": "0KXERqAC8iPK"
      },
      "source": [
        "**Remove rows that have empty cells in \"Absenteeism time in hours\" column**"
      ]
    },
    {
      "cell_type": "code",
      "execution_count": null,
      "metadata": {
        "id": "DhAVOuc28zQW"
      },
      "outputs": [],
      "source": [
        "def drop_empty_rows(df, column):\n",
        "    return df.dropna(subset=[column])\n",
        "df = drop_empty_rows(df, 'Absenteeism time in hours')"
      ]
    },
    {
      "cell_type": "markdown",
      "metadata": {
        "id": "H7GU5Ranblvz"
      },
      "source": [
        "**Calculating null BMI values (if applicable)**\n"
      ]
    },
    {
      "cell_type": "code",
      "execution_count": null,
      "metadata": {
        "colab": {
          "base_uri": "https://localhost:8080/"
        },
        "id": "s5cilJn9oqN9",
        "outputId": "63869830-6f9e-4be8-9d98-dfd3cdb31934"
      },
      "outputs": [
        {
          "output_type": "execute_result",
          "data": {
            "text/plain": [
              "2"
            ]
          },
          "metadata": {},
          "execution_count": 5
        }
      ],
      "source": [
        "# find empty cells in the BMI column\n",
        "empty_cell = df['Body mass index'].isnull()\n",
        "\n",
        "# calculate BMI according to Weight and Height columns if applicable\n",
        "df.loc[empty_cell, 'Body mass index'] = df.loc[empty_cell, 'Weight'] / (df.loc[empty_cell, 'Height']/100)**2\n",
        "\n",
        "# check if there are still empty cells in the BMI column\n",
        "df['Body mass index'].isnull().sum()\n"
      ]
    },
    {
      "cell_type": "code",
      "execution_count": null,
      "metadata": {
        "id": "ZCLnaIZDlgZD",
        "colab": {
          "base_uri": "https://localhost:8080/",
          "height": 237
        },
        "outputId": "9ced0de3-2e84-4b00-8c04-2dbf1383f405"
      },
      "outputs": [
        {
          "output_type": "execute_result",
          "data": {
            "text/plain": [
              "     ID  Reason for absence  Month of absence  Day of the week  Seasons  \\\n",
              "272  11                19.0               9.0                4        1   \n",
              "273   5                 0.0               9.0                5        1   \n",
              "\n",
              "     Transportation expense  Distance from Residence to Work  Service time  \\\n",
              "272                   289.0                             36.0          13.0   \n",
              "273                   235.0                             20.0          13.0   \n",
              "\n",
              "      Age Work load Average/day  ...  Disciplinary failure  Education  Son  \\\n",
              "272  33.0               294,217  ...                   0.0        1.0  2.0   \n",
              "273  43.0               294,217  ...                   1.0        1.0  1.0   \n",
              "\n",
              "     Social drinker  Social smoker  Pet  Weight  Height  Body mass index  \\\n",
              "272             1.0            NaN  1.0    90.0     NaN              NaN   \n",
              "273             1.0            0.0  0.0   106.0     NaN              NaN   \n",
              "\n",
              "     Absenteeism time in hours  \n",
              "272                       24.0  \n",
              "273                        0.0  \n",
              "\n",
              "[2 rows x 21 columns]"
            ],
            "text/html": [
              "\n",
              "  <div id=\"df-58d04839-f3db-4f53-9d88-4be211bba72b\">\n",
              "    <div class=\"colab-df-container\">\n",
              "      <div>\n",
              "<style scoped>\n",
              "    .dataframe tbody tr th:only-of-type {\n",
              "        vertical-align: middle;\n",
              "    }\n",
              "\n",
              "    .dataframe tbody tr th {\n",
              "        vertical-align: top;\n",
              "    }\n",
              "\n",
              "    .dataframe thead th {\n",
              "        text-align: right;\n",
              "    }\n",
              "</style>\n",
              "<table border=\"1\" class=\"dataframe\">\n",
              "  <thead>\n",
              "    <tr style=\"text-align: right;\">\n",
              "      <th></th>\n",
              "      <th>ID</th>\n",
              "      <th>Reason for absence</th>\n",
              "      <th>Month of absence</th>\n",
              "      <th>Day of the week</th>\n",
              "      <th>Seasons</th>\n",
              "      <th>Transportation expense</th>\n",
              "      <th>Distance from Residence to Work</th>\n",
              "      <th>Service time</th>\n",
              "      <th>Age</th>\n",
              "      <th>Work load Average/day</th>\n",
              "      <th>...</th>\n",
              "      <th>Disciplinary failure</th>\n",
              "      <th>Education</th>\n",
              "      <th>Son</th>\n",
              "      <th>Social drinker</th>\n",
              "      <th>Social smoker</th>\n",
              "      <th>Pet</th>\n",
              "      <th>Weight</th>\n",
              "      <th>Height</th>\n",
              "      <th>Body mass index</th>\n",
              "      <th>Absenteeism time in hours</th>\n",
              "    </tr>\n",
              "  </thead>\n",
              "  <tbody>\n",
              "    <tr>\n",
              "      <th>272</th>\n",
              "      <td>11</td>\n",
              "      <td>19.0</td>\n",
              "      <td>9.0</td>\n",
              "      <td>4</td>\n",
              "      <td>1</td>\n",
              "      <td>289.0</td>\n",
              "      <td>36.0</td>\n",
              "      <td>13.0</td>\n",
              "      <td>33.0</td>\n",
              "      <td>294,217</td>\n",
              "      <td>...</td>\n",
              "      <td>0.0</td>\n",
              "      <td>1.0</td>\n",
              "      <td>2.0</td>\n",
              "      <td>1.0</td>\n",
              "      <td>NaN</td>\n",
              "      <td>1.0</td>\n",
              "      <td>90.0</td>\n",
              "      <td>NaN</td>\n",
              "      <td>NaN</td>\n",
              "      <td>24.0</td>\n",
              "    </tr>\n",
              "    <tr>\n",
              "      <th>273</th>\n",
              "      <td>5</td>\n",
              "      <td>0.0</td>\n",
              "      <td>9.0</td>\n",
              "      <td>5</td>\n",
              "      <td>1</td>\n",
              "      <td>235.0</td>\n",
              "      <td>20.0</td>\n",
              "      <td>13.0</td>\n",
              "      <td>43.0</td>\n",
              "      <td>294,217</td>\n",
              "      <td>...</td>\n",
              "      <td>1.0</td>\n",
              "      <td>1.0</td>\n",
              "      <td>1.0</td>\n",
              "      <td>1.0</td>\n",
              "      <td>0.0</td>\n",
              "      <td>0.0</td>\n",
              "      <td>106.0</td>\n",
              "      <td>NaN</td>\n",
              "      <td>NaN</td>\n",
              "      <td>0.0</td>\n",
              "    </tr>\n",
              "  </tbody>\n",
              "</table>\n",
              "<p>2 rows × 21 columns</p>\n",
              "</div>\n",
              "      <button class=\"colab-df-convert\" onclick=\"convertToInteractive('df-58d04839-f3db-4f53-9d88-4be211bba72b')\"\n",
              "              title=\"Convert this dataframe to an interactive table.\"\n",
              "              style=\"display:none;\">\n",
              "        \n",
              "  <svg xmlns=\"http://www.w3.org/2000/svg\" height=\"24px\"viewBox=\"0 0 24 24\"\n",
              "       width=\"24px\">\n",
              "    <path d=\"M0 0h24v24H0V0z\" fill=\"none\"/>\n",
              "    <path d=\"M18.56 5.44l.94 2.06.94-2.06 2.06-.94-2.06-.94-.94-2.06-.94 2.06-2.06.94zm-11 1L8.5 8.5l.94-2.06 2.06-.94-2.06-.94L8.5 2.5l-.94 2.06-2.06.94zm10 10l.94 2.06.94-2.06 2.06-.94-2.06-.94-.94-2.06-.94 2.06-2.06.94z\"/><path d=\"M17.41 7.96l-1.37-1.37c-.4-.4-.92-.59-1.43-.59-.52 0-1.04.2-1.43.59L10.3 9.45l-7.72 7.72c-.78.78-.78 2.05 0 2.83L4 21.41c.39.39.9.59 1.41.59.51 0 1.02-.2 1.41-.59l7.78-7.78 2.81-2.81c.8-.78.8-2.07 0-2.86zM5.41 20L4 18.59l7.72-7.72 1.47 1.35L5.41 20z\"/>\n",
              "  </svg>\n",
              "      </button>\n",
              "      \n",
              "  <style>\n",
              "    .colab-df-container {\n",
              "      display:flex;\n",
              "      flex-wrap:wrap;\n",
              "      gap: 12px;\n",
              "    }\n",
              "\n",
              "    .colab-df-convert {\n",
              "      background-color: #E8F0FE;\n",
              "      border: none;\n",
              "      border-radius: 50%;\n",
              "      cursor: pointer;\n",
              "      display: none;\n",
              "      fill: #1967D2;\n",
              "      height: 32px;\n",
              "      padding: 0 0 0 0;\n",
              "      width: 32px;\n",
              "    }\n",
              "\n",
              "    .colab-df-convert:hover {\n",
              "      background-color: #E2EBFA;\n",
              "      box-shadow: 0px 1px 2px rgba(60, 64, 67, 0.3), 0px 1px 3px 1px rgba(60, 64, 67, 0.15);\n",
              "      fill: #174EA6;\n",
              "    }\n",
              "\n",
              "    [theme=dark] .colab-df-convert {\n",
              "      background-color: #3B4455;\n",
              "      fill: #D2E3FC;\n",
              "    }\n",
              "\n",
              "    [theme=dark] .colab-df-convert:hover {\n",
              "      background-color: #434B5C;\n",
              "      box-shadow: 0px 1px 3px 1px rgba(0, 0, 0, 0.15);\n",
              "      filter: drop-shadow(0px 1px 2px rgba(0, 0, 0, 0.3));\n",
              "      fill: #FFFFFF;\n",
              "    }\n",
              "  </style>\n",
              "\n",
              "      <script>\n",
              "        const buttonEl =\n",
              "          document.querySelector('#df-58d04839-f3db-4f53-9d88-4be211bba72b button.colab-df-convert');\n",
              "        buttonEl.style.display =\n",
              "          google.colab.kernel.accessAllowed ? 'block' : 'none';\n",
              "\n",
              "        async function convertToInteractive(key) {\n",
              "          const element = document.querySelector('#df-58d04839-f3db-4f53-9d88-4be211bba72b');\n",
              "          const dataTable =\n",
              "            await google.colab.kernel.invokeFunction('convertToInteractive',\n",
              "                                                     [key], {});\n",
              "          if (!dataTable) return;\n",
              "\n",
              "          const docLinkHtml = 'Like what you see? Visit the ' +\n",
              "            '<a target=\"_blank\" href=https://colab.research.google.com/notebooks/data_table.ipynb>data table notebook</a>'\n",
              "            + ' to learn more about interactive tables.';\n",
              "          element.innerHTML = '';\n",
              "          dataTable['output_type'] = 'display_data';\n",
              "          await google.colab.output.renderOutput(dataTable, element);\n",
              "          const docLink = document.createElement('div');\n",
              "          docLink.innerHTML = docLinkHtml;\n",
              "          element.appendChild(docLink);\n",
              "        }\n",
              "      </script>\n",
              "    </div>\n",
              "  </div>\n",
              "  "
            ]
          },
          "metadata": {},
          "execution_count": 6
        }
      ],
      "source": [
        "df[df['Body mass index'].isnull()]"
      ]
    },
    {
      "cell_type": "markdown",
      "metadata": {
        "id": "2HIUs17wpid6"
      },
      "source": [
        "**Delete rows that their BMI can't be calculated**\n"
      ]
    },
    {
      "cell_type": "code",
      "execution_count": null,
      "metadata": {
        "id": "FkEfBe8bpQ62"
      },
      "outputs": [],
      "source": [
        "df = df.dropna(subset=['Body mass index'])"
      ]
    },
    {
      "cell_type": "markdown",
      "metadata": {
        "id": "azLhibVUTdIt"
      },
      "source": [
        "**Finding a list of columns that are highly correlated to each other.**"
      ]
    },
    {
      "cell_type": "code",
      "execution_count": null,
      "metadata": {
        "colab": {
          "base_uri": "https://localhost:8080/"
        },
        "id": "OHdujGWKTdqj",
        "outputId": "83c724fe-19ad-4490-9283-90bb30c07e00"
      },
      "outputs": [
        {
          "output_type": "execute_result",
          "data": {
            "text/plain": [
              "['Body mass index']"
            ]
          },
          "metadata": {},
          "execution_count": 7
        }
      ],
      "source": [
        "def highly_correlated(df, threshold=0.8):\n",
        "    \"\"\"\n",
        "    Returns a list of columns that are highly correlated to each other.\n",
        "    \"\"\"\n",
        "    corr_matrix = df.corr().abs()\n",
        "    upper = corr_matrix.where(np.triu(np.ones(corr_matrix.shape), k=1).astype(bool))\n",
        "    to_drop = [column for column in upper.columns if any(upper[column] > threshold)]\n",
        "    return to_drop\n",
        "\n",
        "highly_correlated(df, 0.8)"
      ]
    },
    {
      "cell_type": "markdown",
      "metadata": {
        "id": "ugqtyz12W2RV"
      },
      "source": [
        "According to the correlation matrix Weight and BMI are highly coorelated so we can ommit Weight column"
      ]
    },
    {
      "cell_type": "code",
      "execution_count": null,
      "metadata": {
        "id": "JVFjuP6pXGAg"
      },
      "outputs": [],
      "source": [
        "df.drop('Weight', axis=1, inplace=True)"
      ]
    },
    {
      "cell_type": "markdown",
      "source": [
        "**converting 'Work load Average/day' data cells from string to integer**"
      ],
      "metadata": {
        "id": "UTjXBZ6Ja6CZ"
      }
    },
    {
      "cell_type": "code",
      "source": [
        "def convert_to_int(df, column_name):\n",
        "    df[column_name] = df[column_name].apply(lambda x: float(str(x).replace(',', '')))\n",
        "    return df\n",
        "df = convert_to_int(df, 'Work load Average/day')"
      ],
      "metadata": {
        "id": "G1jJhl6SbE0R"
      },
      "execution_count": null,
      "outputs": []
    },
    {
      "cell_type": "markdown",
      "metadata": {
        "id": "6UXRJFE9SVFT"
      },
      "source": [
        "**Filling empty cells in \"Transportation expense\" , \"Distance from Residence to Work\", \"Service time\", \"Age\", \"Work load Average/day\", \"HIT target\", \"Son\", \"Pet\" , \"Weight\" with mean**"
      ]
    },
    {
      "cell_type": "code",
      "execution_count": null,
      "metadata": {
        "colab": {
          "base_uri": "https://localhost:8080/"
        },
        "id": "DwbA4qiCfbJa",
        "outputId": "64fc2300-29a3-415e-ad83-06f7e1554e99"
      },
      "outputs": [
        {
          "output_type": "execute_result",
          "data": {
            "text/plain": [
              "[('Reason for absence', 3),\n",
              " ('Month of absence', 1),\n",
              " ('Transportation expense', 6),\n",
              " ('Distance from Residence to Work', 3),\n",
              " ('Service time', 3),\n",
              " ('Age', 2),\n",
              " ('Work load Average/day', 8),\n",
              " ('Hit target', 6),\n",
              " ('Disciplinary failure', 5),\n",
              " ('Education', 10),\n",
              " ('Son', 6),\n",
              " ('Social drinker', 3),\n",
              " ('Social smoker', 3),\n",
              " ('Pet', 2),\n",
              " ('Height', 12)]"
            ]
          },
          "metadata": {},
          "execution_count": 10
        }
      ],
      "source": [
        "empty_cells(df)"
      ]
    },
    {
      "cell_type": "code",
      "source": [
        "def fillna_mean(df, column_name):\n",
        "    \"\"\"\n",
        "    Get a column from a dataframe and fill empty rows with the average of that column\n",
        "    \"\"\"\n",
        "    column = df[column_name]\n",
        "    df[column_name] = column.fillna(column.mean())\n",
        "    return df\n",
        "\n",
        "def fill_null_with_normal_distribution(df, column_name):\n",
        "    \"\"\"\n",
        "    Fill null cells in a column with normal distribution\n",
        "    \"\"\"\n",
        "    mean = df[column_name].mean()\n",
        "    std = df[column_name].std()\n",
        "    null_count = df[column_name].isnull().sum()\n",
        "    random_list = np.random.randn(null_count)\n",
        "    random_list = random_list * std + mean\n",
        "    random_list = random_list.round().astype(int)\n",
        "    df.loc[df[column_name].isnull(), column_name] = random_list\n",
        "    return df\n",
        "\n",
        "df = fill_null_with_normal_distribution(df, 'Reason for absence')\n",
        "df = fill_null_with_normal_distribution(df, 'Month of absence')\n",
        "df = fill_null_with_normal_distribution(df, 'Transportation expense')\n",
        "df = fill_null_with_normal_distribution(df, 'Distance from Residence to Work')\n",
        "df = fill_null_with_normal_distribution(df, 'Service time')\n",
        "df = fill_null_with_normal_distribution(df, 'Age')\n",
        "df = fillna_mean(df, 'Work load Average/day')\n",
        "df = fill_null_with_normal_distribution(df, 'Hit target')\n",
        "df = fill_null_with_normal_distribution(df, 'Disciplinary failure')\n",
        "df = fill_null_with_normal_distribution(df, 'Education')\n",
        "df = fill_null_with_normal_distribution(df, 'Son')\n",
        "df = fill_null_with_normal_distribution(df, 'Social drinker')\n",
        "df = fill_null_with_normal_distribution(df, 'Social smoker')\n",
        "df = fill_null_with_normal_distribution(df, 'Pet')\n",
        "df = fill_null_with_normal_distribution(df, 'Height')"
      ],
      "metadata": {
        "id": "WBT1UgE2aMOL"
      },
      "execution_count": null,
      "outputs": []
    },
    {
      "cell_type": "markdown",
      "source": [
        "**Finding outliners and noises in data and removing them**"
      ],
      "metadata": {
        "id": "ndHqgD08d0R4"
      }
    },
    {
      "cell_type": "code",
      "source": [
        "df.boxplot(column=['Absenteeism time in hours', 'Service time', 'Age', 'Transportation expense'])\n",
        "plt.show()"
      ],
      "metadata": {
        "colab": {
          "base_uri": "https://localhost:8080/",
          "height": 266
        },
        "id": "w1JT-5aunVGU",
        "outputId": "f2dcb82a-49fa-445a-b983-7fa798b1cc22"
      },
      "execution_count": null,
      "outputs": [
        {
          "output_type": "display_data",
          "data": {
            "text/plain": [
              "<Figure size 432x288 with 1 Axes>"
            ],
            "image/png": "[encoded data removed]"
          },
          "metadata": {
            "needs_background": "light"
          }
        }
      ]
    },
    {
      "cell_type": "code",
      "source": [
        "def find_outliners(df, col):\n",
        "    q1 = df[col].quantile(0.25)\n",
        "    q3 = df[col].quantile(0.75)\n",
        "    iqr = q3 - q1\n",
        "    lower_bound = q1 - (1.5 * iqr)\n",
        "    upper_bound = q3 + (1.5 * iqr)\n",
        "    return df[(df[col] < lower_bound) | (df[col] > upper_bound)]\n",
        "\n",
        "Absenteeism_outliners   = find_outliners(df, 'Absenteeism time in hours')\n",
        "df.drop(Absenteeism_outliners.index.tolist(),  inplace=True)\n",
        "\n",
        "load_outliners          = find_outliners(df, 'Work load Average/day')\n",
        "df.drop(load_outliners.index.tolist(),         inplace=True)\n",
        "\n",
        "Service_outliners       = find_outliners(df, 'Service time')\n",
        "df.drop(Service_outliners.index.tolist(),      inplace=True)\n",
        "\n",
        "Age_outliners           = find_outliners(df, 'Age')\n",
        "df.drop(Age_outliners.index.tolist(),          inplace=True)\n",
        "\n",
        "Transportation_outliners= find_outliners(df, 'Transportation expense')\n",
        "df.drop(Transportation_outliners.index.tolist(),  inplace=True)"
      ],
      "metadata": {
        "id": "iDFqQJ89d0qH"
      },
      "execution_count": null,
      "outputs": []
    },
    {
      "cell_type": "markdown",
      "source": [
        "**Removing least coorelated columns with the 'Absenteeism time in hours' column**"
      ],
      "metadata": {
        "id": "4wnoTlmtjf4k"
      }
    },
    {
      "cell_type": "code",
      "source": [
        "def least_correlated(df, col):\n",
        "    corr_matrix = df.corr().abs()\n",
        "    corr_col = corr_matrix[col].sort_values(ascending=True)\n",
        "    return corr_col[:5]\n",
        "\n",
        "least_correlated(df, 'Absenteeism time in hours')"
      ],
      "metadata": {
        "colab": {
          "base_uri": "https://localhost:8080/"
        },
        "id": "CjsEm6QVjgOO",
        "outputId": "09c6d409-c5d6-445a-88b2-8b2b9e6f2b40"
      },
      "execution_count": null,
      "outputs": [
        {
          "output_type": "execute_result",
          "data": {
            "text/plain": [
              "Month of absence                   0.007721\n",
              "Pet                                0.009772\n",
              "Hit target                         0.015017\n",
              "Distance from Residence to Work    0.015713\n",
              "Education                          0.019451\n",
              "Name: Absenteeism time in hours, dtype: float64"
            ]
          },
          "metadata": {},
          "execution_count": 16
        }
      ]
    },
    {
      "cell_type": "markdown",
      "source": [
        "'Month of absence' and 'Pet' columns have really low coorelation with the target, so we can remove them"
      ],
      "metadata": {
        "id": "W2XCAuQRlipY"
      }
    },
    {
      "cell_type": "code",
      "source": [
        "df.drop('Month of absence', axis=1, inplace=True)\n",
        "df.drop('Pet', axis=1, inplace=True)"
      ],
      "metadata": {
        "id": "ZKQiIVtplKw5"
      },
      "execution_count": null,
      "outputs": []
    },
    {
      "cell_type": "markdown",
      "source": [
        "**Finding the most important features in a dataframe usuing ExtraTreesClassifier**"
      ],
      "metadata": {
        "id": "CPvRO3SVmDte"
      }
    },
    {
      "cell_type": "code",
      "source": [
        "def most_important_features(df, n=10):\n",
        "    \"\"\"\n",
        "    Returns a list of the most important features in a dataframe.\n",
        "    \"\"\"\n",
        "    X = df.drop(columns=['Absenteeism time in hours'])\n",
        "    y = df['Absenteeism time in hours']\n",
        "    model = ExtraTreesClassifier()\n",
        "    model.fit(X, y)\n",
        "    return list(X.columns[model.feature_importances_.argsort()[::-1][:n]])\n",
        "\n",
        "most_important_features(df,5)"
      ],
      "metadata": {
        "colab": {
          "base_uri": "https://localhost:8080/"
        },
        "id": "8Kp1d91rmEXy",
        "outputId": "a24be1e0-a787-466d-9636-a8ce51a464b6"
      },
      "execution_count": null,
      "outputs": [
        {
          "output_type": "execute_result",
          "data": {
            "text/plain": [
              "['Reason for absence',\n",
              " 'Day of the week',\n",
              " 'Work load Average/day',\n",
              " 'Hit target',\n",
              " 'Seasons']"
            ]
          },
          "metadata": {},
          "execution_count": 53
        }
      ]
    },
    {
      "cell_type": "code",
      "source": [
        "def most_correlated(df, col):\n",
        "    corr_matrix = df.corr().abs()\n",
        "    corr_col = corr_matrix[col].sort_values(ascending=False)\n",
        "    return corr_col[1:10]\n",
        "\n",
        "most_correlated(df, 'Absenteeism time in hours')"
      ],
      "metadata": {
        "colab": {
          "base_uri": "https://localhost:8080/"
        },
        "id": "JcGl10vCwyBD",
        "outputId": "5095ebc3-22c9-448c-ad6b-6c69f8adb1ae"
      },
      "execution_count": null,
      "outputs": [
        {
          "output_type": "execute_result",
          "data": {
            "text/plain": [
              "Disciplinary failure      0.276456\n",
              "Transportation expense    0.184575\n",
              "ID                        0.168742\n",
              "Son                       0.147659\n",
              "Reason for absence        0.137390\n",
              "Social drinker            0.105012\n",
              "Age                       0.097368\n",
              "Day of the week           0.073626\n",
              "Service time              0.072061\n",
              "Name: Absenteeism time in hours, dtype: float64"
            ]
          },
          "metadata": {},
          "execution_count": 68
        }
      ]
    },
    {
      "cell_type": "code",
      "source": [
        "plt.scatter(df['Reason for absence'] , df['Absenteeism time in hours'])\n",
        "plt.xlabel('Reason for absence')\n",
        "plt.ylabel('Absenteeism time in hours')"
      ],
      "metadata": {
        "colab": {
          "base_uri": "https://localhost:8080/",
          "height": 313
        },
        "id": "Vxiw01Btsnpy",
        "outputId": "94583b92-3982-4cff-ea70-6c1d3549903e"
      },
      "execution_count": null,
      "outputs": [
        {
          "output_type": "execute_result",
          "data": {
            "text/plain": [
              "Text(0.5, 1.0, 'Sepal Length vs Sepal Width')"
            ]
          },
          "metadata": {},
          "execution_count": 55
        },
        {
          "output_type": "display_data",
          "data": {
            "text/plain": [
              "<Figure size 432x288 with 1 Axes>"
            ],
            "image/png": "[encoded data removed]"
          },
          "metadata": {
            "needs_background": "light"
          }
        }
      ]
    },
    {
      "cell_type": "code",
      "source": [
        "plt.scatter(df['Day of the week'] , df['Absenteeism time in hours'])\n",
        "plt.xlabel('Day of the week')\n",
        "plt.ylabel('Absenteeism time in hours')"
      ],
      "metadata": {
        "colab": {
          "base_uri": "https://localhost:8080/",
          "height": 297
        },
        "id": "yMyL-ePXxtf5",
        "outputId": "e3048559-e94b-4a07-d244-939c68fdfe13"
      },
      "execution_count": null,
      "outputs": [
        {
          "output_type": "execute_result",
          "data": {
            "text/plain": [
              "Text(0, 0.5, 'Absenteeism time in hours')"
            ]
          },
          "metadata": {},
          "execution_count": 57
        },
        {
          "output_type": "display_data",
          "data": {
            "text/plain": [
              "<Figure size 432x288 with 1 Axes>"
            ],
            "image/png": "[encoded data removed]"
          },
          "metadata": {
            "needs_background": "light"
          }
        }
      ]
    },
    {
      "cell_type": "markdown",
      "source": [
        ""
      ],
      "metadata": {
        "id": "YgygHLrMBEmS"
      }
    },
    {
      "cell_type": "code",
      "source": [
        "def calculate_statistics(data_frame):\n",
        "    \"\"\"\n",
        "    Calculate the average, variance, and domain of change in every column of the data frame\n",
        "    \"\"\"\n",
        "    # Calculate the average of every column\n",
        "    average = data_frame.mean()\n",
        "    # Calculate the variance of every column\n",
        "    variance = data_frame.var()\n",
        "    # Calculate the domain of change of every column\n",
        "    domain_of_change = data_frame.max() - data_frame.min()\n",
        "    # Return the average, variance, and domain of change\n",
        "    return average, variance, domain_of_change\n",
        "\n",
        "calculate_statistics(df)"
      ],
      "metadata": {
        "id": "mVvt0bRRBFH1"
      },
      "execution_count": null,
      "outputs": []
    },
    {
      "cell_type": "markdown",
      "source": [
        "**Visualizing data using PCA and UMAP**"
      ],
      "metadata": {
        "id": "vtywwjoTet78"
      }
    },
    {
      "cell_type": "code",
      "source": [
        "def apply_pca(df, n_components):\n",
        "    pca = PCA(n_components=n_components)\n",
        "    pca.fit(df)\n",
        "    pca_df = pd.DataFrame(pca.transform(df))\n",
        "    return pca_df\n",
        "\n",
        "pf = apply_pca(df, 2)\n",
        "plt.scatter(pf[0], pf[1],cmap='Spectral')\n",
        "#plt.gca().set_aspect('equal', 'datalim')\n",
        "plt.title('PCA projection of the dataset', fontsize=24);"
      ],
      "metadata": {
        "colab": {
          "base_uri": "https://localhost:8080/",
          "height": 290
        },
        "id": "iZt2eR4aetli",
        "outputId": "f4168489-4eaa-4153-b4fa-6df81b6164bc"
      },
      "execution_count": null,
      "outputs": [
        {
          "output_type": "display_data",
          "data": {
            "text/plain": [
              "<Figure size 432x288 with 1 Axes>"
            ],
            "image/png": "[encoded data removed]"
          },
          "metadata": {
            "needs_background": "light"
          }
        }
      ]
    },
    {
      "cell_type": "markdown",
      "source": [
        "Installing UMAP"
      ],
      "metadata": {
        "id": "2OykFkcs7U42"
      }
    },
    {
      "cell_type": "code",
      "source": [
        "!pip install umap-learn"
      ],
      "metadata": {
        "id": "IbiEGEjU7Up3"
      },
      "execution_count": null,
      "outputs": []
    },
    {
      "cell_type": "code",
      "source": [
        "import umap\n",
        "def umap_visualize(df, n_neighbors=15, min_dist=0.1, n_components=8, metric='euclidean'):\n",
        "    \"\"\"\n",
        "    Apply UMAP on a dataframe and visualize the result\n",
        "    \"\"\"\n",
        "    # Apply UMAP\n",
        "    reducer = umap.UMAP(n_neighbors=n_neighbors,\n",
        "                        min_dist=min_dist,\n",
        "                        n_components=n_components,\n",
        "                        metric=metric)\n",
        "    embedding = reducer.fit_transform(df)\n",
        "    \n",
        "    # Visualize the result\n",
        "    plt.scatter(embedding[:, 0], embedding[:, 1], cmap='Spectral', s=5)\n",
        "    plt.gca().set_aspect('equal', 'datalim')\n",
        "    plt.title('UMAP projection of the dataset', fontsize=24);\n",
        "    \n",
        "    return embedding\n",
        "\n",
        "# Apply UMAP on the dataframe\n",
        "embedding = umap_visualize(df)"
      ],
      "metadata": {
        "colab": {
          "base_uri": "https://localhost:8080/",
          "height": 325
        },
        "id": "ehWVZPrphFro",
        "outputId": "e0168dd4-58a9-4b00-8378-04e3cd7426c8"
      },
      "execution_count": null,
      "outputs": [
        {
          "output_type": "stream",
          "name": "stderr",
          "text": [
            "/usr/local/lib/python3.7/dist-packages/sklearn/manifold/_spectral_embedding.py:261: UserWarning: Graph is not fully connected, spectral embedding may not work as expected.\n",
            "  \"Graph is not fully connected, spectral embedding may not work as expected.\"\n"
          ]
        },
        {
          "output_type": "display_data",
          "data": {
            "text/plain": [
              "<Figure size 432x288 with 1 Axes>"
            ],
            "image/png": "[encoded data removed]"
          },
          "metadata": {
            "needs_background": "light"
          }
        }
      ]
    },
    {
      "cell_type": "markdown",
      "source": [
        "**Removing noise datas using PCA**"
      ],
      "metadata": {
        "id": "rVQZ-JC2HBNH"
      }
    },
    {
      "cell_type": "code",
      "source": [
        "pf = apply_pca(df, 2)\n",
        "def outliers(df, coe_step = 1.5):\n",
        "    outliers = []\n",
        "    for col in df.columns:\n",
        "        if df[col].dtype != object:\n",
        "            Q1 = df[col].quantile(0.25)\n",
        "            Q3 = df[col].quantile(0.75)\n",
        "            IQR = Q3 - Q1\n",
        "            outlier_step = coe_step * IQR\n",
        "            outlier_list_col = df[(df[col] < Q1 - outlier_step) | (df[col] > Q3 + outlier_step )].index\n",
        "            outliers.extend(outlier_list_col)\n",
        "    return outliers\n",
        "\n",
        "outliers_indx = outliers(pf,1.4)\n",
        "pf.drop(outliers_indx, inplace=True)"
      ],
      "metadata": {
        "id": "RjSTDRCpHKaX"
      },
      "execution_count": null,
      "outputs": []
    },
    {
      "cell_type": "markdown",
      "source": [
        "**Clustring *Data***"
      ],
      "metadata": {
        "id": "JecQrano9NSW"
      }
    },
    {
      "cell_type": "code",
      "source": [
        "#pf = apply_pca(df, 2)\n",
        "from sklearn.mixture import GaussianMixture\n",
        "def cluster_data(df, n_clusters):\n",
        "    \"\"\"\n",
        "    Cluster a dataframe using Gaussian Mixture model\n",
        "    \"\"\"\n",
        "    # Create a Gaussian Mixture model\n",
        "    gmm = GaussianMixture(n_components=n_clusters, random_state=42)\n",
        "    # Fit the model to the data\n",
        "    gmm.fit(df)\n",
        "    # Predict the labels\n",
        "    labels = gmm.predict(df)\n",
        "    # Return the labels\n",
        "    return labels\n",
        "\n",
        "n_components = np.arange(1, 12)\n",
        "models = [GaussianMixture(n, covariance_type='full', random_state=0).fit(pf) for n in n_components]\n",
        "plt.plot(n_components, [m.bic(pf) for m in models], label='BIC')\n",
        "plt.plot(n_components, [m.aic(pf) for m in models], label='AIC')\n",
        "plt.legend(loc='best')\n",
        "plt.xlabel('n_components')"
      ],
      "metadata": {
        "colab": {
          "base_uri": "https://localhost:8080/",
          "height": 298
        },
        "id": "K9XoNW0xMkNU",
        "outputId": "0bb93cd7-05e5-4fdd-9538-0cc23deb1a49"
      },
      "execution_count": null,
      "outputs": [
        {
          "output_type": "execute_result",
          "data": {
            "text/plain": [
              "Text(0.5, 0, 'n_components')"
            ]
          },
          "metadata": {},
          "execution_count": 108
        },
        {
          "output_type": "display_data",
          "data": {
            "text/plain": [
              "<Figure size 432x288 with 1 Axes>"
            ],
            "image/png": "[encoded data removed]"
          },
          "metadata": {
            "needs_background": "light"
          }
        }
      ]
    },
    {
      "cell_type": "code",
      "source": [
        "labels = cluster_data(pf, 9)\n",
        "plt.scatter(pf[0], pf[1], c=labels, cmap='viridis')"
      ],
      "metadata": {
        "colab": {
          "base_uri": "https://localhost:8080/",
          "height": 283
        },
        "id": "tWCTh-3zSY34",
        "outputId": "99890298-2c38-487a-c7c1-2210ff5fd3b6"
      },
      "execution_count": null,
      "outputs": [
        {
          "output_type": "execute_result",
          "data": {
            "text/plain": [
              "<matplotlib.collections.PathCollection at 0x7f910dd9a950>"
            ]
          },
          "metadata": {},
          "execution_count": 115
        },
        {
          "output_type": "display_data",
          "data": {
            "text/plain": [
              "<Figure size 432x288 with 1 Axes>"
            ],
            "image/png": "[encoded data removed]"
          },
          "metadata": {
            "needs_background": "light"
          }
        }
      ]
    },
    {
      "cell_type": "code",
      "source": [
        ""
      ],
      "metadata": {
        "id": "6vvcwmNimZ_n"
      },
      "execution_count": null,
      "outputs": []
    }
  ],
  "metadata": {
    "colab": {
      "name": "DataMining-Ex1.ipynb",
      "provenance": [],
      "collapsed_sections": [],
      "authorship_tag": "ABX9TyMg1xnGhSFZf7brmAHDjhDu",
      "include_colab_link": true
    },
    "kernelspec": {
      "display_name": "Python 3",
      "name": "python3"
    },
    "language_info": {
      "name": "python"
    }
  },
  "nbformat": 4,
  "nbformat_minor": 0
}