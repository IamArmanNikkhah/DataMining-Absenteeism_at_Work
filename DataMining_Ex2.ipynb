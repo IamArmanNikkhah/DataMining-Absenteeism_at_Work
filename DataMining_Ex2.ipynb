{
  "cells": [
    {
      "cell_type": "markdown",
      "metadata": {
        "id": "view-in-github",
        "colab_type": "text"
      },
      "source": [
        "<a href=\"https://colab.research.google.com/github/IamArmanNikkhah/DataMining-Absenteeism_at_Work/blob/main/DataMining_Ex2.ipynb\" target=\"_parent\"><img src=\"https://colab.research.google.com/assets/colab-badge.svg\" alt=\"Open In Colab\"/></a>"
      ]
    },
    {
      "cell_type": "markdown",
      "metadata": {
        "id": "tOiyB4XV1AlW"
      },
      "source": [
        "**Importing Packages**"
      ]
    },
    {
      "cell_type": "code",
      "execution_count": null,
      "metadata": {
        "id": "6uzGOpJS01bG"
      },
      "outputs": [],
      "source": [
        "import pandas as pd\n",
        "import numpy as np\n",
        "import matplotlib.pyplot as plt\n",
        "from sklearn.ensemble import ExtraTreesClassifier\n",
        "from sklearn.decomposition import PCA\n",
        "import math"
      ]
    },
    {
      "cell_type": "markdown",
      "metadata": {
        "id": "Z3BQIEIbDe7H"
      },
      "source": [
        "**Cloning required files**"
      ]
    },
    {
      "cell_type": "code",
      "execution_count": null,
      "metadata": {
        "colab": {
          "base_uri": "https://localhost:8080/"
        },
        "id": "YSvirQMPDeZt",
        "outputId": "e5b53fa8-df1e-4f32-ade3-2491220c056d"
      },
      "outputs": [
        {
          "output_type": "stream",
          "name": "stdout",
          "text": [
            "fatal: destination path 'DataMining-Preprocess-Absenteeism_at_Work' already exists and is not an empty directory.\n"
          ]
        }
      ],
      "source": [
        "!git clone https://github.com/IamArmanNikkhah/DataMining-Preprocess-Absenteeism_at_Work.git"
      ]
    },
    {
      "cell_type": "markdown",
      "metadata": {
        "id": "bJrxEXZR4NRD"
      },
      "source": [
        "**Load CSV file**"
      ]
    },
    {
      "cell_type": "code",
      "execution_count": null,
      "metadata": {
        "id": "xu4asA7J4WrL"
      },
      "outputs": [],
      "source": [
        "df = pd.read_csv('/content/DataMining-Preprocess-Absenteeism_at_Work/Absenteeism_at_work.csv')"
      ]
    },
    {
      "cell_type": "markdown",
      "metadata": {
        "id": "5UZ07Fvm8Gfp"
      },
      "source": [
        "# Data Pre-processing"
      ]
    },
    {
      "cell_type": "markdown",
      "metadata": {
        "id": "yMhRaRKf8SZo"
      },
      "source": [
        "**Finding empty cells  in each row**"
      ]
    },
    {
      "cell_type": "code",
      "execution_count": null,
      "metadata": {
        "colab": {
          "base_uri": "https://localhost:8080/"
        },
        "id": "zUuRAqN97Cdt",
        "outputId": "0398fe03-f9e9-471e-8c08-8842e048c7bc"
      },
      "outputs": [
        {
          "output_type": "execute_result",
          "data": {
            "text/plain": [
              "[('Reason for absence', 3),\n",
              " ('Month of absence', 1),\n",
              " ('Transportation expense', 7),\n",
              " ('Distance from Residence to Work', 3),\n",
              " ('Service time', 3),\n",
              " ('Age', 3),\n",
              " ('Work load Average/day', 10),\n",
              " ('Hit target', 6),\n",
              " ('Disciplinary failure', 6),\n",
              " ('Education', 10),\n",
              " ('Son', 6),\n",
              " ('Social drinker', 3),\n",
              " ('Social smoker', 4),\n",
              " ('Pet', 2),\n",
              " ('Weight', 1),\n",
              " ('Height', 14),\n",
              " ('Body mass index', 31),\n",
              " ('Absenteeism time in hours', 22)]"
            ]
          },
          "metadata": {},
          "execution_count": 4
        }
      ],
      "source": [
        "def empty_cells(df):\n",
        "    \"\"\"\n",
        "    Returns a list of columns with empty cells and the number of them\n",
        "    \"\"\"\n",
        "    empty_cells = []\n",
        "    for col in df.columns:\n",
        "        if df[col].isnull().sum() > 0:\n",
        "            empty_cells.append((col, df[col].isnull().sum()))\n",
        "    return empty_cells\n",
        "\n",
        "empty_cells(df)"
      ]
    },
    {
      "cell_type": "markdown",
      "metadata": {
        "id": "0KXERqAC8iPK"
      },
      "source": [
        "**Remove rows that have empty cells in \"Absenteeism time in hours\" column**"
      ]
    },
    {
      "cell_type": "code",
      "execution_count": null,
      "metadata": {
        "id": "DhAVOuc28zQW"
      },
      "outputs": [],
      "source": [
        "def drop_empty_rows(df, column):\n",
        "    return df.dropna(subset=[column])\n",
        "df = drop_empty_rows(df, 'Absenteeism time in hours')"
      ]
    },
    {
      "cell_type": "markdown",
      "metadata": {
        "id": "H7GU5Ranblvz"
      },
      "source": [
        "**Calculating null BMI values (if applicable)**\n"
      ]
    },
    {
      "cell_type": "code",
      "execution_count": null,
      "metadata": {
        "colab": {
          "base_uri": "https://localhost:8080/"
        },
        "id": "s5cilJn9oqN9",
        "outputId": "2b034617-7d1a-43b5-e40b-4745d0d94701"
      },
      "outputs": [
        {
          "output_type": "execute_result",
          "data": {
            "text/plain": [
              "2"
            ]
          },
          "metadata": {},
          "execution_count": 6
        }
      ],
      "source": [
        "# find empty cells in the BMI column\n",
        "empty_cell = df['Body mass index'].isnull()\n",
        "\n",
        "# calculate BMI according to Weight and Height columns if applicable\n",
        "df.loc[empty_cell, 'Body mass index'] = df.loc[empty_cell, 'Weight'] / (df.loc[empty_cell, 'Height']/100)**2\n",
        "\n",
        "# check if there are still empty cells in the BMI column\n",
        "df['Body mass index'].isnull().sum()\n"
      ]
    },
    {
      "cell_type": "code",
      "execution_count": null,
      "metadata": {
        "colab": {
          "base_uri": "https://localhost:8080/",
          "height": 238
        },
        "id": "ZCLnaIZDlgZD",
        "outputId": "e0ecf126-2c29-4636-8806-e9312e585a2a"
      },
      "outputs": [
        {
          "output_type": "execute_result",
          "data": {
            "text/plain": [
              "     ID  Reason for absence  Month of absence  Day of the week  Seasons  \\\n",
              "272  11                19.0               9.0                4        1   \n",
              "273   5                 0.0               9.0                5        1   \n",
              "\n",
              "     Transportation expense  Distance from Residence to Work  Service time  \\\n",
              "272                   289.0                             36.0          13.0   \n",
              "273                   235.0                             20.0          13.0   \n",
              "\n",
              "      Age Work load Average/day  ...  Disciplinary failure  Education  Son  \\\n",
              "272  33.0               294,217  ...                   0.0        1.0  2.0   \n",
              "273  43.0               294,217  ...                   1.0        1.0  1.0   \n",
              "\n",
              "     Social drinker  Social smoker  Pet  Weight  Height  Body mass index  \\\n",
              "272             1.0            NaN  1.0    90.0     NaN              NaN   \n",
              "273             1.0            0.0  0.0   106.0     NaN              NaN   \n",
              "\n",
              "     Absenteeism time in hours  \n",
              "272                       24.0  \n",
              "273                        0.0  \n",
              "\n",
              "[2 rows x 21 columns]"
            ],
            "text/html": [
              "\n",
              "  <div id=\"df-8c30cc0c-d696-4db8-b800-170d49e12deb\">\n",
              "    <div class=\"colab-df-container\">\n",
              "      <div>\n",
              "<style scoped>\n",
              "    .dataframe tbody tr th:only-of-type {\n",
              "        vertical-align: middle;\n",
              "    }\n",
              "\n",
              "    .dataframe tbody tr th {\n",
              "        vertical-align: top;\n",
              "    }\n",
              "\n",
              "    .dataframe thead th {\n",
              "        text-align: right;\n",
              "    }\n",
              "</style>\n",
              "<table border=\"1\" class=\"dataframe\">\n",
              "  <thead>\n",
              "    <tr style=\"text-align: right;\">\n",
              "      <th></th>\n",
              "      <th>ID</th>\n",
              "      <th>Reason for absence</th>\n",
              "      <th>Month of absence</th>\n",
              "      <th>Day of the week</th>\n",
              "      <th>Seasons</th>\n",
              "      <th>Transportation expense</th>\n",
              "      <th>Distance from Residence to Work</th>\n",
              "      <th>Service time</th>\n",
              "      <th>Age</th>\n",
              "      <th>Work load Average/day</th>\n",
              "      <th>...</th>\n",
              "      <th>Disciplinary failure</th>\n",
              "      <th>Education</th>\n",
              "      <th>Son</th>\n",
              "      <th>Social drinker</th>\n",
              "      <th>Social smoker</th>\n",
              "      <th>Pet</th>\n",
              "      <th>Weight</th>\n",
              "      <th>Height</th>\n",
              "      <th>Body mass index</th>\n",
              "      <th>Absenteeism time in hours</th>\n",
              "    </tr>\n",
              "  </thead>\n",
              "  <tbody>\n",
              "    <tr>\n",
              "      <th>272</th>\n",
              "      <td>11</td>\n",
              "      <td>19.0</td>\n",
              "      <td>9.0</td>\n",
              "      <td>4</td>\n",
              "      <td>1</td>\n",
              "      <td>289.0</td>\n",
              "      <td>36.0</td>\n",
              "      <td>13.0</td>\n",
              "      <td>33.0</td>\n",
              "      <td>294,217</td>\n",
              "      <td>...</td>\n",
              "      <td>0.0</td>\n",
              "      <td>1.0</td>\n",
              "      <td>2.0</td>\n",
              "      <td>1.0</td>\n",
              "      <td>NaN</td>\n",
              "      <td>1.0</td>\n",
              "      <td>90.0</td>\n",
              "      <td>NaN</td>\n",
              "      <td>NaN</td>\n",
              "      <td>24.0</td>\n",
              "    </tr>\n",
              "    <tr>\n",
              "      <th>273</th>\n",
              "      <td>5</td>\n",
              "      <td>0.0</td>\n",
              "      <td>9.0</td>\n",
              "      <td>5</td>\n",
              "      <td>1</td>\n",
              "      <td>235.0</td>\n",
              "      <td>20.0</td>\n",
              "      <td>13.0</td>\n",
              "      <td>43.0</td>\n",
              "      <td>294,217</td>\n",
              "      <td>...</td>\n",
              "      <td>1.0</td>\n",
              "      <td>1.0</td>\n",
              "      <td>1.0</td>\n",
              "      <td>1.0</td>\n",
              "      <td>0.0</td>\n",
              "      <td>0.0</td>\n",
              "      <td>106.0</td>\n",
              "      <td>NaN</td>\n",
              "      <td>NaN</td>\n",
              "      <td>0.0</td>\n",
              "    </tr>\n",
              "  </tbody>\n",
              "</table>\n",
              "<p>2 rows × 21 columns</p>\n",
              "</div>\n",
              "      <button class=\"colab-df-convert\" onclick=\"convertToInteractive('df-8c30cc0c-d696-4db8-b800-170d49e12deb')\"\n",
              "              title=\"Convert this dataframe to an interactive table.\"\n",
              "              style=\"display:none;\">\n",
              "        \n",
              "  <svg xmlns=\"http://www.w3.org/2000/svg\" height=\"24px\"viewBox=\"0 0 24 24\"\n",
              "       width=\"24px\">\n",
              "    <path d=\"M0 0h24v24H0V0z\" fill=\"none\"/>\n",
              "    <path d=\"M18.56 5.44l.94 2.06.94-2.06 2.06-.94-2.06-.94-.94-2.06-.94 2.06-2.06.94zm-11 1L8.5 8.5l.94-2.06 2.06-.94-2.06-.94L8.5 2.5l-.94 2.06-2.06.94zm10 10l.94 2.06.94-2.06 2.06-.94-2.06-.94-.94-2.06-.94 2.06-2.06.94z\"/><path d=\"M17.41 7.96l-1.37-1.37c-.4-.4-.92-.59-1.43-.59-.52 0-1.04.2-1.43.59L10.3 9.45l-7.72 7.72c-.78.78-.78 2.05 0 2.83L4 21.41c.39.39.9.59 1.41.59.51 0 1.02-.2 1.41-.59l7.78-7.78 2.81-2.81c.8-.78.8-2.07 0-2.86zM5.41 20L4 18.59l7.72-7.72 1.47 1.35L5.41 20z\"/>\n",
              "  </svg>\n",
              "      </button>\n",
              "      \n",
              "  <style>\n",
              "    .colab-df-container {\n",
              "      display:flex;\n",
              "      flex-wrap:wrap;\n",
              "      gap: 12px;\n",
              "    }\n",
              "\n",
              "    .colab-df-convert {\n",
              "      background-color: #E8F0FE;\n",
              "      border: none;\n",
              "      border-radius: 50%;\n",
              "      cursor: pointer;\n",
              "      display: none;\n",
              "      fill: #1967D2;\n",
              "      height: 32px;\n",
              "      padding: 0 0 0 0;\n",
              "      width: 32px;\n",
              "    }\n",
              "\n",
              "    .colab-df-convert:hover {\n",
              "      background-color: #E2EBFA;\n",
              "      box-shadow: 0px 1px 2px rgba(60, 64, 67, 0.3), 0px 1px 3px 1px rgba(60, 64, 67, 0.15);\n",
              "      fill: #174EA6;\n",
              "    }\n",
              "\n",
              "    [theme=dark] .colab-df-convert {\n",
              "      background-color: #3B4455;\n",
              "      fill: #D2E3FC;\n",
              "    }\n",
              "\n",
              "    [theme=dark] .colab-df-convert:hover {\n",
              "      background-color: #434B5C;\n",
              "      box-shadow: 0px 1px 3px 1px rgba(0, 0, 0, 0.15);\n",
              "      filter: drop-shadow(0px 1px 2px rgba(0, 0, 0, 0.3));\n",
              "      fill: #FFFFFF;\n",
              "    }\n",
              "  </style>\n",
              "\n",
              "      <script>\n",
              "        const buttonEl =\n",
              "          document.querySelector('#df-8c30cc0c-d696-4db8-b800-170d49e12deb button.colab-df-convert');\n",
              "        buttonEl.style.display =\n",
              "          google.colab.kernel.accessAllowed ? 'block' : 'none';\n",
              "\n",
              "        async function convertToInteractive(key) {\n",
              "          const element = document.querySelector('#df-8c30cc0c-d696-4db8-b800-170d49e12deb');\n",
              "          const dataTable =\n",
              "            await google.colab.kernel.invokeFunction('convertToInteractive',\n",
              "                                                     [key], {});\n",
              "          if (!dataTable) return;\n",
              "\n",
              "          const docLinkHtml = 'Like what you see? Visit the ' +\n",
              "            '<a target=\"_blank\" href=https://colab.research.google.com/notebooks/data_table.ipynb>data table notebook</a>'\n",
              "            + ' to learn more about interactive tables.';\n",
              "          element.innerHTML = '';\n",
              "          dataTable['output_type'] = 'display_data';\n",
              "          await google.colab.output.renderOutput(dataTable, element);\n",
              "          const docLink = document.createElement('div');\n",
              "          docLink.innerHTML = docLinkHtml;\n",
              "          element.appendChild(docLink);\n",
              "        }\n",
              "      </script>\n",
              "    </div>\n",
              "  </div>\n",
              "  "
            ]
          },
          "metadata": {},
          "execution_count": 7
        }
      ],
      "source": [
        "df[df['Body mass index'].isnull()]"
      ]
    },
    {
      "cell_type": "markdown",
      "metadata": {
        "id": "2HIUs17wpid6"
      },
      "source": [
        "**Delete rows that their BMI can't be calculated**\n"
      ]
    },
    {
      "cell_type": "code",
      "execution_count": null,
      "metadata": {
        "id": "FkEfBe8bpQ62"
      },
      "outputs": [],
      "source": [
        "df = df.dropna(subset=['Body mass index'])"
      ]
    },
    {
      "cell_type": "markdown",
      "metadata": {
        "id": "azLhibVUTdIt"
      },
      "source": [
        "**Finding a list of columns that are highly correlated to each other.**"
      ]
    },
    {
      "cell_type": "code",
      "execution_count": null,
      "metadata": {
        "colab": {
          "base_uri": "https://localhost:8080/"
        },
        "id": "OHdujGWKTdqj",
        "outputId": "126e3328-d2af-4b09-d0d9-5a5e9eaeef62"
      },
      "outputs": [
        {
          "output_type": "execute_result",
          "data": {
            "text/plain": [
              "['Body mass index']"
            ]
          },
          "metadata": {},
          "execution_count": 9
        }
      ],
      "source": [
        "def highly_correlated(df, threshold=0.8):\n",
        "    \"\"\"\n",
        "    Returns a list of columns that are highly correlated to each other.\n",
        "    \"\"\"\n",
        "    corr_matrix = df.corr().abs()\n",
        "    upper = corr_matrix.where(np.triu(np.ones(corr_matrix.shape), k=1).astype(bool))\n",
        "    to_drop = [column for column in upper.columns if any(upper[column] > threshold)]\n",
        "    return to_drop\n",
        "\n",
        "highly_correlated(df, 0.8)"
      ]
    },
    {
      "cell_type": "markdown",
      "metadata": {
        "id": "ugqtyz12W2RV"
      },
      "source": [
        "According to the correlation matrix Weight and BMI are highly coorelated so we can ommit Weight column"
      ]
    },
    {
      "cell_type": "code",
      "execution_count": null,
      "metadata": {
        "id": "JVFjuP6pXGAg"
      },
      "outputs": [],
      "source": [
        "df.drop('Weight', axis=1, inplace=True)"
      ]
    },
    {
      "cell_type": "markdown",
      "metadata": {
        "id": "UTjXBZ6Ja6CZ"
      },
      "source": [
        "**converting 'Work load Average/day' data cells from string to integer**"
      ]
    },
    {
      "cell_type": "code",
      "execution_count": null,
      "metadata": {
        "id": "G1jJhl6SbE0R"
      },
      "outputs": [],
      "source": [
        "def convert_to_int(df, column_name):\n",
        "    df[column_name] = df[column_name].apply(lambda x: float(str(x).replace(',', '')))\n",
        "    return df\n",
        "df = convert_to_int(df, 'Work load Average/day')"
      ]
    },
    {
      "cell_type": "markdown",
      "metadata": {
        "id": "6UXRJFE9SVFT"
      },
      "source": [
        "**Filling empty cells in \"Transportation expense\" , \"Distance from Residence to Work\", \"Service time\", \"Age\", \"Work load Average/day\", \"HIT target\", \"Son\", \"Pet\" , \"Weight\" with mean**"
      ]
    },
    {
      "cell_type": "code",
      "execution_count": null,
      "metadata": {
        "colab": {
          "base_uri": "https://localhost:8080/"
        },
        "id": "DwbA4qiCfbJa",
        "outputId": "ef7a8dcc-8dd8-4881-bbfa-5902b6ec5c6d"
      },
      "outputs": [
        {
          "output_type": "execute_result",
          "data": {
            "text/plain": [
              "[('Reason for absence', 3),\n",
              " ('Month of absence', 1),\n",
              " ('Transportation expense', 6),\n",
              " ('Distance from Residence to Work', 3),\n",
              " ('Service time', 3),\n",
              " ('Age', 2),\n",
              " ('Work load Average/day', 8),\n",
              " ('Hit target', 6),\n",
              " ('Disciplinary failure', 5),\n",
              " ('Education', 10),\n",
              " ('Son', 6),\n",
              " ('Social drinker', 3),\n",
              " ('Social smoker', 3),\n",
              " ('Pet', 2),\n",
              " ('Height', 12)]"
            ]
          },
          "metadata": {},
          "execution_count": 12
        }
      ],
      "source": [
        "empty_cells(df)"
      ]
    },
    {
      "cell_type": "code",
      "execution_count": null,
      "metadata": {
        "id": "WBT1UgE2aMOL"
      },
      "outputs": [],
      "source": [
        "def fillna_mean(df, column_name):\n",
        "    \"\"\"\n",
        "    Get a column from a dataframe and fill empty rows with the average of that column\n",
        "    \"\"\"\n",
        "    column = df[column_name]\n",
        "    df[column_name] = column.fillna(column.mean())\n",
        "    return df\n",
        "\n",
        "def fill_null_with_normal_distribution(df, column_name):\n",
        "    \"\"\"\n",
        "    Fill null cells in a column with normal distribution\n",
        "    \"\"\"\n",
        "    mean = df[column_name].mean()\n",
        "    std = df[column_name].std()\n",
        "    null_count = df[column_name].isnull().sum()\n",
        "    random_list = np.random.randn(null_count)\n",
        "    random_list = random_list * std + mean\n",
        "    random_list = random_list.round().astype(int)\n",
        "    df.loc[df[column_name].isnull(), column_name] = random_list\n",
        "    return df\n",
        "\n",
        "df = fill_null_with_normal_distribution(df, 'Reason for absence')\n",
        "df = fill_null_with_normal_distribution(df, 'Month of absence')\n",
        "df = fill_null_with_normal_distribution(df, 'Transportation expense')\n",
        "df = fill_null_with_normal_distribution(df, 'Distance from Residence to Work')\n",
        "df = fill_null_with_normal_distribution(df, 'Service time')\n",
        "df = fill_null_with_normal_distribution(df, 'Age')\n",
        "df = fillna_mean(df, 'Work load Average/day')\n",
        "df = fill_null_with_normal_distribution(df, 'Hit target')\n",
        "df = fill_null_with_normal_distribution(df, 'Disciplinary failure')\n",
        "df = fill_null_with_normal_distribution(df, 'Education')\n",
        "df = fill_null_with_normal_distribution(df, 'Son')\n",
        "df = fill_null_with_normal_distribution(df, 'Social drinker')\n",
        "df = fill_null_with_normal_distribution(df, 'Social smoker')\n",
        "df = fill_null_with_normal_distribution(df, 'Pet')\n",
        "df = fill_null_with_normal_distribution(df, 'Height')"
      ]
    },
    {
      "cell_type": "markdown",
      "metadata": {
        "id": "ndHqgD08d0R4"
      },
      "source": [
        "**Finding outliners and noises in data and removing them**"
      ]
    },
    {
      "cell_type": "code",
      "execution_count": null,
      "metadata": {
        "colab": {
          "base_uri": "https://localhost:8080/",
          "height": 266
        },
        "id": "w1JT-5aunVGU",
        "outputId": "c6a96f19-f1ea-45e8-c621-df9cd87bbc3a"
      },
      "outputs": [
        {
          "output_type": "display_data",
          "data": {
            "text/plain": [
              "<Figure size 432x288 with 1 Axes>"
            ],
            "image/png": "[encoded data removed]"
          },
          "metadata": {
            "needs_background": "light"
          }
        }
      ],
      "source": [
        "# BEFORE REMOVING OUTLIERS\n",
        "df.boxplot(column=['Service time', 'Age'])\n",
        "plt.show()"
      ]
    },
    {
      "cell_type": "code",
      "source": [
        "# BEFORE REMOVING OUTLIERS\n",
        "df.boxplot(column=['Absenteeism time in hours'])\n",
        "plt.show()"
      ],
      "metadata": {
        "colab": {
          "base_uri": "https://localhost:8080/",
          "height": 265
        },
        "id": "441dgaMyPa1J",
        "outputId": "959cd4f5-0d86-44f0-d982-450a226e6a2b"
      },
      "execution_count": null,
      "outputs": [
        {
          "output_type": "display_data",
          "data": {
            "text/plain": [
              "<Figure size 432x288 with 1 Axes>"
            ],
            "image/png": "[encoded data removed]"
          },
          "metadata": {
            "needs_background": "light"
          }
        }
      ]
    },
    {
      "cell_type": "code",
      "source": [
        "# BEFORE REMOVING OUTLIERS\n",
        "df.boxplot(column=['Transportation expense'])\n",
        "plt.show()"
      ],
      "metadata": {
        "colab": {
          "base_uri": "https://localhost:8080/",
          "height": 268
        },
        "id": "X14V_WAqP6vb",
        "outputId": "73a918fe-cc94-46bf-cbf5-abead5d63c1a"
      },
      "execution_count": null,
      "outputs": [
        {
          "output_type": "display_data",
          "data": {
            "text/plain": [
              "<Figure size 432x288 with 1 Axes>"
            ],
            "image/png": "[encoded data removed]"
          },
          "metadata": {
            "needs_background": "light"
          }
        }
      ]
    },
    {
      "cell_type": "code",
      "source": [
        "# BEFORE REMOVING OUTLIERS\n",
        "df.boxplot(column=['Distance from Residence to Work'])\n",
        "plt.show()"
      ],
      "metadata": {
        "colab": {
          "base_uri": "https://localhost:8080/",
          "height": 265
        },
        "id": "Ni4O-4v1QFb2",
        "outputId": "e7c0bbb9-df29-42d6-9908-79f2a2950349"
      },
      "execution_count": null,
      "outputs": [
        {
          "output_type": "display_data",
          "data": {
            "text/plain": [
              "<Figure size 432x288 with 1 Axes>"
            ],
            "image/png": "[encoded data removed]"
          },
          "metadata": {
            "needs_background": "light"
          }
        }
      ]
    },
    {
      "cell_type": "code",
      "execution_count": null,
      "metadata": {
        "id": "iDFqQJ89d0qH"
      },
      "outputs": [],
      "source": [
        "def find_outliners(df, col):\n",
        "    q1 = df[col].quantile(0.25)\n",
        "    q3 = df[col].quantile(0.75)\n",
        "    iqr = q3 - q1\n",
        "    lower_bound = q1 - (1.5 * iqr)\n",
        "    upper_bound = q3 + (1.5 * iqr)\n",
        "    return df[(df[col] < lower_bound) | (df[col] > upper_bound)]\n",
        "\n",
        "Absenteeism_outliners   = find_outliners(df, 'Absenteeism time in hours')\n",
        "df.drop(Absenteeism_outliners.index.tolist(),  inplace=True)\n",
        "\n",
        "load_outliners          = find_outliners(df, 'Work load Average/day')\n",
        "df.drop(load_outliners.index.tolist(),         inplace=True)\n",
        "\n",
        "Service_outliners       = find_outliners(df, 'Service time')\n",
        "df.drop(Service_outliners.index.tolist(),      inplace=True)\n",
        "\n",
        "Age_outliners           = find_outliners(df, 'Age')\n",
        "df.drop(Age_outliners.index.tolist(),          inplace=True)\n",
        "\n",
        "Transportation_outliners= find_outliners(df, 'Transportation expense')\n",
        "df.drop(Transportation_outliners.index.tolist(),  inplace=True)\n",
        "\n",
        "Distance_outliners= find_outliners(df, 'Distance from Residence to Work')\n",
        "df.drop(Distance_outliners.index.tolist(),  inplace=True)\n",
        "\n",
        "Hit_outliners= find_outliners(df, 'Hit target')\n",
        "df.drop(Hit_outliners.index.tolist(),  inplace=True)\n",
        "\n",
        "Son_outliners= find_outliners(df, 'Son')\n",
        "df.drop(Son_outliners.index.tolist(),  inplace=True)\n",
        "\n",
        "Height_outliners= find_outliners(df, 'Height')\n",
        "df.drop(Height_outliners.index.tolist(),  inplace=True)"
      ]
    },
    {
      "cell_type": "code",
      "source": [
        "# AFTER REMOVING OUTLIERS\n",
        "\n",
        "df.boxplot(column=['Absenteeism time in hours'])\n",
        "plt.show()"
      ],
      "metadata": {
        "colab": {
          "base_uri": "https://localhost:8080/",
          "height": 265
        },
        "id": "ZbRjNcw7Rg3Z",
        "outputId": "fdbf8b58-e13a-4a2d-8b7a-c1724562429a"
      },
      "execution_count": null,
      "outputs": [
        {
          "output_type": "display_data",
          "data": {
            "text/plain": [
              "<Figure size 432x288 with 1 Axes>"
            ],
            "image/png": "[encoded data removed]"
          },
          "metadata": {
            "needs_background": "light"
          }
        }
      ]
    },
    {
      "cell_type": "markdown",
      "metadata": {
        "id": "BL9BSiP4Pmg0"
      },
      "source": [
        "**Removing least coorelated columns with the 'Absenteeism time in hours' column**"
      ]
    },
    {
      "cell_type": "code",
      "execution_count": null,
      "metadata": {
        "colab": {
          "base_uri": "https://localhost:8080/"
        },
        "id": "HGm03LDlPpdp",
        "outputId": "6e1e3bcf-1c03-4dc7-c1da-f4b59ef694c2"
      },
      "outputs": [
        {
          "output_type": "execute_result",
          "data": {
            "text/plain": [
              "Distance from Residence to Work    0.000783\n",
              "Service time                       0.001475\n",
              "Month of absence                   0.001869\n",
              "Pet                                0.002356\n",
              "Education                          0.005785\n",
              "Name: Absenteeism time in hours, dtype: float64"
            ]
          },
          "metadata": {},
          "execution_count": 16
        }
      ],
      "source": [
        "def least_correlated(df, col):\n",
        "    corr_matrix = df.corr().abs()\n",
        "    corr_col = corr_matrix[col].sort_values(ascending=True)\n",
        "    return corr_col[:5]\n",
        "\n",
        "least_correlated(df, 'Absenteeism time in hours')"
      ]
    },
    {
      "cell_type": "markdown",
      "metadata": {
        "id": "JVPgMuBePwKz"
      },
      "source": [
        "'Month of absence' and 'Pet' , 'Hit target' and 'Education' columns have really low coorelation with the target, so we can remove them"
      ]
    },
    {
      "cell_type": "code",
      "execution_count": null,
      "metadata": {
        "id": "1O8W33akP1fG"
      },
      "outputs": [],
      "source": [
        "df.drop('Month of absence', axis=1, inplace=True)\n",
        "df.drop('Pet', axis=1, inplace=True)\n",
        "df.drop('Education', axis=1, inplace=True)\n",
        "df.drop('Service time', axis=1, inplace=True)"
      ]
    },
    {
      "cell_type": "markdown",
      "metadata": {
        "id": "b4VshhuAQrxb"
      },
      "source": [
        "**Spliting Dataset into Training set ( = X) and Test set ( = Y)**"
      ]
    },
    {
      "cell_type": "code",
      "execution_count": null,
      "metadata": {
        "id": "RuMDGpH3Qtjy"
      },
      "outputs": [],
      "source": [
        "X = df.iloc[:,:-1]\n",
        "Y = df.iloc[:,-1]"
      ]
    },
    {
      "cell_type": "markdown",
      "metadata": {
        "id": "mGbFjr03hp4m"
      },
      "source": [
        "**Normalizing numerical columns**"
      ]
    },
    {
      "cell_type": "code",
      "execution_count": null,
      "metadata": {
        "id": "l_GxCglZhIgZ"
      },
      "outputs": [],
      "source": [
        "def normalize_columns(df, columns):\n",
        "    \"\"\"\n",
        "    Normalize specific columns in a dataframe\n",
        "    \"\"\"\n",
        "    for column in columns:\n",
        "        df[column] = (df[column] - df[column].mean()) / df[column].std()\n",
        "    return df\n",
        "\n",
        "X = normalize_columns(X, [\"Transportation expense\", \"Distance from Residence to Work\", \"Age\", \"Work load Average/day\", \"Son\", \"Height\", \"Body mass index\"])"
      ]
    },
    {
      "cell_type": "markdown",
      "source": [
        "**discretizing Data in Y into 10 categories**"
      ],
      "metadata": {
        "id": "UVIBiJwv2iq3"
      }
    },
    {
      "cell_type": "code",
      "source": [
        "df['Absenteeism time in hours'].plot(kind='hist')\n",
        "\n",
        "# Display the plot\n",
        "plt.show()"
      ],
      "metadata": {
        "colab": {
          "base_uri": "https://localhost:8080/",
          "height": 265
        },
        "id": "VxR9TmxFTKO_",
        "outputId": "197764cd-ef21-4562-ae53-2b7bdbf67d97"
      },
      "execution_count": null,
      "outputs": [
        {
          "output_type": "display_data",
          "data": {
            "text/plain": [
              "<Figure size 432x288 with 1 Axes>"
            ],
            "image/png": "[encoded data removed]"
          },
          "metadata": {
            "needs_background": "light"
          }
        }
      ]
    },
    {
      "cell_type": "code",
      "source": [
        "df['Absenteeism time in hours'] = df['Absenteeism time in hours'].apply(lambda x: 0 if x <=6.5  else x)\n",
        "df['Absenteeism time in hours'] = df['Absenteeism time in hours'].apply(lambda x: 1 if 6.5 < x <=10  else x)\n",
        "df['Absenteeism time in hours'] = df['Absenteeism time in hours'].apply(lambda x: 2 if x > 10  else x)"
      ],
      "metadata": {
        "id": "nrh5xGsYVp84"
      },
      "execution_count": null,
      "outputs": []
    },
    {
      "cell_type": "code",
      "source": [
        "df['Absenteeism time in hours'].plot(kind='hist')\n",
        "\n",
        "# Display the plot\n",
        "plt.show()"
      ],
      "metadata": {
        "colab": {
          "base_uri": "https://localhost:8080/",
          "height": 268
        },
        "id": "V7M0OI5IX0yY",
        "outputId": "65040516-1539-4c0e-bd07-aad28dd4a9ee"
      },
      "execution_count": null,
      "outputs": [
        {
          "output_type": "display_data",
          "data": {
            "text/plain": [
              "<Figure size 432x288 with 1 Axes>"
            ],
            "image/png": "[encoded data removed]"
          },
          "metadata": {
            "needs_background": "light"
          }
        }
      ]
    },
    {
      "cell_type": "markdown",
      "source": [
        "**split dataframe into train set and test set randomly**"
      ],
      "metadata": {
        "id": "sCsauKM59N7p"
      }
    },
    {
      "cell_type": "code",
      "source": [
        "def split_train_test(data, test_ratio):\n",
        "    shuffled_indices = np.random.permutation(len(data))\n",
        "    test_set_size = int(len(data) * test_ratio)\n",
        "    test_indices = shuffled_indices[:test_set_size]\n",
        "    train_indices = shuffled_indices[test_set_size:]\n",
        "    return train_indices, test_indices\n",
        "\n",
        "train_indices , test_indices = split_train_test(df, 0.2)\n",
        "\n",
        "X_train                      = X.iloc[train_indices]\n",
        "Y_train                      = Y.iloc[train_indices]\n",
        "\n",
        "X_test                       = X.iloc[test_indices]\n",
        "Y_test                       = Y.iloc[test_indices]\n",
        "\n",
        "df_train                     = df.iloc[train_indices]\n",
        "df_test                      = df.iloc[test_indices]"
      ],
      "metadata": {
        "id": "3zdQbOTx8F2F"
      },
      "execution_count": null,
      "outputs": []
    },
    {
      "cell_type": "markdown",
      "source": [
        "# Implementing K-NN alghorithm"
      ],
      "metadata": {
        "id": "wOGcKYZX-V6i"
      }
    },
    {
      "cell_type": "markdown",
      "source": [
        "**1 - The first step is to calculate the distance between two rows in a dataset.**"
      ],
      "metadata": {
        "id": "VRjmVp5rUFIh"
      }
    },
    {
      "cell_type": "code",
      "source": [
        "\"\"\"\n",
        "Euclidean distance between two vectors\n",
        "\"\"\"\n",
        "\n",
        "def euclidean_distance(x, y):\n",
        "    x , y  = np.array(x), np.array(y)\n",
        "    return np.sqrt(np.sum((x - y) ** 2))\n",
        "\n",
        "\"\"\"\n",
        "Manhattan distance between two vectors\n",
        "\"\"\"\n",
        "def manhattan_distance(x, y):\n",
        "    x , y  = np.array(x), np.array(y)\n",
        "    return np.sum(np.abs(x - y))\n",
        "\n",
        "\"\"\"\n",
        "Chebyshev distance between two vectors\n",
        "\"\"\"\n",
        "def chebyshev_distance(x, y):\n",
        "    x , y  = np.array(x), np.array(y)\n",
        "    return np.max(np.abs(x - y))\n",
        "\n",
        "\"\"\"\n",
        "Minkowski distance between two vectors\n",
        "\"\"\"\n",
        "def minkowski_distance(x, y, p=3):\n",
        "    x , y  = np.array(x), np.array(y)\n",
        "    return np.sum(np.abs(x - y) ** p) ** (1 / p)"
      ],
      "metadata": {
        "id": "wBL6-867-Vru"
      },
      "execution_count": null,
      "outputs": []
    },
    {
      "cell_type": "markdown",
      "source": [
        "**2 - Get Nearest Neighbors**"
      ],
      "metadata": {
        "id": "t5tRossrUW6J"
      }
    },
    {
      "cell_type": "code",
      "source": [
        "def df_to_list(df):\n",
        "    \"\"\"\n",
        "    Convert a dataframe to a list\n",
        "    \"\"\"\n",
        "    return df.values.tolist()"
      ],
      "metadata": {
        "id": "AFnftv__dp60"
      },
      "execution_count": null,
      "outputs": []
    },
    {
      "cell_type": "code",
      "source": [
        "def get_neighbors(train, test_row, num_neighbors, distance_function):\n",
        "    distances = list()\n",
        "    row_indx  = 0\n",
        "    train, test_row  = df_to_list(train), df_to_list(test_row)\n",
        "    for train_row in train:\n",
        "        dist = distance_function(test_row, train_row)\n",
        "        distances.append((train_row, row_indx , dist))\n",
        "        row_indx += 1\n",
        "    distances.sort(key=lambda tup: tup[2])\n",
        "    neighbors = list()\n",
        "    for i in range(num_neighbors):\n",
        "        neighbors.append((distances[i][0], distances[i][1]))\n",
        "    return neighbors"
      ],
      "metadata": {
        "id": "_oPe3tuREv8e"
      },
      "execution_count": null,
      "outputs": []
    },
    {
      "cell_type": "markdown",
      "source": [
        "**3 - Make Predictions**"
      ],
      "metadata": {
        "id": "vyVNqzgbUcgf"
      }
    },
    {
      "cell_type": "code",
      "source": [
        "def predict_classification(X, Y , X_row, num_neighbors, distance_function):\n",
        "    Y             = df_to_list(Y)\n",
        "    neighbors     = get_neighbors(X, X_row, num_neighbors, distance_function)\n",
        "    output_values = [Y[row[1]] for row in neighbors]\n",
        "    prediction    = max(set(output_values), key=output_values.count)\n",
        "    return prediction"
      ],
      "metadata": {
        "id": "z5Kz2SWoE-ed"
      },
      "execution_count": null,
      "outputs": []
    },
    {
      "cell_type": "code",
      "source": [
        "def k_nearest_neighbors(X, Y, X_test, num_neighbors, distance_function=euclidean_distance):\n",
        "\tpredictions = list()\n",
        "\t#X_test = df_to_list(X_test)\n",
        "\tfor indx in range(len(X_test.index)):\n",
        "\t\trow = X_test.iloc[indx]\n",
        "\t\toutput = predict_classification(X, Y, row, num_neighbors, distance_function)\n",
        "\t\tpredictions.append(output)\n",
        "\t\n",
        "  \n",
        "\treturn(predictions)"
      ],
      "metadata": {
        "id": "yZ1i2WxRFO6p"
      },
      "execution_count": null,
      "outputs": []
    },
    {
      "cell_type": "code",
      "source": [
        "def accuracy_metric(actual, predicted):\n",
        "    correct = 0\n",
        "    for i in range(len(actual)):\n",
        "        if actual[i] == predicted[i]:\n",
        "            correct += 1\n",
        "    return correct / float(len(actual)) * 100.0"
      ],
      "metadata": {
        "id": "Kr7YDYE2FkK0"
      },
      "execution_count": null,
      "outputs": []
    },
    {
      "cell_type": "code",
      "source": [
        "predicted = k_nearest_neighbors(X_train, Y_train, X_test, 27)\n",
        "actual    = Y_test.values.tolist()\n",
        "accuracy_metric(actual, predicted)"
      ],
      "metadata": {
        "colab": {
          "base_uri": "https://localhost:8080/"
        },
        "id": "AWLu2ZgFgu4E",
        "outputId": "e6dffd83-12c3-444f-a205-bf3d59fc18e5"
      },
      "execution_count": null,
      "outputs": [
        {
          "output_type": "execute_result",
          "data": {
            "text/plain": [
              "77.77777777777779"
            ]
          },
          "metadata": {},
          "execution_count": 36
        }
      ]
    },
    {
      "cell_type": "markdown",
      "source": [
        "**Finding the optimal value of K**"
      ],
      "metadata": {
        "id": "zj5dyVmZo3Dv"
      }
    },
    {
      "cell_type": "code",
      "source": [
        "def accuracy_respect_K(k):\n",
        "  predicted = k_nearest_neighbors(X_train, Y_train, X_test, k)\n",
        "  actual    = Y_test.values.tolist()\n",
        "  return accuracy_metric(actual, predicted)"
      ],
      "metadata": {
        "id": "v1XNdvuBo79F"
      },
      "execution_count": null,
      "outputs": []
    },
    {
      "cell_type": "code",
      "source": [
        "import numpy as np\n",
        "import matplotlib.pyplot as plt\n",
        "\n",
        "def plot_function(f, xmin, xmax):\n",
        "    \"\"\"\n",
        "    Plot a function f(x) from xmin to xmax with npoints points\n",
        "    \"\"\"\n",
        "    x = np.arange(xmin, xmax + 1)\n",
        "    y = [f(xi) for xi in x]\n",
        "    plt.plot(x, y)\n",
        "    plt.show()"
      ],
      "metadata": {
        "id": "TgaYeE7CpNrL"
      },
      "execution_count": null,
      "outputs": []
    },
    {
      "cell_type": "code",
      "source": [
        "plot_function(accuracy_respect_K, 1, 30)"
      ],
      "metadata": {
        "colab": {
          "base_uri": "https://localhost:8080/",
          "height": 265
        },
        "id": "HYs4Cvjxpekw",
        "outputId": "d04503bc-4f09-49c5-caa0-390f5b1d5a37"
      },
      "execution_count": null,
      "outputs": [
        {
          "output_type": "display_data",
          "data": {
            "text/plain": [
              "<Figure size 432x288 with 1 Axes>"
            ],
            "image/png": "[encoded data removed]"
          },
          "metadata": {
            "needs_background": "light"
          }
        }
      ]
    },
    {
      "cell_type": "markdown",
      "source": [
        "**Classification using scikit-learn KNN**"
      ],
      "metadata": {
        "id": "FebsU78nsFet"
      }
    },
    {
      "cell_type": "code",
      "source": [
        "from sklearn.neighbors import KNeighborsClassifier\n",
        "from sklearn import metrics\n",
        "\n",
        "range_k = range(1,30)\n",
        "scores = {}\n",
        "scores_list = []\n",
        "for k in range_k:\n",
        "   classifier = KNeighborsClassifier(n_neighbors=k)\n",
        "   classifier.fit(X_train, Y_train)\n",
        "   y_pred = classifier.predict(X_test)\n",
        "   scores[k] = metrics.accuracy_score(Y_test,y_pred)\n",
        "   scores_list.append(metrics.accuracy_score(Y_test,y_pred))\n",
        "result = metrics.confusion_matrix(Y_test, y_pred)\n",
        "print(\"Confusion Matrix:\")\n",
        "print(result)\n",
        "result1 = metrics.classification_report(Y_test, y_pred)\n",
        "print(\"Classification Report:\",)\n",
        "print (result1)"
      ],
      "metadata": {
        "colab": {
          "base_uri": "https://localhost:8080/"
        },
        "id": "2FUPPFxdsFwR",
        "outputId": "0bc2e225-4661-45ea-c3fb-5a40b0b3a433"
      },
      "execution_count": null,
      "outputs": [
        {
          "output_type": "stream",
          "name": "stdout",
          "text": [
            "Confusion Matrix:\n",
            "[[61  6  0]\n",
            " [16 14  0]\n",
            " [ 1  1  0]]\n",
            "Classification Report:\n",
            "              precision    recall  f1-score   support\n",
            "\n",
            "         0.0       0.78      0.91      0.84        67\n",
            "         1.0       0.67      0.47      0.55        30\n",
            "         2.0       0.00      0.00      0.00         2\n",
            "\n",
            "    accuracy                           0.76        99\n",
            "   macro avg       0.48      0.46      0.46        99\n",
            "weighted avg       0.73      0.76      0.74        99\n",
            "\n"
          ]
        },
        {
          "output_type": "stream",
          "name": "stderr",
          "text": [
            "/usr/local/lib/python3.7/dist-packages/sklearn/metrics/_classification.py:1318: UndefinedMetricWarning: Precision and F-score are ill-defined and being set to 0.0 in labels with no predicted samples. Use `zero_division` parameter to control this behavior.\n",
            "  _warn_prf(average, modifier, msg_start, len(result))\n",
            "/usr/local/lib/python3.7/dist-packages/sklearn/metrics/_classification.py:1318: UndefinedMetricWarning: Precision and F-score are ill-defined and being set to 0.0 in labels with no predicted samples. Use `zero_division` parameter to control this behavior.\n",
            "  _warn_prf(average, modifier, msg_start, len(result))\n",
            "/usr/local/lib/python3.7/dist-packages/sklearn/metrics/_classification.py:1318: UndefinedMetricWarning: Precision and F-score are ill-defined and being set to 0.0 in labels with no predicted samples. Use `zero_division` parameter to control this behavior.\n",
            "  _warn_prf(average, modifier, msg_start, len(result))\n"
          ]
        }
      ]
    },
    {
      "cell_type": "markdown",
      "source": [
        "# Model Evaluation"
      ],
      "metadata": {
        "id": "9OYbCesWE5GI"
      }
    },
    {
      "cell_type": "markdown",
      "source": [
        "Calculating precision, recall and confusion_matrix"
      ],
      "metadata": {
        "id": "LpysRydS6p6I"
      }
    },
    {
      "cell_type": "code",
      "source": [
        "def precision(y_true, y_pred, cat):\n",
        "    \"\"\"\n",
        "    Calculate precision of a classification\n",
        "    \"\"\"\n",
        "    y_true , y_pred   =  np.array(y_true), np.array(y_pred)\n",
        "    # calculate true positives\n",
        "    tp = sum((y_true == cat) & (y_pred == cat))\n",
        "    # calculate false positives\n",
        "    fp = sum((y_true != cat) & (y_pred == cat))\n",
        "    # calculate precision\n",
        "    precision = tp / (tp + fp)\n",
        "    return precision\n",
        "\n",
        "def recall(y_true, y_pred, cat):\n",
        "    \"\"\"\n",
        "    Calculate recall of a classification\n",
        "    \"\"\"\n",
        "    y_true , y_pred   =  np.array(y_true), np.array(y_pred)\n",
        "    # calculate true positives\n",
        "    tp = sum((y_true == cat) & (y_pred == cat))\n",
        "    # calculate false negatives\n",
        "    fn = sum((y_true == cat) & (y_pred != cat))\n",
        "    # calculate recall\n",
        "    recall = tp / (tp + fn)\n",
        "    return recall\n",
        "\n",
        "def confusion_matrix(y_true, y_pred, cat ):\n",
        "    \"\"\"\n",
        "    Calculate confusion matrix of a classification\n",
        "    \"\"\"\n",
        "    y_true , y_pred   =  np.array(y_true), np.array(y_pred)\n",
        "    # calculate true positives\n",
        "    tp = sum((y_true == cat) & (y_pred == cat))\n",
        "    # calculate false positives\n",
        "    fp = sum((y_true != cat) & (y_pred == cat))\n",
        "    # calculate false negatives\n",
        "    fn = sum((y_true == cat) & (y_pred != cat))\n",
        "    # calculate true negatives\n",
        "    tn = sum((y_true != cat) & (y_pred != cat))\n",
        "    # calculate confusion matrix\n",
        "    confusion_matrix = np.array([[tp, fp], [fn, tn]])\n",
        "    return confusion_matrix"
      ],
      "metadata": {
        "id": "PkGKNVuj6omA"
      },
      "execution_count": null,
      "outputs": []
    },
    {
      "cell_type": "code",
      "source": [
        "confusion_matrix(actual, predicted, 0)"
      ],
      "metadata": {
        "colab": {
          "base_uri": "https://localhost:8080/"
        },
        "id": "JR8b-Qd-7qtu",
        "outputId": "791a1dd7-2158-4797-e3bc-cd5aa7f84734"
      },
      "execution_count": null,
      "outputs": [
        {
          "output_type": "execute_result",
          "data": {
            "text/plain": [
              "array([[63, 17],\n",
              "       [ 4, 15]])"
            ]
          },
          "metadata": {},
          "execution_count": 39
        }
      ]
    },
    {
      "cell_type": "code",
      "source": [
        "category_list = [0,1,2]\n",
        "for category in category_list:\n",
        "  perc    = precision(actual, predicted, category)\n",
        "  perc = \"{:.2f}\".format(perc)\n",
        "  rec     = recall(actual, predicted, category)\n",
        "  rec = \"{:.2f}\".format(rec)\n",
        "  print(f\"Caregory Name : {category}    Precision : {perc}%    Recall: {rec}% \\n\")"
      ],
      "metadata": {
        "colab": {
          "base_uri": "https://localhost:8080/"
        },
        "id": "vp6q7edH90TS",
        "outputId": "e7add58d-59c4-427e-fbbb-57319c086dd2"
      },
      "execution_count": null,
      "outputs": [
        {
          "output_type": "stream",
          "name": "stdout",
          "text": [
            "Caregory Name : 0    Precision : 0.79%    Recall: 0.94% \n",
            "\n",
            "Caregory Name : 1    Precision : 0.74%    Recall: 0.47% \n",
            "\n",
            "Caregory Name : 2    Precision : nan%    Recall: 0.00% \n",
            "\n"
          ]
        },
        {
          "output_type": "stream",
          "name": "stderr",
          "text": [
            "/usr/local/lib/python3.7/dist-packages/ipykernel_launcher.py:11: RuntimeWarning: invalid value encountered in long_scalars\n",
            "  # This is added back by InteractiveShellApp.init_path()\n"
          ]
        }
      ]
    },
    {
      "cell_type": "code",
      "source": [
        "from sklearn import metrics\n",
        "cf_matrix = metrics.confusion_matrix(actual, predicted)"
      ],
      "metadata": {
        "id": "t34VvuQshfjo"
      },
      "execution_count": null,
      "outputs": []
    },
    {
      "cell_type": "code",
      "source": [
        "import seaborn as sns\n",
        "\n",
        "ax = sns.heatmap(cf_matrix, annot=True, cmap='Blues')\n",
        "\n",
        "ax.set_title('Confusion Matrix with labels\\n\\n');\n",
        "ax.set_xlabel('\\nPredicted Category')\n",
        "ax.set_ylabel('Actual Category ');\n",
        "\n",
        "plt.show()"
      ],
      "metadata": {
        "colab": {
          "base_uri": "https://localhost:8080/",
          "height": 337
        },
        "id": "47_81dgqh1S8",
        "outputId": "cb09b561-fb10-4fbd-ec05-b7df697563aa"
      },
      "execution_count": null,
      "outputs": [
        {
          "output_type": "display_data",
          "data": {
            "text/plain": [
              "<Figure size 432x288 with 2 Axes>"
            ],
            "image/png": "[encoded data removed]"
          },
          "metadata": {
            "needs_background": "light"
          }
        }
      ]
    },
    {
      "cell_type": "markdown",
      "source": [
        "# PCA"
      ],
      "metadata": {
        "id": "2rpGBEONE1YH"
      }
    },
    {
      "cell_type": "code",
      "source": [
        "def apply_pca(df, n_components):\n",
        "    pca = PCA(n_components=n_components)\n",
        "    pca.fit(df)\n",
        "    pca_df = pd.DataFrame(pca.transform(df))\n",
        "    return pca_df\n",
        "\n",
        "pf = apply_pca(X_train, 2)\n",
        "plt.scatter(pf[0], pf[1],cmap='Spectral')\n",
        "plt.gca().set_aspect('equal', 'datalim')\n",
        "plt.title('PCA projection of the dataset', fontsize=24);"
      ],
      "metadata": {
        "colab": {
          "base_uri": "https://localhost:8080/",
          "height": 290
        },
        "id": "iZt2eR4aetli",
        "outputId": "c8ef9419-eb1f-4d5d-9d4e-263536aaa8ae"
      },
      "execution_count": null,
      "outputs": [
        {
          "output_type": "display_data",
          "data": {
            "text/plain": [
              "<Figure size 432x288 with 1 Axes>"
            ],
            "image/png": "[encoded data removed]"
          },
          "metadata": {
            "needs_background": "light"
          }
        }
      ]
    },
    {
      "cell_type": "code",
      "source": [
        "!pip install umap-learn"
      ],
      "metadata": {
        "id": "IbiEGEjU7Up3"
      },
      "execution_count": null,
      "outputs": []
    },
    {
      "cell_type": "code",
      "source": [
        "import umap\n",
        "def umap_visualize(df, n_neighbors=15, min_dist=0.1, n_components=8, metric='euclidean'):\n",
        "    \"\"\"\n",
        "    Apply UMAP on a dataframe and visualize the result\n",
        "    \"\"\"\n",
        "    # Apply UMAP\n",
        "    reducer = umap.UMAP(n_neighbors=n_neighbors,\n",
        "                        min_dist=min_dist,\n",
        "                        n_components=n_components,\n",
        "                        metric=metric)\n",
        "    embedding = reducer.fit_transform(df)\n",
        "    \n",
        "    # Visualize the result\n",
        "    plt.scatter(embedding[:, 0], embedding[:, 1], cmap='Spectral', s=5)\n",
        "    plt.gca().set_aspect('equal', 'datalim')\n",
        "    plt.title('UMAP projection of the dataset', fontsize=24);\n",
        "    \n",
        "    return embedding\n",
        "\n",
        "# Apply UMAP on the dataframe\n",
        "embedding = umap_visualize(X_train)"
      ],
      "metadata": {
        "colab": {
          "base_uri": "https://localhost:8080/",
          "height": 346
        },
        "id": "ehWVZPrphFro",
        "outputId": "8c384efc-5554-4172-de4e-cffc92348e46"
      },
      "execution_count": null,
      "outputs": [
        {
          "output_type": "stream",
          "name": "stderr",
          "text": [
            "/usr/local/lib/python3.7/dist-packages/numba/np/ufunc/parallel.py:363: NumbaWarning: The TBB threading layer requires TBB version 2019.5 or later i.e., TBB_INTERFACE_VERSION >= 11005. Found TBB_INTERFACE_VERSION = 9107. The TBB threading layer is disabled.\n",
            "  warnings.warn(problem)\n"
          ]
        },
        {
          "output_type": "display_data",
          "data": {
            "text/plain": [
              "<Figure size 432x288 with 1 Axes>"
            ],
            "image/png": "[encoded data removed]"
          },
          "metadata": {
            "needs_background": "light"
          }
        }
      ]
    },
    {
      "cell_type": "markdown",
      "source": [
        "**Applying K-NN alghorithm after PCA transformation**"
      ],
      "metadata": {
        "id": "ibxpLVfOFv4X"
      }
    },
    {
      "cell_type": "code",
      "source": [
        "X_PCA   = apply_pca(X, 5)\n",
        "train_indices , test_indices = split_train_test(X_PCA, 0.2)\n",
        "\n",
        "X_train_PCA                      = X_PCA.iloc[train_indices]\n",
        "X_test_PCA                       = X_PCA.iloc[test_indices]"
      ],
      "metadata": {
        "id": "7iwfrE0WIzpi"
      },
      "execution_count": null,
      "outputs": []
    },
    {
      "cell_type": "code",
      "source": [
        "predicted_PCA = k_nearest_neighbors(X_train_PCA, Y_train, X_test_PCA, 27)\n",
        "actual_PCA    = Y_test.values.tolist()\n",
        "accuracy_metric(actual_PCA, predicted_PCA)"
      ],
      "metadata": {
        "colab": {
          "base_uri": "https://localhost:8080/"
        },
        "id": "Dl2U4sizGbyz",
        "outputId": "801c77ba-efa6-4a94-b357-1303fc3c5df1"
      },
      "execution_count": null,
      "outputs": [
        {
          "output_type": "execute_result",
          "data": {
            "text/plain": [
              "67.67676767676768"
            ]
          },
          "metadata": {},
          "execution_count": 59
        }
      ]
    },
    {
      "cell_type": "code",
      "source": [
        "def accuracy_respect_K_PCA(k):\n",
        "  predicted = k_nearest_neighbors(X_train_PCA, Y_train, X_test_PCA, k)\n",
        "  actual    = Y_test.values.tolist()\n",
        "  return accuracy_metric(actual, predicted)"
      ],
      "metadata": {
        "id": "v7n2V8FkG6wc"
      },
      "execution_count": null,
      "outputs": []
    },
    {
      "cell_type": "code",
      "source": [
        "plot_function(accuracy_respect_K_PCA, 1, 30)"
      ],
      "metadata": {
        "colab": {
          "base_uri": "https://localhost:8080/",
          "height": 265
        },
        "id": "GPe3tuPSHMlK",
        "outputId": "4cfa9f8c-8705-4fd6-c9c8-594ab8348c4a"
      },
      "execution_count": null,
      "outputs": [
        {
          "output_type": "display_data",
          "data": {
            "text/plain": [
              "<Figure size 432x288 with 1 Axes>"
            ],
            "image/png": "[encoded data removed]"
          },
          "metadata": {
            "needs_background": "light"
          }
        }
      ]
    },
    {
      "cell_type": "markdown",
      "source": [
        "**Finding the optimal number of feature reduction**"
      ],
      "metadata": {
        "id": "wPMMVXTtJ-8u"
      }
    },
    {
      "cell_type": "code",
      "source": [
        "def accuracy_respect_FeatureN(N):\n",
        "  X_PCA   = apply_pca(X, N)\n",
        "  train_indices , test_indices = split_train_test(X_PCA, 0.2)\n",
        "\n",
        "  X_train_PCA                      = X_PCA.iloc[train_indices]\n",
        "  X_test_PCA                       = X_PCA.iloc[test_indices]\n",
        "  predicted_PCA = k_nearest_neighbors(X_train_PCA, Y_train, X_test_PCA, 5)\n",
        "  actual_PCA    = Y_test.values.tolist()\n",
        "  return accuracy_metric(actual_PCA, predicted_PCA)"
      ],
      "metadata": {
        "id": "riks6LN3KFP_"
      },
      "execution_count": null,
      "outputs": []
    },
    {
      "cell_type": "code",
      "source": [
        "plot_function(accuracy_respect_FeatureN, 1, 15)"
      ],
      "metadata": {
        "colab": {
          "base_uri": "https://localhost:8080/",
          "height": 265
        },
        "id": "jZBh5fQFKiqT",
        "outputId": "399a32de-4fab-4792-fd31-f5cd27154536"
      },
      "execution_count": null,
      "outputs": [
        {
          "output_type": "display_data",
          "data": {
            "text/plain": [
              "<Figure size 432x288 with 1 Axes>"
            ],
            "image/png": "[encoded data removed]"
          },
          "metadata": {
            "needs_background": "light"
          }
        }
      ]
    },
    {
      "cell_type": "markdown",
      "source": [
        "# Comparison"
      ],
      "metadata": {
        "id": "CL7Ul8bGQsby"
      }
    },
    {
      "cell_type": "code",
      "source": [
        "# K = 27\n",
        "# PCA_features = 5\n",
        "\n",
        "category_list = [0,1,2]\n",
        "for category in category_list:\n",
        "  perc    = precision(actual_PCA, predicted_PCA, category)\n",
        "  perc = \"{:.2f}\".format(perc)\n",
        "  rec     = recall(actual_PCA, predicted_PCA, category)\n",
        "  rec = \"{:.2f}\".format(rec)\n",
        "  print(f\"Caregory Name : {category}    Precision : {perc}%    Recall: {rec}% \\n\")"
      ],
      "metadata": {
        "colab": {
          "base_uri": "https://localhost:8080/"
        },
        "id": "etcyxymYQrGs",
        "outputId": "2d598f06-0c0d-4554-94a6-4baa3c74b7c3"
      },
      "execution_count": null,
      "outputs": [
        {
          "output_type": "stream",
          "name": "stdout",
          "text": [
            "Caregory Name : 0    Precision : 0.68%    Recall: 1.00% \n",
            "\n",
            "Caregory Name : 1    Precision : nan%    Recall: 0.00% \n",
            "\n",
            "Caregory Name : 2    Precision : nan%    Recall: 0.00% \n",
            "\n"
          ]
        },
        {
          "output_type": "stream",
          "name": "stderr",
          "text": [
            "/usr/local/lib/python3.7/dist-packages/ipykernel_launcher.py:11: RuntimeWarning: invalid value encountered in long_scalars\n",
            "  # This is added back by InteractiveShellApp.init_path()\n"
          ]
        }
      ]
    },
    {
      "cell_type": "code",
      "source": [
        "# K = 27\n",
        "\n",
        "category_list = [0,1,2]\n",
        "for category in category_list:\n",
        "  perc    = precision(actual, predicted, category)\n",
        "  perc = \"{:.2f}\".format(perc)\n",
        "  rec     = recall(actual, predicted, category)\n",
        "  rec = \"{:.2f}\".format(rec)\n",
        "  print(f\"Caregory Name : {category}    Precision : {perc}%    Recall: {rec}% \\n\")"
      ],
      "metadata": {
        "colab": {
          "base_uri": "https://localhost:8080/"
        },
        "id": "K_h4za-xSKB9",
        "outputId": "077b0bac-c4f5-4b32-ff99-7739f76b981b"
      },
      "execution_count": null,
      "outputs": [
        {
          "output_type": "stream",
          "name": "stdout",
          "text": [
            "Caregory Name : 0    Precision : 0.79%    Recall: 0.94% \n",
            "\n",
            "Caregory Name : 1    Precision : 0.74%    Recall: 0.47% \n",
            "\n",
            "Caregory Name : 2    Precision : nan%    Recall: 0.00% \n",
            "\n"
          ]
        },
        {
          "output_type": "stream",
          "name": "stderr",
          "text": [
            "/usr/local/lib/python3.7/dist-packages/ipykernel_launcher.py:11: RuntimeWarning: invalid value encountered in long_scalars\n",
            "  # This is added back by InteractiveShellApp.init_path()\n"
          ]
        }
      ]
    }
  ],
  "metadata": {
    "colab": {
      "collapsed_sections": [],
      "name": "DataMining-Ex2.ipynb",
      "provenance": [],
      "authorship_tag": "ABX9TyOs9Ph/iSEh9GtBAsuoJSUv",
      "include_colab_link": true
    },
    "kernelspec": {
      "display_name": "Python 3",
      "name": "python3"
    },
    "language_info": {
      "name": "python"
    }
  },
  "nbformat": 4,
  "nbformat_minor": 0
}