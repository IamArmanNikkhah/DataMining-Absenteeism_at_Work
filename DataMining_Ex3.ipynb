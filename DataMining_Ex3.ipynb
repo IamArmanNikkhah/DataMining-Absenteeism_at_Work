{
  "cells": [
    {
      "cell_type": "markdown",
      "metadata": {
        "id": "view-in-github",
        "colab_type": "text"
      },
      "source": [
        "<a href=\"https://colab.research.google.com/github/IamArmanNikkhah/DataMining-Absenteeism_at_Work/blob/main/DataMining_Ex3.ipynb\" target=\"_parent\"><img src=\"https://colab.research.google.com/assets/colab-badge.svg\" alt=\"Open In Colab\"/></a>"
      ]
    },
    {
      "cell_type": "markdown",
      "metadata": {
        "id": "tOiyB4XV1AlW"
      },
      "source": [
        "**Importing Packages**"
      ]
    },
    {
      "cell_type": "code",
      "execution_count": null,
      "metadata": {
        "id": "6uzGOpJS01bG"
      },
      "outputs": [],
      "source": [
        "import pandas as pd\n",
        "import numpy as np\n",
        "import matplotlib.pyplot as plt\n",
        "from sklearn.ensemble import ExtraTreesClassifier\n",
        "from sklearn.decomposition import PCA\n",
        "import math"
      ]
    },
    {
      "cell_type": "markdown",
      "metadata": {
        "id": "Z3BQIEIbDe7H"
      },
      "source": [
        "**Cloning required files**"
      ]
    },
    {
      "cell_type": "code",
      "execution_count": null,
      "metadata": {
        "colab": {
          "base_uri": "https://localhost:8080/"
        },
        "id": "YSvirQMPDeZt",
        "outputId": "012e1a5d-9eaa-43bd-8a88-4e09e6944581"
      },
      "outputs": [
        {
          "output_type": "stream",
          "name": "stdout",
          "text": [
            "fatal: destination path 'DataMining-Preprocess-Absenteeism_at_Work' already exists and is not an empty directory.\n"
          ]
        }
      ],
      "source": [
        "!git clone https://github.com/IamArmanNikkhah/DataMining-Preprocess-Absenteeism_at_Work.git"
      ]
    },
    {
      "cell_type": "markdown",
      "metadata": {
        "id": "bJrxEXZR4NRD"
      },
      "source": [
        "**Load CSV file**"
      ]
    },
    {
      "cell_type": "code",
      "execution_count": null,
      "metadata": {
        "id": "xu4asA7J4WrL"
      },
      "outputs": [],
      "source": [
        "df = pd.read_csv('/content/DataMining-Preprocess-Absenteeism_at_Work/Absenteeism_at_work.csv')"
      ]
    },
    {
      "cell_type": "markdown",
      "metadata": {
        "id": "5UZ07Fvm8Gfp"
      },
      "source": [
        "# Data Pre-processing"
      ]
    },
    {
      "cell_type": "markdown",
      "metadata": {
        "id": "yMhRaRKf8SZo"
      },
      "source": [
        "**Finding empty cells  in each row**"
      ]
    },
    {
      "cell_type": "code",
      "execution_count": null,
      "metadata": {
        "colab": {
          "base_uri": "https://localhost:8080/"
        },
        "id": "zUuRAqN97Cdt",
        "outputId": "6259c3e9-2fdf-4047-fcca-4d2ce6939413"
      },
      "outputs": [
        {
          "output_type": "execute_result",
          "data": {
            "text/plain": [
              "[('Reason for absence', 3),\n",
              " ('Month of absence', 1),\n",
              " ('Transportation expense', 7),\n",
              " ('Distance from Residence to Work', 3),\n",
              " ('Service time', 3),\n",
              " ('Age', 3),\n",
              " ('Work load Average/day', 10),\n",
              " ('Hit target', 6),\n",
              " ('Disciplinary failure', 6),\n",
              " ('Education', 10),\n",
              " ('Son', 6),\n",
              " ('Social drinker', 3),\n",
              " ('Social smoker', 4),\n",
              " ('Pet', 2),\n",
              " ('Weight', 1),\n",
              " ('Height', 14),\n",
              " ('Body mass index', 31),\n",
              " ('Absenteeism time in hours', 22)]"
            ]
          },
          "metadata": {},
          "execution_count": 4
        }
      ],
      "source": [
        "def empty_cells(df):\n",
        "    \"\"\"\n",
        "    Returns a list of columns with empty cells and the number of them\n",
        "    \"\"\"\n",
        "    empty_cells = []\n",
        "    for col in df.columns:\n",
        "        if df[col].isnull().sum() > 0:\n",
        "            empty_cells.append((col, df[col].isnull().sum()))\n",
        "    return empty_cells\n",
        "\n",
        "empty_cells(df)"
      ]
    },
    {
      "cell_type": "markdown",
      "metadata": {
        "id": "0KXERqAC8iPK"
      },
      "source": [
        "**Remove rows that have empty cells in \"Absenteeism time in hours\" column**"
      ]
    },
    {
      "cell_type": "code",
      "execution_count": null,
      "metadata": {
        "id": "DhAVOuc28zQW"
      },
      "outputs": [],
      "source": [
        "def drop_empty_rows(df, column):\n",
        "    return df.dropna(subset=[column])\n",
        "df = drop_empty_rows(df, 'Absenteeism time in hours')"
      ]
    },
    {
      "cell_type": "markdown",
      "metadata": {
        "id": "H7GU5Ranblvz"
      },
      "source": [
        "**Calculating null BMI values (if applicable)**\n"
      ]
    },
    {
      "cell_type": "code",
      "execution_count": null,
      "metadata": {
        "colab": {
          "base_uri": "https://localhost:8080/"
        },
        "id": "s5cilJn9oqN9",
        "outputId": "49629b0d-acb8-40eb-ca24-1f0457d4be84"
      },
      "outputs": [
        {
          "output_type": "execute_result",
          "data": {
            "text/plain": [
              "2"
            ]
          },
          "metadata": {},
          "execution_count": 6
        }
      ],
      "source": [
        "# find empty cells in the BMI column\n",
        "empty_cell = df['Body mass index'].isnull()\n",
        "\n",
        "# calculate BMI according to Weight and Height columns if applicable\n",
        "df.loc[empty_cell, 'Body mass index'] = df.loc[empty_cell, 'Weight'] / (df.loc[empty_cell, 'Height']/100)**2\n",
        "\n",
        "# check if there are still empty cells in the BMI column\n",
        "df['Body mass index'].isnull().sum()\n"
      ]
    },
    {
      "cell_type": "code",
      "execution_count": null,
      "metadata": {
        "colab": {
          "base_uri": "https://localhost:8080/",
          "height": 238
        },
        "id": "ZCLnaIZDlgZD",
        "outputId": "4255e4b8-884e-4da5-aa30-ef572f524353"
      },
      "outputs": [
        {
          "output_type": "execute_result",
          "data": {
            "text/plain": [
              "     ID  Reason for absence  Month of absence  Day of the week  Seasons  \\\n",
              "272  11                19.0               9.0                4        1   \n",
              "273   5                 0.0               9.0                5        1   \n",
              "\n",
              "     Transportation expense  Distance from Residence to Work  Service time  \\\n",
              "272                   289.0                             36.0          13.0   \n",
              "273                   235.0                             20.0          13.0   \n",
              "\n",
              "      Age Work load Average/day  ...  Disciplinary failure  Education  Son  \\\n",
              "272  33.0               294,217  ...                   0.0        1.0  2.0   \n",
              "273  43.0               294,217  ...                   1.0        1.0  1.0   \n",
              "\n",
              "     Social drinker  Social smoker  Pet  Weight  Height  Body mass index  \\\n",
              "272             1.0            NaN  1.0    90.0     NaN              NaN   \n",
              "273             1.0            0.0  0.0   106.0     NaN              NaN   \n",
              "\n",
              "     Absenteeism time in hours  \n",
              "272                       24.0  \n",
              "273                        0.0  \n",
              "\n",
              "[2 rows x 21 columns]"
            ],
            "text/html": [
              "\n",
              "  <div id=\"df-39531c09-2afa-4195-b033-29f6e4033bf3\">\n",
              "    <div class=\"colab-df-container\">\n",
              "      <div>\n",
              "<style scoped>\n",
              "    .dataframe tbody tr th:only-of-type {\n",
              "        vertical-align: middle;\n",
              "    }\n",
              "\n",
              "    .dataframe tbody tr th {\n",
              "        vertical-align: top;\n",
              "    }\n",
              "\n",
              "    .dataframe thead th {\n",
              "        text-align: right;\n",
              "    }\n",
              "</style>\n",
              "<table border=\"1\" class=\"dataframe\">\n",
              "  <thead>\n",
              "    <tr style=\"text-align: right;\">\n",
              "      <th></th>\n",
              "      <th>ID</th>\n",
              "      <th>Reason for absence</th>\n",
              "      <th>Month of absence</th>\n",
              "      <th>Day of the week</th>\n",
              "      <th>Seasons</th>\n",
              "      <th>Transportation expense</th>\n",
              "      <th>Distance from Residence to Work</th>\n",
              "      <th>Service time</th>\n",
              "      <th>Age</th>\n",
              "      <th>Work load Average/day</th>\n",
              "      <th>...</th>\n",
              "      <th>Disciplinary failure</th>\n",
              "      <th>Education</th>\n",
              "      <th>Son</th>\n",
              "      <th>Social drinker</th>\n",
              "      <th>Social smoker</th>\n",
              "      <th>Pet</th>\n",
              "      <th>Weight</th>\n",
              "      <th>Height</th>\n",
              "      <th>Body mass index</th>\n",
              "      <th>Absenteeism time in hours</th>\n",
              "    </tr>\n",
              "  </thead>\n",
              "  <tbody>\n",
              "    <tr>\n",
              "      <th>272</th>\n",
              "      <td>11</td>\n",
              "      <td>19.0</td>\n",
              "      <td>9.0</td>\n",
              "      <td>4</td>\n",
              "      <td>1</td>\n",
              "      <td>289.0</td>\n",
              "      <td>36.0</td>\n",
              "      <td>13.0</td>\n",
              "      <td>33.0</td>\n",
              "      <td>294,217</td>\n",
              "      <td>...</td>\n",
              "      <td>0.0</td>\n",
              "      <td>1.0</td>\n",
              "      <td>2.0</td>\n",
              "      <td>1.0</td>\n",
              "      <td>NaN</td>\n",
              "      <td>1.0</td>\n",
              "      <td>90.0</td>\n",
              "      <td>NaN</td>\n",
              "      <td>NaN</td>\n",
              "      <td>24.0</td>\n",
              "    </tr>\n",
              "    <tr>\n",
              "      <th>273</th>\n",
              "      <td>5</td>\n",
              "      <td>0.0</td>\n",
              "      <td>9.0</td>\n",
              "      <td>5</td>\n",
              "      <td>1</td>\n",
              "      <td>235.0</td>\n",
              "      <td>20.0</td>\n",
              "      <td>13.0</td>\n",
              "      <td>43.0</td>\n",
              "      <td>294,217</td>\n",
              "      <td>...</td>\n",
              "      <td>1.0</td>\n",
              "      <td>1.0</td>\n",
              "      <td>1.0</td>\n",
              "      <td>1.0</td>\n",
              "      <td>0.0</td>\n",
              "      <td>0.0</td>\n",
              "      <td>106.0</td>\n",
              "      <td>NaN</td>\n",
              "      <td>NaN</td>\n",
              "      <td>0.0</td>\n",
              "    </tr>\n",
              "  </tbody>\n",
              "</table>\n",
              "<p>2 rows × 21 columns</p>\n",
              "</div>\n",
              "      <button class=\"colab-df-convert\" onclick=\"convertToInteractive('df-39531c09-2afa-4195-b033-29f6e4033bf3')\"\n",
              "              title=\"Convert this dataframe to an interactive table.\"\n",
              "              style=\"display:none;\">\n",
              "        \n",
              "  <svg xmlns=\"http://www.w3.org/2000/svg\" height=\"24px\"viewBox=\"0 0 24 24\"\n",
              "       width=\"24px\">\n",
              "    <path d=\"M0 0h24v24H0V0z\" fill=\"none\"/>\n",
              "    <path d=\"M18.56 5.44l.94 2.06.94-2.06 2.06-.94-2.06-.94-.94-2.06-.94 2.06-2.06.94zm-11 1L8.5 8.5l.94-2.06 2.06-.94-2.06-.94L8.5 2.5l-.94 2.06-2.06.94zm10 10l.94 2.06.94-2.06 2.06-.94-2.06-.94-.94-2.06-.94 2.06-2.06.94z\"/><path d=\"M17.41 7.96l-1.37-1.37c-.4-.4-.92-.59-1.43-.59-.52 0-1.04.2-1.43.59L10.3 9.45l-7.72 7.72c-.78.78-.78 2.05 0 2.83L4 21.41c.39.39.9.59 1.41.59.51 0 1.02-.2 1.41-.59l7.78-7.78 2.81-2.81c.8-.78.8-2.07 0-2.86zM5.41 20L4 18.59l7.72-7.72 1.47 1.35L5.41 20z\"/>\n",
              "  </svg>\n",
              "      </button>\n",
              "      \n",
              "  <style>\n",
              "    .colab-df-container {\n",
              "      display:flex;\n",
              "      flex-wrap:wrap;\n",
              "      gap: 12px;\n",
              "    }\n",
              "\n",
              "    .colab-df-convert {\n",
              "      background-color: #E8F0FE;\n",
              "      border: none;\n",
              "      border-radius: 50%;\n",
              "      cursor: pointer;\n",
              "      display: none;\n",
              "      fill: #1967D2;\n",
              "      height: 32px;\n",
              "      padding: 0 0 0 0;\n",
              "      width: 32px;\n",
              "    }\n",
              "\n",
              "    .colab-df-convert:hover {\n",
              "      background-color: #E2EBFA;\n",
              "      box-shadow: 0px 1px 2px rgba(60, 64, 67, 0.3), 0px 1px 3px 1px rgba(60, 64, 67, 0.15);\n",
              "      fill: #174EA6;\n",
              "    }\n",
              "\n",
              "    [theme=dark] .colab-df-convert {\n",
              "      background-color: #3B4455;\n",
              "      fill: #D2E3FC;\n",
              "    }\n",
              "\n",
              "    [theme=dark] .colab-df-convert:hover {\n",
              "      background-color: #434B5C;\n",
              "      box-shadow: 0px 1px 3px 1px rgba(0, 0, 0, 0.15);\n",
              "      filter: drop-shadow(0px 1px 2px rgba(0, 0, 0, 0.3));\n",
              "      fill: #FFFFFF;\n",
              "    }\n",
              "  </style>\n",
              "\n",
              "      <script>\n",
              "        const buttonEl =\n",
              "          document.querySelector('#df-39531c09-2afa-4195-b033-29f6e4033bf3 button.colab-df-convert');\n",
              "        buttonEl.style.display =\n",
              "          google.colab.kernel.accessAllowed ? 'block' : 'none';\n",
              "\n",
              "        async function convertToInteractive(key) {\n",
              "          const element = document.querySelector('#df-39531c09-2afa-4195-b033-29f6e4033bf3');\n",
              "          const dataTable =\n",
              "            await google.colab.kernel.invokeFunction('convertToInteractive',\n",
              "                                                     [key], {});\n",
              "          if (!dataTable) return;\n",
              "\n",
              "          const docLinkHtml = 'Like what you see? Visit the ' +\n",
              "            '<a target=\"_blank\" href=https://colab.research.google.com/notebooks/data_table.ipynb>data table notebook</a>'\n",
              "            + ' to learn more about interactive tables.';\n",
              "          element.innerHTML = '';\n",
              "          dataTable['output_type'] = 'display_data';\n",
              "          await google.colab.output.renderOutput(dataTable, element);\n",
              "          const docLink = document.createElement('div');\n",
              "          docLink.innerHTML = docLinkHtml;\n",
              "          element.appendChild(docLink);\n",
              "        }\n",
              "      </script>\n",
              "    </div>\n",
              "  </div>\n",
              "  "
            ]
          },
          "metadata": {},
          "execution_count": 7
        }
      ],
      "source": [
        "df[df['Body mass index'].isnull()]"
      ]
    },
    {
      "cell_type": "markdown",
      "metadata": {
        "id": "2HIUs17wpid6"
      },
      "source": [
        "**Delete rows that their BMI can't be calculated**\n"
      ]
    },
    {
      "cell_type": "code",
      "execution_count": null,
      "metadata": {
        "id": "FkEfBe8bpQ62"
      },
      "outputs": [],
      "source": [
        "df = df.dropna(subset=['Body mass index'])"
      ]
    },
    {
      "cell_type": "markdown",
      "metadata": {
        "id": "azLhibVUTdIt"
      },
      "source": [
        "**Finding a list of columns that are highly correlated to each other.**"
      ]
    },
    {
      "cell_type": "code",
      "execution_count": null,
      "metadata": {
        "colab": {
          "base_uri": "https://localhost:8080/"
        },
        "id": "OHdujGWKTdqj",
        "outputId": "3a19cf88-b640-4304-b3f9-03a3607854ac"
      },
      "outputs": [
        {
          "output_type": "execute_result",
          "data": {
            "text/plain": [
              "['Body mass index']"
            ]
          },
          "metadata": {},
          "execution_count": 9
        }
      ],
      "source": [
        "def highly_correlated(df, threshold=0.8):\n",
        "    \"\"\"\n",
        "    Returns a list of columns that are highly correlated to each other.\n",
        "    \"\"\"\n",
        "    corr_matrix = df.corr().abs()\n",
        "    upper = corr_matrix.where(np.triu(np.ones(corr_matrix.shape), k=1).astype(bool))\n",
        "    to_drop = [column for column in upper.columns if any(upper[column] > threshold)]\n",
        "    return to_drop\n",
        "\n",
        "highly_correlated(df, 0.8)"
      ]
    },
    {
      "cell_type": "markdown",
      "metadata": {
        "id": "ugqtyz12W2RV"
      },
      "source": [
        "According to the correlation matrix Weight and BMI are highly coorelated so we can ommit Weight column"
      ]
    },
    {
      "cell_type": "code",
      "execution_count": null,
      "metadata": {
        "id": "JVFjuP6pXGAg"
      },
      "outputs": [],
      "source": [
        "df.drop('Weight', axis=1, inplace=True)"
      ]
    },
    {
      "cell_type": "markdown",
      "metadata": {
        "id": "UTjXBZ6Ja6CZ"
      },
      "source": [
        "**converting 'Work load Average/day' data cells from string to integer**"
      ]
    },
    {
      "cell_type": "code",
      "execution_count": null,
      "metadata": {
        "id": "G1jJhl6SbE0R"
      },
      "outputs": [],
      "source": [
        "def convert_to_int(df, column_name):\n",
        "    df[column_name] = df[column_name].apply(lambda x: float(str(x).replace(',', '')))\n",
        "    return df\n",
        "df = convert_to_int(df, 'Work load Average/day')"
      ]
    },
    {
      "cell_type": "markdown",
      "metadata": {
        "id": "6UXRJFE9SVFT"
      },
      "source": [
        "**Filling empty cells in \"Transportation expense\" , \"Distance from Residence to Work\", \"Service time\", \"Age\", \"Work load Average/day\", \"HIT target\", \"Son\", \"Pet\" , \"Weight\" with mean**"
      ]
    },
    {
      "cell_type": "code",
      "execution_count": null,
      "metadata": {
        "colab": {
          "base_uri": "https://localhost:8080/"
        },
        "id": "DwbA4qiCfbJa",
        "outputId": "138d8d49-1a76-43a6-915b-61f0843b9269"
      },
      "outputs": [
        {
          "output_type": "execute_result",
          "data": {
            "text/plain": [
              "[('Reason for absence', 3),\n",
              " ('Month of absence', 1),\n",
              " ('Transportation expense', 6),\n",
              " ('Distance from Residence to Work', 3),\n",
              " ('Service time', 3),\n",
              " ('Age', 2),\n",
              " ('Work load Average/day', 8),\n",
              " ('Hit target', 6),\n",
              " ('Disciplinary failure', 5),\n",
              " ('Education', 10),\n",
              " ('Son', 6),\n",
              " ('Social drinker', 3),\n",
              " ('Social smoker', 3),\n",
              " ('Pet', 2),\n",
              " ('Height', 12)]"
            ]
          },
          "metadata": {},
          "execution_count": 12
        }
      ],
      "source": [
        "empty_cells(df)"
      ]
    },
    {
      "cell_type": "code",
      "execution_count": null,
      "metadata": {
        "id": "WBT1UgE2aMOL"
      },
      "outputs": [],
      "source": [
        "def fillna_mean(df, column_name):\n",
        "    \"\"\"\n",
        "    Get a column from a dataframe and fill empty rows with the average of that column\n",
        "    \"\"\"\n",
        "    column = df[column_name]\n",
        "    df[column_name] = column.fillna(column.mean())\n",
        "    return df\n",
        "\n",
        "def fill_null_with_normal_distribution(df, column_name):\n",
        "    \"\"\"\n",
        "    Fill null cells in a column with normal distribution\n",
        "    \"\"\"\n",
        "    mean = df[column_name].mean()\n",
        "    std = df[column_name].std()\n",
        "    null_count = df[column_name].isnull().sum()\n",
        "    random_list = np.random.randn(null_count)\n",
        "    random_list = random_list * std + mean\n",
        "    random_list = random_list.round().astype(int)\n",
        "    df.loc[df[column_name].isnull(), column_name] = random_list\n",
        "    return df\n",
        "\n",
        "df = fill_null_with_normal_distribution(df, 'Reason for absence')\n",
        "df = fill_null_with_normal_distribution(df, 'Month of absence')\n",
        "df = fill_null_with_normal_distribution(df, 'Transportation expense')\n",
        "df = fill_null_with_normal_distribution(df, 'Distance from Residence to Work')\n",
        "df = fill_null_with_normal_distribution(df, 'Service time')\n",
        "df = fill_null_with_normal_distribution(df, 'Age')\n",
        "df = fillna_mean(df, 'Work load Average/day')\n",
        "df = fill_null_with_normal_distribution(df, 'Hit target')\n",
        "df = fill_null_with_normal_distribution(df, 'Disciplinary failure')\n",
        "df = fill_null_with_normal_distribution(df, 'Education')\n",
        "df = fill_null_with_normal_distribution(df, 'Son')\n",
        "df = fill_null_with_normal_distribution(df, 'Social drinker')\n",
        "df = fill_null_with_normal_distribution(df, 'Social smoker')\n",
        "df = fill_null_with_normal_distribution(df, 'Pet')\n",
        "df = fill_null_with_normal_distribution(df, 'Height')"
      ]
    },
    {
      "cell_type": "markdown",
      "metadata": {
        "id": "ndHqgD08d0R4"
      },
      "source": [
        "**Finding outliners and noises in data and removing them**"
      ]
    },
    {
      "cell_type": "code",
      "execution_count": null,
      "metadata": {
        "id": "iDFqQJ89d0qH"
      },
      "outputs": [],
      "source": [
        "def find_outliners(df, col):\n",
        "    q1 = df[col].quantile(0.25)\n",
        "    q3 = df[col].quantile(0.75)\n",
        "    iqr = q3 - q1\n",
        "    lower_bound = q1 - (1.5 * iqr)\n",
        "    upper_bound = q3 + (1.5 * iqr)\n",
        "    return df[(df[col] < lower_bound) | (df[col] > upper_bound)]\n",
        "\n",
        "Absenteeism_outliners   = find_outliners(df, 'Absenteeism time in hours')\n",
        "df.drop(Absenteeism_outliners.index.tolist(),  inplace=True)\n",
        "\n",
        "load_outliners          = find_outliners(df, 'Work load Average/day')\n",
        "df.drop(load_outliners.index.tolist(),         inplace=True)\n",
        "\n",
        "Service_outliners       = find_outliners(df, 'Service time')\n",
        "df.drop(Service_outliners.index.tolist(),      inplace=True)\n",
        "\n",
        "Age_outliners           = find_outliners(df, 'Age')\n",
        "df.drop(Age_outliners.index.tolist(),          inplace=True)\n",
        "\n",
        "Transportation_outliners= find_outliners(df, 'Transportation expense')\n",
        "df.drop(Transportation_outliners.index.tolist(),  inplace=True)\n",
        "\n",
        "Distance_outliners= find_outliners(df, 'Distance from Residence to Work')\n",
        "df.drop(Distance_outliners.index.tolist(),  inplace=True)\n",
        "\n",
        "Hit_outliners= find_outliners(df, 'Hit target')\n",
        "df.drop(Hit_outliners.index.tolist(),  inplace=True)\n",
        "\n",
        "Son_outliners= find_outliners(df, 'Son')\n",
        "df.drop(Son_outliners.index.tolist(),  inplace=True)\n",
        "\n",
        "Height_outliners= find_outliners(df, 'Height')\n",
        "df.drop(Height_outliners.index.tolist(),  inplace=True)"
      ]
    },
    {
      "cell_type": "markdown",
      "metadata": {
        "id": "BL9BSiP4Pmg0"
      },
      "source": [
        "**Removing least coorelated columns with the 'Absenteeism time in hours' column**"
      ]
    },
    {
      "cell_type": "code",
      "execution_count": null,
      "metadata": {
        "colab": {
          "base_uri": "https://localhost:8080/"
        },
        "id": "HGm03LDlPpdp",
        "outputId": "11329cb9-2344-40bb-d8fe-ffaa7ca9364f"
      },
      "outputs": [
        {
          "output_type": "execute_result",
          "data": {
            "text/plain": [
              "Distance from Residence to Work    0.001617\n",
              "Hit target                         0.002684\n",
              "Month of absence                   0.005462\n",
              "Education                          0.006679\n",
              "Service time                       0.010298\n",
              "Name: Absenteeism time in hours, dtype: float64"
            ]
          },
          "metadata": {},
          "execution_count": 15
        }
      ],
      "source": [
        "def least_correlated(df, col):\n",
        "    corr_matrix = df.corr().abs()\n",
        "    corr_col = corr_matrix[col].sort_values(ascending=True)\n",
        "    return corr_col[:5]\n",
        "\n",
        "least_correlated(df, 'Absenteeism time in hours')"
      ]
    },
    {
      "cell_type": "markdown",
      "metadata": {
        "id": "JVPgMuBePwKz"
      },
      "source": [
        "Least coorelated columns have really low coorelation with the target, so we can remove them"
      ]
    },
    {
      "cell_type": "code",
      "source": [
        "def remove_columns(df, col_list):\n",
        "    df.drop(col_list, axis=1, inplace=True)\n",
        "    return df\n",
        "\n",
        "not_coorelated_columns =  least_correlated(df, 'Absenteeism time in hours').axes[0]\n",
        "not_coorelated_columns =  [not_coorelated_columns[i] for i in range(4)]\n",
        "df                     =  remove_columns(df, not_coorelated_columns)"
      ],
      "metadata": {
        "id": "Mn1QNjKXpe_c"
      },
      "execution_count": null,
      "outputs": []
    },
    {
      "cell_type": "markdown",
      "metadata": {
        "id": "b4VshhuAQrxb"
      },
      "source": [
        "**Spliting Dataset into Training set ( = X) and Test set ( = Y)**"
      ]
    },
    {
      "cell_type": "code",
      "execution_count": null,
      "metadata": {
        "id": "RuMDGpH3Qtjy"
      },
      "outputs": [],
      "source": [
        "X = df.iloc[:,:-1]\n",
        "Y = df.iloc[:,-1]"
      ]
    },
    {
      "cell_type": "markdown",
      "metadata": {
        "id": "mGbFjr03hp4m"
      },
      "source": [
        "**Normalizing numerical columns**"
      ]
    },
    {
      "cell_type": "code",
      "execution_count": null,
      "metadata": {
        "id": "l_GxCglZhIgZ"
      },
      "outputs": [],
      "source": [
        "def normalize_columns(df, columns):\n",
        "    \"\"\"\n",
        "    Normalize specific columns in a dataframe\n",
        "    \"\"\"\n",
        "    for column in columns :\n",
        "        if column in df.columns.values.tolist():\n",
        "          df[column] = (df[column] - df[column].mean()) / df[column].std()\n",
        "    return df\n",
        "\n",
        "X = normalize_columns(X, [\"Transportation expense\",  \"Age\", \"Distance from Residence to Work\" ,\"Work load Average/day\", \"Son\", \"Height\", \"Body mass index\"])"
      ]
    },
    {
      "cell_type": "markdown",
      "source": [
        "**discretizing Data in Y into 10 categories**"
      ],
      "metadata": {
        "id": "UVIBiJwv2iq3"
      }
    },
    {
      "cell_type": "code",
      "source": [
        "df['Absenteeism time in hours'].plot(kind='hist')\n",
        "\n",
        "# Display the plot\n",
        "plt.show()"
      ],
      "metadata": {
        "colab": {
          "base_uri": "https://localhost:8080/",
          "height": 265
        },
        "id": "VxR9TmxFTKO_",
        "outputId": "05e60d1a-681b-4514-af19-f8a3c69bc1d3"
      },
      "execution_count": null,
      "outputs": [
        {
          "output_type": "display_data",
          "data": {
            "text/plain": [
              "<Figure size 432x288 with 1 Axes>"
            ],
            "image/png": "[encoded data removed]"
          },
          "metadata": {
            "needs_background": "light"
          }
        }
      ]
    },
    {
      "cell_type": "code",
      "source": [
        "df['Absenteeism time in hours'] = df['Absenteeism time in hours'].apply(lambda x: 0 if x <= 8  else x)\n",
        "df['Absenteeism time in hours'] = df['Absenteeism time in hours'].apply(lambda x: 1 if 8 < x else x)"
      ],
      "metadata": {
        "id": "nrh5xGsYVp84"
      },
      "execution_count": null,
      "outputs": []
    },
    {
      "cell_type": "code",
      "source": [
        "df['Absenteeism time in hours'].plot(kind='hist')\n",
        "\n",
        "# Display the plot\n",
        "plt.show()"
      ],
      "metadata": {
        "colab": {
          "base_uri": "https://localhost:8080/",
          "height": 265
        },
        "id": "V7M0OI5IX0yY",
        "outputId": "ff2844fd-022d-4839-d682-960fe692faf8"
      },
      "execution_count": null,
      "outputs": [
        {
          "output_type": "display_data",
          "data": {
            "text/plain": [
              "<Figure size 432x288 with 1 Axes>"
            ],
            "image/png": "[encoded data removed]"
          },
          "metadata": {
            "needs_background": "light"
          }
        }
      ]
    },
    {
      "cell_type": "markdown",
      "source": [
        "**Resolving the data unbalancity using SMOTE**"
      ],
      "metadata": {
        "id": "J7xbocpjGyay"
      }
    },
    {
      "cell_type": "code",
      "source": [
        "!pip install imbalanced-learn"
      ],
      "metadata": {
        "id": "E2mvW3NGG-YN"
      },
      "execution_count": null,
      "outputs": []
    },
    {
      "cell_type": "code",
      "source": [
        "import imblearn\n",
        "import random\n",
        "from sklearn.model_selection import train_test_split\n",
        "from imblearn.over_sampling import SMOTE\n",
        "from imblearn.over_sampling import RandomOverSampler \n",
        "from collections import Counter"
      ],
      "metadata": {
        "id": "EE03c0PGHJ3W"
      },
      "execution_count": null,
      "outputs": []
    },
    {
      "cell_type": "markdown",
      "source": [
        "Number of each category"
      ],
      "metadata": {
        "id": "0rJTNK3iOAAZ"
      }
    },
    {
      "cell_type": "code",
      "source": [
        "print('Original dataset shape %s' % Counter(Y))"
      ],
      "metadata": {
        "colab": {
          "base_uri": "https://localhost:8080/"
        },
        "id": "hqLTTAfXN9Lw",
        "outputId": "02cd6a8f-8327-448a-f5e2-44bfda2dc330"
      },
      "execution_count": null,
      "outputs": [
        {
          "output_type": "stream",
          "name": "stdout",
          "text": [
            "Original dataset shape Counter({0.0: 488, 1.0: 12})\n"
          ]
        }
      ]
    },
    {
      "cell_type": "code",
      "source": [
        "ros    = RandomOverSampler(random_state=42)\n",
        "X, Y   = ros.fit_resample(X, Y)"
      ],
      "metadata": {
        "id": "LX4oRkYtORTO"
      },
      "execution_count": null,
      "outputs": []
    },
    {
      "cell_type": "code",
      "source": [
        "print('Resampled dataset shape %s' % Counter(Y))"
      ],
      "metadata": {
        "colab": {
          "base_uri": "https://localhost:8080/"
        },
        "id": "uzTenebdOY1i",
        "outputId": "3f6c6837-52b2-4195-8793-8933b6d6bddb"
      },
      "execution_count": null,
      "outputs": [
        {
          "output_type": "stream",
          "name": "stdout",
          "text": [
            "Resampled dataset shape Counter({0.0: 488, 1.0: 488})\n"
          ]
        }
      ]
    },
    {
      "cell_type": "code",
      "source": [
        "Y.plot(kind='hist')\n",
        "\n",
        "# Display the plot\n",
        "plt.show()"
      ],
      "metadata": {
        "colab": {
          "base_uri": "https://localhost:8080/",
          "height": 265
        },
        "id": "cMklMVXy-fM-",
        "outputId": "56230f4e-a177-47ff-b296-612c4634cae0"
      },
      "execution_count": null,
      "outputs": [
        {
          "output_type": "display_data",
          "data": {
            "text/plain": [
              "<Figure size 432x288 with 1 Axes>"
            ],
            "image/png": "[encoded data removed]"
          },
          "metadata": {
            "needs_background": "light"
          }
        }
      ]
    },
    {
      "cell_type": "markdown",
      "source": [
        "**split dataframe into train set and test set randomly**"
      ],
      "metadata": {
        "id": "sCsauKM59N7p"
      }
    },
    {
      "cell_type": "code",
      "source": [
        "def split_train_test(data, test_ratio):\n",
        "    shuffled_indices = np.random.permutation(len(data))\n",
        "    test_set_size = int(len(data) * test_ratio)\n",
        "    test_indices = shuffled_indices[:test_set_size]\n",
        "    train_indices = shuffled_indices[test_set_size:]\n",
        "    return train_indices, test_indices\n",
        "\n",
        "dataset = pd.concat([X, Y], axis=1)\n",
        "train_indices , test_indices = split_train_test(dataset, 0.2)\n",
        "\n",
        "X_train                      = X.iloc[train_indices]\n",
        "Y_train                      = Y.iloc[train_indices]\n",
        "\n",
        "X_test                       = X.iloc[test_indices]\n",
        "Y_test                       = Y.iloc[test_indices]\n",
        "\n",
        "df_train                     = dataset.iloc[train_indices]\n",
        "df_test                      = dataset.iloc[test_indices]"
      ],
      "metadata": {
        "id": "3zdQbOTx8F2F"
      },
      "execution_count": null,
      "outputs": []
    },
    {
      "cell_type": "markdown",
      "source": [
        "# Implementing K-NN alghorithm"
      ],
      "metadata": {
        "id": "wOGcKYZX-V6i"
      }
    },
    {
      "cell_type": "markdown",
      "source": [
        "**1 - The first step is to calculate the distance between two rows in a dataset.**"
      ],
      "metadata": {
        "id": "VRjmVp5rUFIh"
      }
    },
    {
      "cell_type": "code",
      "source": [
        "\"\"\"\n",
        "Euclidean distance between two vectors\n",
        "\"\"\"\n",
        "\n",
        "def euclidean_distance(x, y):\n",
        "    x , y  = np.array(x), np.array(y)\n",
        "    return np.sqrt(np.sum((x - y) ** 2))\n",
        "\n",
        "\"\"\"\n",
        "Manhattan distance between two vectors\n",
        "\"\"\"\n",
        "def manhattan_distance(x, y):\n",
        "    x , y  = np.array(x), np.array(y)\n",
        "    return np.sum(np.abs(x - y))\n",
        "\n",
        "\"\"\"\n",
        "Chebyshev distance between two vectors\n",
        "\"\"\"\n",
        "def chebyshev_distance(x, y):\n",
        "    x , y  = np.array(x), np.array(y)\n",
        "    return np.max(np.abs(x - y))\n",
        "\n",
        "\"\"\"\n",
        "Minkowski distance between two vectors\n",
        "\"\"\"\n",
        "def minkowski_distance(x, y, p=3):\n",
        "    x , y  = np.array(x), np.array(y)\n",
        "    return np.sum(np.abs(x - y) ** p) ** (1 / p)"
      ],
      "metadata": {
        "id": "wBL6-867-Vru"
      },
      "execution_count": null,
      "outputs": []
    },
    {
      "cell_type": "markdown",
      "source": [
        "**2 - Get Nearest Neighbors**"
      ],
      "metadata": {
        "id": "t5tRossrUW6J"
      }
    },
    {
      "cell_type": "code",
      "source": [
        "def df_to_list(df):\n",
        "    \"\"\"\n",
        "    Convert a dataframe to a list\n",
        "    \"\"\"\n",
        "    return df.values.tolist()"
      ],
      "metadata": {
        "id": "AFnftv__dp60"
      },
      "execution_count": null,
      "outputs": []
    },
    {
      "cell_type": "code",
      "source": [
        "def get_neighbors(train, test_row, num_neighbors, distance_function):\n",
        "    distances = list()\n",
        "    row_indx  = 0\n",
        "    train, test_row  = df_to_list(train), df_to_list(test_row)\n",
        "    for train_row in train:\n",
        "        dist = distance_function(test_row, train_row)\n",
        "        distances.append((train_row, row_indx , dist))\n",
        "        row_indx += 1\n",
        "    distances.sort(key=lambda tup: tup[2])\n",
        "    neighbors = list()\n",
        "    for i in range(num_neighbors):\n",
        "        neighbors.append((distances[i][0], distances[i][1]))\n",
        "    return neighbors"
      ],
      "metadata": {
        "id": "_oPe3tuREv8e"
      },
      "execution_count": null,
      "outputs": []
    },
    {
      "cell_type": "markdown",
      "source": [
        "**3 - Make Predictions**"
      ],
      "metadata": {
        "id": "vyVNqzgbUcgf"
      }
    },
    {
      "cell_type": "code",
      "source": [
        "def predict_classification(X, Y , X_row, num_neighbors, distance_function):\n",
        "    Y             = df_to_list(Y)\n",
        "    neighbors     = get_neighbors(X, X_row, num_neighbors, distance_function)\n",
        "    output_values = [Y[row[1]] for row in neighbors]\n",
        "    prediction    = max(set(output_values), key=output_values.count)\n",
        "    return prediction"
      ],
      "metadata": {
        "id": "z5Kz2SWoE-ed"
      },
      "execution_count": null,
      "outputs": []
    },
    {
      "cell_type": "code",
      "source": [
        "def k_nearest_neighbors(X, Y, X_test, num_neighbors, distance_function=euclidean_distance):\n",
        "\tpredictions = list()\n",
        "\t#X_test = df_to_list(X_test)\n",
        "\tfor indx in range(len(X_test.index)):\n",
        "\t\trow = X_test.iloc[indx]\n",
        "\t\toutput = predict_classification(X, Y, row, num_neighbors, distance_function)\n",
        "\t\tpredictions.append(output)\n",
        "\t\n",
        "  \n",
        "\treturn(predictions)"
      ],
      "metadata": {
        "id": "yZ1i2WxRFO6p"
      },
      "execution_count": null,
      "outputs": []
    },
    {
      "cell_type": "code",
      "source": [
        "from sklearn import metrics\n",
        "import seaborn as sns\n",
        "\n",
        "def plot_confusion_matrix(actual, predicted):\n",
        "  cf_matrix = metrics.confusion_matrix(actual, predicted)\n",
        "  ax = sns.heatmap(cf_matrix, annot=True, cmap='Blues')\n",
        "  ax.set_title('Confusion Matrix with labels\\n\\n');\n",
        "  ax.set_xlabel('\\nPredicted Category')\n",
        "  ax.set_ylabel('Actual Category ');\n",
        "  plt.show()\n",
        "  \n",
        "def accuracy_metric(actual, predicted):\n",
        "    correct = 0\n",
        "    for i in range(len(actual)):\n",
        "        if actual[i] == predicted[i]:\n",
        "            correct += 1\n",
        "    return correct / float(len(actual)) * 100.0"
      ],
      "metadata": {
        "id": "Kr7YDYE2FkK0"
      },
      "execution_count": null,
      "outputs": []
    },
    {
      "cell_type": "code",
      "source": [
        "predicted = k_nearest_neighbors(X_train, Y_train, X_test, 2)\n",
        "actual    = Y_test.values.tolist()\n",
        "accuracy  = accuracy_metric(actual, predicted)\n",
        "print(\"The confusion_matrix is :\\n\")\n",
        "plot_confusion_matrix(actual, predicted)\n",
        "print(\"----------------------------------\\n\")\n",
        "print(f\"the accuracy of the model is: {accuracy} \\n\")"
      ],
      "metadata": {
        "colab": {
          "base_uri": "https://localhost:8080/",
          "height": 444
        },
        "id": "AWLu2ZgFgu4E",
        "outputId": "59f5bdf8-f6ba-4a3b-c797-d3b9ce0fc7d7"
      },
      "execution_count": null,
      "outputs": [
        {
          "output_type": "stream",
          "name": "stdout",
          "text": [
            "The confusion_matrix is :\n",
            "\n"
          ]
        },
        {
          "output_type": "display_data",
          "data": {
            "text/plain": [
              "<Figure size 432x288 with 2 Axes>"
            ],
            "image/png": "[encoded data removed]"
          },
          "metadata": {
            "needs_background": "light"
          }
        },
        {
          "output_type": "stream",
          "name": "stdout",
          "text": [
            "----------------------------------\n",
            "\n",
            "the accuracy of the model is: 98.97435897435898 \n",
            "\n"
          ]
        }
      ]
    },
    {
      "cell_type": "markdown",
      "source": [
        "**Finding the optimal value of K by plotting for diffrent Ks**"
      ],
      "metadata": {
        "id": "zj5dyVmZo3Dv"
      }
    },
    {
      "cell_type": "code",
      "source": [
        "def accuracy_respect_K(k):\n",
        "  predicted = k_nearest_neighbors(X_train, Y_train, X_test, k)\n",
        "  actual    = Y_test.values.tolist()\n",
        "  return accuracy_metric(actual, predicted)"
      ],
      "metadata": {
        "id": "v1XNdvuBo79F"
      },
      "execution_count": null,
      "outputs": []
    },
    {
      "cell_type": "code",
      "source": [
        "import numpy as np\n",
        "import matplotlib.pyplot as plt\n",
        "\n",
        "def plot_function(f, xmin, xmax):\n",
        "    \"\"\"\n",
        "    Plot a function f(x) from xmin to xmax with npoints points\n",
        "    \"\"\"\n",
        "    x = np.arange(xmin, xmax + 1)\n",
        "    y = [f(xi) for xi in x]\n",
        "    plt.plot(x, y)\n",
        "    plt.show()"
      ],
      "metadata": {
        "id": "TgaYeE7CpNrL"
      },
      "execution_count": null,
      "outputs": []
    },
    {
      "cell_type": "code",
      "source": [
        "plot_function(accuracy_respect_K, 1, 30)"
      ],
      "metadata": {
        "colab": {
          "base_uri": "https://localhost:8080/",
          "height": 265
        },
        "id": "HYs4Cvjxpekw",
        "outputId": "d7a745f2-0212-4a27-c8d2-0df04772bed3"
      },
      "execution_count": null,
      "outputs": [
        {
          "output_type": "display_data",
          "data": {
            "text/plain": [
              "<Figure size 432x288 with 1 Axes>"
            ],
            "image/png": "[encoded data removed]"
          },
          "metadata": {
            "needs_background": "light"
          }
        }
      ]
    },
    {
      "cell_type": "markdown",
      "source": [
        "**Classification using scikit-learn KNN**"
      ],
      "metadata": {
        "id": "FebsU78nsFet"
      }
    },
    {
      "cell_type": "code",
      "source": [
        "from sklearn.neighbors import KNeighborsClassifier\n",
        "from sklearn import metrics\n",
        "\n",
        "range_k = range(1,30)\n",
        "scores = {}\n",
        "scores_list = []\n",
        "for k in range_k:\n",
        "   classifier = KNeighborsClassifier(n_neighbors=k)\n",
        "   classifier.fit(X_train, Y_train)\n",
        "   y_pred = classifier.predict(X_test)\n",
        "   scores[k] = metrics.accuracy_score(Y_test,y_pred)\n",
        "   scores_list.append(metrics.accuracy_score(Y_test,y_pred))\n",
        "result = metrics.confusion_matrix(Y_test, y_pred)\n",
        "print(\"Confusion Matrix:\")\n",
        "print(result)\n",
        "result1 = metrics.classification_report(Y_test, y_pred)\n",
        "print(\"Classification Report:\",)\n",
        "print (result1)"
      ],
      "metadata": {
        "colab": {
          "base_uri": "https://localhost:8080/"
        },
        "id": "2FUPPFxdsFwR",
        "outputId": "0450ed4a-d942-405e-b0b4-73c6dac4afd3"
      },
      "execution_count": null,
      "outputs": [
        {
          "output_type": "stream",
          "name": "stdout",
          "text": [
            "Confusion Matrix:\n",
            "[[71 31]\n",
            " [ 0 93]]\n",
            "Classification Report:\n",
            "              precision    recall  f1-score   support\n",
            "\n",
            "         0.0       1.00      0.70      0.82       102\n",
            "         1.0       0.75      1.00      0.86        93\n",
            "\n",
            "    accuracy                           0.84       195\n",
            "   macro avg       0.88      0.85      0.84       195\n",
            "weighted avg       0.88      0.84      0.84       195\n",
            "\n"
          ]
        }
      ]
    },
    {
      "cell_type": "markdown",
      "source": [
        "**Finding the optimal number of neighbors in the K-NN alghorithm using K-fold cross validation**"
      ],
      "metadata": {
        "id": "OzNfojGgBCK8"
      }
    },
    {
      "cell_type": "code",
      "source": [
        "from sklearn.model_selection import cross_val_score\n",
        "def find_optimal_k(X, y, k_fold):\n",
        "    k_range = range(1, 31)\n",
        "    k_scores = []\n",
        "    for k in k_range:\n",
        "        knn = KNeighborsClassifier(n_neighbors=k)\n",
        "        scores = cross_val_score(knn, X, y, cv=k_fold, scoring='accuracy')\n",
        "        k_scores.append(scores.mean())\n",
        "    print(k_scores)\n",
        "    plt.plot(k_range, k_scores)\n",
        "    plt.xlabel('Value of K for KNN')\n",
        "    plt.ylabel('Cross-Validated Accuracy')\n",
        "    plt.show()"
      ],
      "metadata": {
        "id": "KTVbBhVeA9Gn"
      },
      "execution_count": null,
      "outputs": []
    },
    {
      "cell_type": "code",
      "source": [
        "find_optimal_k(X, Y, 10)"
      ],
      "metadata": {
        "colab": {
          "base_uri": "https://localhost:8080/",
          "height": 317
        },
        "id": "lHJ13I36BHyH",
        "outputId": "6fa2bff5-ecb4-45d3-afcb-999c0f0507ff"
      },
      "execution_count": null,
      "outputs": [
        {
          "output_type": "stream",
          "name": "stdout",
          "text": [
            "[0.965190406059331, 0.9406059330948875, 0.9662213338943826, 0.9662213338943826, 0.9559436145592258, 0.9559436145592258, 0.9477277508941722, 0.9477277508941722, 0.9323585104144752, 0.9323585104144752, 0.9210709025878394, 0.9210709025878394, 0.9057121817799285, 0.9057121817799285, 0.8975068377866611, 0.8975068377866611, 0.8923837576267621, 0.8923837576267621, 0.8852093414685462, 0.8852093414685462, 0.8800967809804334, 0.8800967809804334, 0.869840100988849, 0.869840100988849, 0.8636860929938985, 0.8636860929938985, 0.853418893330528, 0.853418893330528, 0.8441721018304229, 0.8441721018304229]\n"
          ]
        },
        {
          "output_type": "display_data",
          "data": {
            "text/plain": [
              "<Figure size 432x288 with 1 Axes>"
            ],
            "image/png": "[encoded data removed]"
          },
          "metadata": {
            "needs_background": "light"
          }
        }
      ]
    },
    {
      "cell_type": "markdown",
      "source": [
        "# Decision Tree"
      ],
      "metadata": {
        "id": "0CJOQ3RtD4W3"
      }
    },
    {
      "cell_type": "code",
      "source": [
        "from sklearn.tree import DecisionTreeClassifier\n",
        "from sklearn.metrics import accuracy_score\n",
        "from sklearn import tree"
      ],
      "metadata": {
        "id": "VHNXxLooEFlZ"
      },
      "execution_count": null,
      "outputs": []
    },
    {
      "cell_type": "code",
      "source": [
        "def apply_decision_tree(X_train, X_test, y_train, y_test, max_depth):\n",
        "    \n",
        "    # Create the decision tree\n",
        "    dt = DecisionTreeClassifier(max_depth=max_depth, random_state=0)\n",
        "    \n",
        "    # Fit the decision tree on the train set\n",
        "    model = dt.fit(X_train, y_train)\n",
        "    \n",
        "    # Predict the target variable on the test set\n",
        "    y_pred = dt.predict(X_test)\n",
        "\n",
        "    # Calculate the accuracy\n",
        "    accuracy = accuracy_score(y_test, y_pred)\n",
        "    print(\"The confusion_matrix is :\\n\")\n",
        "    plot_confusion_matrix(y_test, y_pred)\n",
        "    print(\"----------------------------------\\n\")\n",
        "    \n",
        "    # Create a dataframe with the predicted target variable\n",
        "    data_pred = pd.DataFrame({'y_pred': y_pred, 'y_true':y_test})\n",
        "\n",
        "    # Calculate feature importances\n",
        "    importances = model.feature_importances_\n",
        "\n",
        "    # Sort feature importances in descending order\n",
        "    indices = np.argsort(importances)[::-1]\n",
        "\n",
        "    # Rearrange feature names so they match the sorted feature importances\n",
        "    names = [X_train.columns[i] for i in indices]\n",
        "\n",
        "    # Create plot\n",
        "    plt.figure()\n",
        "\n",
        "    # Create plot title\n",
        "    plt.title(\"Feature Importance\")\n",
        "\n",
        "    # Add bars\n",
        "    plt.bar(range(X_train.shape[1]), importances[indices])\n",
        "\n",
        "    # Add feature names as x-axis labels\n",
        "    plt.xticks(range(X_train.shape[1]), names, rotation=90)\n",
        "\n",
        "    # Show plot\n",
        "    print(\"The feature importances chart :\\n\")\n",
        "    plt.show()\n",
        "    print(\"----------------------------------\\n\")\n",
        "\n",
        "    # Print accuracy\n",
        "    print(f\"the accuracy of the model is: {accuracy} \\n\")\n",
        "    print(\"----------------------------------\\n\")\n",
        "\n",
        "    \n",
        "    # Return the dataframe\n",
        "    return data_pred, accuracy , dt"
      ],
      "metadata": {
        "id": "vnsja8ygEYJI"
      },
      "execution_count": null,
      "outputs": []
    },
    {
      "cell_type": "code",
      "source": [
        "data_pred, accuracy , dt = apply_decision_tree(X_train, X_test, Y_train, Y_test,3)"
      ],
      "metadata": {
        "colab": {
          "base_uri": "https://localhost:8080/",
          "height": 922
        },
        "id": "kHa4cMttF571",
        "outputId": "173003ae-cab1-40db-e087-aaf9c91a5fbb"
      },
      "execution_count": null,
      "outputs": [
        {
          "output_type": "stream",
          "name": "stdout",
          "text": [
            "The confusion_matrix is :\n",
            "\n"
          ]
        },
        {
          "output_type": "display_data",
          "data": {
            "text/plain": [
              "<Figure size 432x288 with 2 Axes>"
            ],
            "image/png": "[encoded data removed]"
          },
          "metadata": {
            "needs_background": "light"
          }
        },
        {
          "output_type": "stream",
          "name": "stdout",
          "text": [
            "----------------------------------\n",
            "\n",
            "The feature importances chart :\n",
            "\n"
          ]
        },
        {
          "output_type": "display_data",
          "data": {
            "text/plain": [
              "<Figure size 432x288 with 1 Axes>"
            ],
            "image/png": "[encoded data removed]"
          },
          "metadata": {
            "needs_background": "light"
          }
        },
        {
          "output_type": "stream",
          "name": "stdout",
          "text": [
            "----------------------------------\n",
            "\n",
            "the accuracy of the model is: 0.7948717948717948 \n",
            "\n",
            "----------------------------------\n",
            "\n"
          ]
        }
      ]
    },
    {
      "cell_type": "markdown",
      "source": [
        "**Dispalying the Decetion Tree**"
      ],
      "metadata": {
        "id": "TcycbLU0Kf9A"
      }
    },
    {
      "cell_type": "code",
      "source": [
        "tree.plot_tree(dt)\n",
        "plt.show()"
      ],
      "metadata": {
        "colab": {
          "base_uri": "https://localhost:8080/",
          "height": 248
        },
        "id": "2wGSMI1fJkLO",
        "outputId": "e3ed1666-e4f1-4d0f-c5ab-275399850b7a"
      },
      "execution_count": null,
      "outputs": [
        {
          "output_type": "display_data",
          "data": {
            "text/plain": [
              "<Figure size 432x288 with 1 Axes>"
            ],
            "image/png": "[encoded data removed]"
          },
          "metadata": {
            "needs_background": "light"
          }
        }
      ]
    },
    {
      "cell_type": "code",
      "source": [
        "X.axes"
      ],
      "metadata": {
        "id": "cr42OiMtNA3J",
        "outputId": "6df40f87-ac6b-40b7-bb6f-bea21f99b33d",
        "colab": {
          "base_uri": "https://localhost:8080/"
        }
      },
      "execution_count": null,
      "outputs": [
        {
          "output_type": "execute_result",
          "data": {
            "text/plain": [
              "[RangeIndex(start=0, stop=976, step=1),\n",
              " Index(['ID', 'Reason for absence', 'Day of the week', 'Seasons',\n",
              "        'Transportation expense', 'Service time', 'Age',\n",
              "        'Work load Average/day', 'Disciplinary failure', 'Son',\n",
              "        'Social drinker', 'Social smoker', 'Pet', 'Height', 'Body mass index'],\n",
              "       dtype='object')]"
            ]
          },
          "metadata": {},
          "execution_count": 48
        }
      ]
    },
    {
      "cell_type": "markdown",
      "source": [
        ""
      ],
      "metadata": {
        "id": "0mGD-0sIbRvq"
      }
    },
    {
      "cell_type": "code",
      "source": [
        "from sklearn.model_selection import GridSearchCV\n",
        "def optimal_depth(X, y):\n",
        "    \"\"\"\n",
        "    Finds the optimal depth for a decision tree.\n",
        "    \n",
        "    INPUT: Decision tree classifier, X, y\n",
        "    OUTPUT: Optimal depth of the tree\n",
        "    \n",
        "    \"\"\"\n",
        "    # Create a list of depths to choose from\n",
        "    depths = np.arange(1, 15)\n",
        "\n",
        "    # Convert to dictionary for grid search, still need to specify cv\n",
        "    parameters = {'max_depth': depths}\n",
        "\n",
        "    # Perform grid search using list of depths\n",
        "    grid = GridSearchCV(DecisionTreeClassifier(), parameters, cv=10)\n",
        "    grid.fit(X, y)\n",
        "\n",
        "    # Return the optimal depth\n",
        "    return grid.best_params_['max_depth'], grid"
      ],
      "metadata": {
        "id": "GpirldTObOv9"
      },
      "execution_count": null,
      "outputs": []
    },
    {
      "cell_type": "code",
      "source": [
        "max_depth, grid = optimal_depth(X, Y)\n",
        "print(\"The optimal maximum depth is: \" + str(max_depth))\n",
        "\n",
        "# Plot the results\n",
        "plt.plot(np.arange(1, 15), grid.cv_results_['mean_test_score'])\n",
        "plt.xlabel('Maximum depth')\n",
        "plt.ylabel('Accuracy')\n",
        "plt.show()"
      ],
      "metadata": {
        "colab": {
          "base_uri": "https://localhost:8080/",
          "height": 297
        },
        "id": "lEENzF_3bib9",
        "outputId": "e82deacc-d5f3-4e21-e935-7e1b49bc080f"
      },
      "execution_count": null,
      "outputs": [
        {
          "output_type": "stream",
          "name": "stdout",
          "text": [
            "The optimal maximum depth is: 14\n"
          ]
        },
        {
          "output_type": "display_data",
          "data": {
            "text/plain": [
              "<Figure size 432x288 with 1 Axes>"
            ],
            "image/png": "[encoded data removed]"
          },
          "metadata": {
            "needs_background": "light"
          }
        }
      ]
    },
    {
      "cell_type": "markdown",
      "source": [
        "# BaggingClassifier"
      ],
      "metadata": {
        "id": "96PvXf5Gfib8"
      }
    },
    {
      "cell_type": "code",
      "source": [
        "from sklearn.ensemble import BaggingClassifier\n",
        "def fit_bagging(x_train, x_test, y_train, y_test):\n",
        "    bagging = BaggingClassifier(base_estimator=DecisionTreeClassifier())\n",
        "    bagging.fit(X_train, Y_train)\n",
        "    y_pred  = bagging.predict(x_test)\n",
        "    accuracy = accuracy_score(y_test, y_pred)\n",
        "    print(\"The confusion_matrix is :\\n\")\n",
        "    plot_confusion_matrix(y_test, y_pred)\n",
        "    print(\"----------------------------------\\n\")\n",
        "    print(f\"the accuracy of the model is: {accuracy} \\n\")\n",
        "    return bagging\n",
        "\n",
        "model = fit_bagging(X_train, X_test, Y_train, Y_test)"
      ],
      "metadata": {
        "colab": {
          "base_uri": "https://localhost:8080/",
          "height": 444
        },
        "id": "q2ges_f2ddvy",
        "outputId": "6a5f129a-a9b5-466f-c766-7c3c717d51bb"
      },
      "execution_count": null,
      "outputs": [
        {
          "output_type": "stream",
          "name": "stdout",
          "text": [
            "The confusion_matrix is :\n",
            "\n"
          ]
        },
        {
          "output_type": "display_data",
          "data": {
            "text/plain": [
              "<Figure size 432x288 with 2 Axes>"
            ],
            "image/png": "[encoded data removed]"
          },
          "metadata": {
            "needs_background": "light"
          }
        },
        {
          "output_type": "stream",
          "name": "stdout",
          "text": [
            "----------------------------------\n",
            "\n",
            "the accuracy of the model is: 0.9794871794871794 \n",
            "\n"
          ]
        }
      ]
    },
    {
      "cell_type": "markdown",
      "source": [
        "# Bayes Classifier"
      ],
      "metadata": {
        "id": "zsNR-YMyLydr"
      }
    },
    {
      "cell_type": "markdown",
      "source": [
        "**Custom naive bayes model from scratch**"
      ],
      "metadata": {
        "id": "7ddMaAGRSs4E"
      }
    },
    {
      "cell_type": "code",
      "source": [
        "def train_bayes_classifier(dataset):\n",
        "    # Get the number of features in the dataset.\n",
        "    num_features = len(dataset.columns.values.tolist()) - 1\n",
        "\n",
        "    # Get the number of classes in the dataset.\n",
        "    num_classes = len(set([row[-1] for row in dataset]))\n",
        "\n",
        "    # Initialize the class probabilities.\n",
        "    class_probs = [0 for i in range(num_classes)]\n",
        "\n",
        "    # Initialize the feature probabilities.\n",
        "    feature_probs = [[[0 for i in range(num_classes)] for j in range(num_features)] for k in range(2)]\n",
        "\n",
        "    # Count the number of examples in each class.\n",
        "    for row in dataset:\n",
        "        print(row[-1])\n",
        "        class_probs[row[-1]] += 1\n",
        "\n",
        "    # Calculate the class probabilities.\n",
        "    for i in range(num_classes):\n",
        "        class_probs[i] /= float(len(dataset))\n",
        "\n",
        "    # Count the number of examples with each feature value for each class.\n",
        "    for row in dataset:\n",
        "        for i in range(num_features):\n",
        "            feature_probs[row[i]][i][row[-1]] += 1\n",
        "\n",
        "    # Calculate the feature probabilities.\n",
        "    for i in range(2):\n",
        "        for j in range(num_features):\n",
        "            for k in range(num_classes):\n",
        "                feature_probs[i][j][k] /= float(class_probs[k] * len(dataset))\n",
        "\n",
        "    return class_probs, feature_probs\n",
        "\n",
        "\n",
        "def predict_bayes(class_probs, feature_probs, row):\n",
        "    \n",
        "    # Initialize the class probabilities.\n",
        "    probs = [0 for i in range(len(class_probs))]\n",
        "\n",
        "    # Calculate the class probabilities.\n",
        "    for i in range(len(class_probs)):\n",
        "        probs[i] = class_probs[i]\n",
        "        for j in range(len(row) - 1):\n",
        "            probs[i] *= feature_probs[row[j]][j][i]\n",
        "\n",
        "    # Return the class with the highest probability.\n",
        "    return probs.index(max(probs))\n",
        "\n",
        "def evaluate_bayes(class_probs, feature_probs, dataset):\n",
        "    \n",
        "    # Initialize the predictions.\n",
        "    predictions = list()\n",
        "\n",
        "    # Make predictions with the bayes classifier.\n",
        "    for row in dataset:\n",
        "        prediction = predict_bayes(class_probs, feature_probs, row)\n",
        "        predictions.append(prediction)\n",
        "\n",
        "    # Return the predictions.\n",
        "    return predictions"
      ],
      "metadata": {
        "id": "MxNhq65OLy2c"
      },
      "execution_count": null,
      "outputs": []
    },
    {
      "cell_type": "markdown",
      "source": [
        "**Using scikit-learn library**"
      ],
      "metadata": {
        "id": "de1uADySepLQ"
      }
    },
    {
      "cell_type": "code",
      "source": [
        "from sklearn.naive_bayes import GaussianNB\n",
        "def train_model(x_train, x_test, y_train, y_test):\n",
        "    # Create the model\n",
        "    model = GaussianNB()\n",
        "    # Train the model\n",
        "    model.fit(x_train, y_train)\n",
        "    #Predict using the model\n",
        "    y_pred  = model.predict(x_test)\n",
        "    #Evaluate the model\n",
        "    acuuracy =  accuracy_score(y_test, y_pred)\n",
        "    print(\"The confusion_matrix is :\\n\")\n",
        "    plot_confusion_matrix(y_test, y_pred)\n",
        "    print(\"----------------------------------\\n\")\n",
        "    print(f\"the accuracy of the model is: {accuracy} \\n\")\n",
        "    return model\n",
        "\n",
        "model = train_model(X_train, X_test, Y_train, Y_test)"
      ],
      "metadata": {
        "colab": {
          "base_uri": "https://localhost:8080/",
          "height": 444
        },
        "id": "aKvxdI5aSqve",
        "outputId": "69249ffa-146e-45de-dcd6-b44082a350ea"
      },
      "execution_count": null,
      "outputs": [
        {
          "output_type": "stream",
          "name": "stdout",
          "text": [
            "The confusion_matrix is :\n",
            "\n"
          ]
        },
        {
          "output_type": "display_data",
          "data": {
            "text/plain": [
              "<Figure size 432x288 with 2 Axes>"
            ],
            "image/png": "[encoded data removed]"
          },
          "metadata": {
            "needs_background": "light"
          }
        },
        {
          "output_type": "stream",
          "name": "stdout",
          "text": [
            "----------------------------------\n",
            "\n",
            "the accuracy of the model is: 0.7948717948717948 \n",
            "\n"
          ]
        }
      ]
    }
  ],
  "metadata": {
    "colab": {
      "collapsed_sections": [],
      "name": "DataMining-Ex3.ipynb",
      "provenance": [],
      "authorship_tag": "ABX9TyNkmQm/+dj90qtr0dSAWSFr",
      "include_colab_link": true
    },
    "kernelspec": {
      "display_name": "Python 3",
      "name": "python3"
    },
    "language_info": {
      "name": "python"
    }
  },
  "nbformat": 4,
  "nbformat_minor": 0
}